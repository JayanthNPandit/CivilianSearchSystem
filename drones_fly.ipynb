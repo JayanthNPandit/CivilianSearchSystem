{
  "nbformat": 4,
  "nbformat_minor": 0,
  "metadata": {
    "colab": {
      "provenance": []
    },
    "kernelspec": {
      "name": "python3",
      "display_name": "Python 3"
    },
    "language_info": {
      "name": "python"
    }
  },
  "cells": [
    {
      "cell_type": "code",
      "execution_count": null,
      "metadata": {
        "colab": {
          "base_uri": "https://localhost:8080/",
          "height": 430
        },
        "id": "WNMxCOJSp1fD",
        "outputId": "bbbcf199-562a-4baa-d061-12298c8b7d9e"
      },
      "outputs": [
        {
          "output_type": "display_data",
          "data": {
            "text/plain": [
              "<Figure size 640x480 with 1 Axes>"
            ],
            "image/png": "[encoded data removed]"
          },
          "metadata": {}
        }
      ],
      "source": [
        "import heapq\n",
        "import matplotlib.pyplot as plt\n",
        "import numpy as np\n",
        "\n",
        "# Create a 5x5 grid\n",
        "grid = [[0 for _ in range(5)] for _ in range(5)]\n",
        "\n",
        "# Display the grid using Matplotlib\n",
        "fig, ax = plt.subplots()\n",
        "ax.imshow(grid, cmap='gray', interpolation='nearest')\n",
        "plt.show()\n",
        "\n",
        "\n",
        "# Define the start and end points\n",
        "start = (0, 0)\n",
        "end = (5, 5)\n",
        "\n"
      ]
    },
    {
      "cell_type": "code",
      "source": [
        "# Define the dimensions of the grid\n",
        "GRID_WIDTH = 10\n",
        "GRID_HEIGHT = 10\n",
        "\n",
        "# Define the start and end positions\n",
        "START_POS = (0, 0)\n",
        "END_POS = (9, 9)\n",
        "\n",
        "# Define the obstacles\n",
        "OBSTACLES = [(2, 2), (3, 2), (4, 2), (5, 2), (6, 2), (7, 2),\n",
        "             (7, 3), (7, 4), (7, 5), (6, 5), (5, 5), (4, 5),\n",
        "             (3, 5), (3, 6), (3, 7), (4, 7), (5, 7), (6, 7)]\n",
        "\n",
        "# Define the cost of moving in different directions\n",
        "MOVE_COST = {\n",
        "    \"N\": 1,\n",
        "    \"S\": 1,\n",
        "    \"E\": 1,\n",
        "    \"W\": 1,\n",
        "    \"NE\": 1.5,\n",
        "    \"NW\": 1.5,\n",
        "    \"SE\": 1.5,\n",
        "    \"SW\": 1.5\n",
        "}"
      ],
      "metadata": {
        "id": "-p17Ko_03KQ-"
      },
      "execution_count": null,
      "outputs": []
    },
    {
      "cell_type": "code",
      "source": [
        "# Define the heuristic function\n",
        "def euclidean_distance(pos1, pos2):\n",
        "    x1, y1 = pos1\n",
        "    x2, y2 = pos2\n",
        "    return np.sqrt((x2 - x1) ** 2 + (y2 - y1) ** 2)\n",
        "\n"
      ],
      "metadata": {
        "id": "g_2D380O3RTL"
      },
      "execution_count": null,
      "outputs": []
    },
    {
      "cell_type": "code",
      "source": [
        "def get_neighbors(current, grid):\n",
        "    neighbors = []\n",
        "    row, col = current\n",
        "    if row > 0 and not grid[row-1][col]:\n",
        "        neighbors.append((row-1, col))\n",
        "    if row < len(grid)-1 and not grid[row+1][col]:\n",
        "        neighbors.append((row+1, col))\n",
        "    if col > 0 and not grid[row][col-1]:\n",
        "        neighbors.append((row, col-1))\n",
        "    if col < len(grid[0])-1 and not grid[row][col+1]:\n",
        "        neighbors.append((row, col+1))\n",
        "    return neighbors"
      ],
      "metadata": {
        "id": "2FAaXjFjLxlj"
      },
      "execution_count": null,
      "outputs": []
    },
    {
      "cell_type": "code",
      "source": [
        "def get_cost(current, next_pos):\n",
        "    return 1"
      ],
      "metadata": {
        "id": "0jto6KViL0xz"
      },
      "execution_count": null,
      "outputs": []
    },
    {
      "cell_type": "code",
      "source": [
        "# Define the search algorithm\n",
        "def a_star_search(start, goal, grid):\n",
        "    frontier = []\n",
        "    heapq.heappush(frontier, (0, start))\n",
        "    came_from = {}\n",
        "    cost_so_far = {}\n",
        "    came_from[start] = None\n",
        "    cost_so_far[start] = 0\n",
        "\n",
        "    while frontier:\n",
        "        current = heapq.heappop(frontier)[1]\n",
        "\n",
        "        if current == goal:\n",
        "            break\n",
        "\n",
        "        for next_pos in get_neighbors(current, grid):\n",
        "            new_cost = cost_so_far[current] + get_cost(current, next_pos)\n",
        "            if next_pos not in cost_so_far or new_cost < cost_so_far[next_pos]:\n",
        "                cost_so_far[next_pos] = new_cost\n",
        "                priority = new_cost + euclidean_distance(goal, next_pos)\n",
        "                heapq.heappush(frontier, (priority, next_pos))\n",
        "                came_from[next_pos] = current\n",
        "\n",
        "    return came_from, cost_so_far"
      ],
      "metadata": {
        "id": "bm0_5L2h3SoH"
      },
      "execution_count": null,
      "outputs": []
    },
    {
      "cell_type": "code",
      "source": [
        "def dijkstra_search(start, goal, grid):\n",
        "    frontier = []\n",
        "    heapq.heappush(frontier, (0, start))\n",
        "    came_from = {}\n",
        "    cost_so_far = {}\n",
        "    came_from[start] = None\n",
        "    cost_so_far[start] = 0\n",
        "\n",
        "    while frontier:\n",
        "        current = heapq.heappop(frontier)[1]\n",
        "\n",
        "        if current == goal:\n",
        "            break\n",
        "\n",
        "        for next_pos in get_neighbors(current, grid):\n",
        "            new_cost = cost_so_far[current] + get_cost(current, next_pos)\n",
        "            if next_pos not in cost_so_far or new_cost < cost_so_far[next_pos]:\n",
        "                cost_so_far[next_pos] = new_cost\n",
        "                priority = new_cost\n",
        "                heapq.heappush(frontier, (priority, next_pos))\n",
        "                came_from[next_pos] = current\n",
        "\n",
        "    return came_from, cost_so_far"
      ],
      "metadata": {
        "id": "oJ-BtMU_4TPW"
      },
      "execution_count": null,
      "outputs": []
    },
    {
      "cell_type": "code",
      "source": [
        "import random\n",
        "\n",
        "# Define the possible cell values\n",
        "FREE_CELL = 0\n",
        "OBSTACLE_CELL = 1\n",
        "START_CELL = 2\n",
        "GOAL_CELL = 3\n",
        "CURRENT_CELL = 4\n",
        "CHECKED_CELL = 5\n",
        "\n",
        "# Define the colors for each cell value\n",
        "COLORS = {\n",
        "    FREE_CELL: 'white',\n",
        "    OBSTACLE_CELL: 'black',\n",
        "    START_CELL: 'blue',\n",
        "    GOAL_CELL: 'green',\n",
        "    CURRENT_CELL: 'red',\n",
        "    CHECKED_CELL: 'yellow'\n",
        "}\n",
        "\n",
        "def generate_map(width, height, obstacle_density):\n",
        "    \"\"\"\n",
        "    Generates a random map with given dimensions and obstacle density.\n",
        "\n",
        "    Args:\n",
        "        width (int): Width of the map.\n",
        "        height (int): Height of the map.\n",
        "        obstacle_density (float): A float between 0 and 1, where 0 means no obstacles and 1 means the map is fully\n",
        "            covered with obstacles.\n",
        "\n",
        "    Returns:\n",
        "        A tuple containing the generated map as a 2D numpy array of integers where 0 represents a free cell and 1\n",
        "        represents an obstacle, as well as the start position as a tuple (row, col).\n",
        "    \"\"\"\n",
        "    # Initialize the map with all free cells\n",
        "    map = np.zeros((height, width), dtype=np.int32)\n",
        "\n",
        "    # Insert obstacles\n",
        "    for i in range(height):\n",
        "        for j in range(width):\n",
        "            if random.random() < obstacle_density:\n",
        "                map[i][j] = 1\n",
        "\n",
        "    # Insert drone at a random start location\n",
        "    start_row = random.randint(0, height - 1)\n",
        "    start_col = random.randint(0, width - 1)\n",
        "    map[start_row][start_col] = 2\n",
        "\n",
        "    return map, (start_row, start_col)\n"
      ],
      "metadata": {
        "id": "btiskTMM5lLn"
      },
      "execution_count": null,
      "outputs": []
    },
    {
      "cell_type": "code",
      "source": [
        "import matplotlib.pyplot as plt\n",
        "import numpy as np\n",
        "\n",
        "# Set the map dimensions and obstacle density\n",
        "MAP_WIDTH = 20\n",
        "MAP_HEIGHT = 20\n",
        "OBSTACLE_DENSITY = 0.5\n",
        "\n",
        "for i in range(0,100):\n",
        "  # Generate the map and start position\n",
        "  map, start_pos = generate_map(MAP_WIDTH, MAP_HEIGHT, OBSTACLE_DENSITY)\n",
        "\n",
        "  # Convert the map to a NumPy array of integers\n",
        "  map = np.array(map).astype(int)\n",
        "\n",
        "  # Print the map\n",
        "  print(np.array2string(map))\n",
        "\n",
        "  # Display the map using Matplotlib\n",
        "  fig, ax = plt.subplots()\n",
        "  ax.imshow(map, cmap=plt.cm.binary, interpolation='nearest')\n",
        "\n",
        "  # Add the start and end points to the plot\n",
        "  ax.scatter(start_pos[1], start_pos[0], marker='D', color='blue', s=100)\n",
        "  ax.scatter(MAP_WIDTH-1, MAP_HEIGHT-1, marker='X', color='red', s=100)\n",
        "\n",
        "  # Add a legend to the plot\n",
        "  ax.legend()\n",
        "\n",
        "  # Show the plot\n",
        "  #plt.show()\n",
        "\n",
        "  # Save the figure as a JPEG file\n",
        "  fig.savefig(f'map_{i}.jpg')\n",
        "\n",
        "  # Close the figure to free up memory\n",
        "  plt.close(fig)\n"
      ],
      "metadata": {
        "colab": {
          "base_uri": "https://localhost:8080/"
        },
        "id": "h5GLkJ1D8VJC",
        "outputId": "6b1011cf-ce30-432c-e977-da40802783bc"
      },
      "execution_count": null,
      "outputs": [
        {
          "output_type": "stream",
          "name": "stderr",
          "text": [
            "WARNING:matplotlib.legend:No artists with labels found to put in legend.  Note that artists whose label start with an underscore are ignored when legend() is called with no argument.\n"
          ]
        },
        {
          "output_type": "stream",
          "name": "stdout",
          "text": [
            "[[1 0 0 1 1 0 1 1 0 1 1 1 1 1 1 0 0 1 1 0]\n",
            " [0 0 0 0 1 0 0 1 1 0 0 0 0 0 0 1 1 1 0 1]\n",
            " [1 1 0 1 0 1 1 1 0 0 1 0 0 1 0 1 0 0 0 0]\n",
            " [1 0 1 1 0 1 0 1 0 1 1 1 1 1 1 0 2 0 1 0]\n",
            " [1 0 1 1 1 0 1 0 0 1 0 0 1 1 0 0 1 1 1 0]\n",
            " [0 0 1 0 1 0 0 1 0 0 0 1 0 0 1 0 1 1 0 0]\n",
            " [1 0 1 0 0 0 1 1 0 1 1 0 1 1 1 1 1 1 0 0]\n",
            " [0 1 0 1 1 1 0 0 0 1 0 1 0 1 0 1 0 0 0 1]\n",
            " [1 1 1 0 0 0 1 1 0 0 1 0 0 0 0 0 1 0 1 0]\n",
            " [1 1 1 0 1 0 0 1 0 1 0 1 0 1 1 0 0 1 1 0]\n",
            " [0 1 0 0 1 1 0 1 1 1 0 0 1 1 0 1 0 0 1 0]\n",
            " [0 1 1 1 0 0 1 1 1 1 1 1 0 1 1 1 0 1 0 1]\n",
            " [0 0 0 1 1 1 1 0 0 0 0 1 1 0 1 1 0 1 1 0]\n",
            " [0 1 0 1 0 0 0 0 0 0 1 1 1 1 0 0 1 0 0 0]\n",
            " [0 0 1 0 0 1 1 0 1 0 1 1 1 0 0 0 1 1 0 0]\n",
            " [0 0 0 0 1 1 0 0 1 1 1 1 0 1 0 0 0 1 0 0]\n",
            " [1 0 1 0 1 1 1 1 0 1 0 1 1 1 1 0 1 0 0 1]\n",
            " [0 0 1 1 1 1 0 1 0 0 0 1 0 0 0 0 0 1 1 1]\n",
            " [0 1 0 0 0 1 1 0 1 1 0 1 0 0 1 1 0 0 1 1]\n",
            " [1 0 1 1 0 1 1 0 0 1 0 1 0 0 1 0 1 1 0 1]]\n"
          ]
        },
        {
          "output_type": "stream",
          "name": "stderr",
          "text": [
            "WARNING:matplotlib.legend:No artists with labels found to put in legend.  Note that artists whose label start with an underscore are ignored when legend() is called with no argument.\n"
          ]
        },
        {
          "output_type": "stream",
          "name": "stdout",
          "text": [
            "[[0 1 0 0 0 1 1 0 0 1 1 1 1 1 0 0 0 1 1 0]\n",
            " [0 1 1 0 1 0 1 0 1 0 0 1 1 0 1 1 0 1 0 1]\n",
            " [0 1 0 0 1 1 0 1 0 1 1 1 0 0 1 1 0 0 0 0]\n",
            " [0 0 0 0 0 0 1 1 0 1 1 0 0 0 0 0 1 1 1 0]\n",
            " [0 1 1 0 1 0 0 1 0 1 0 0 0 1 1 0 0 0 1 0]\n",
            " [0 1 1 1 0 1 1 1 1 0 0 0 1 0 0 0 1 1 0 0]\n",
            " [0 1 1 1 1 1 1 0 1 1 1 1 1 0 1 0 0 1 0 0]\n",
            " [0 0 0 1 1 1 0 1 1 1 1 1 0 1 0 1 1 1 1 0]\n",
            " [1 0 0 1 1 0 1 1 1 0 0 1 1 0 0 1 1 0 1 1]\n",
            " [0 0 1 0 1 1 1 1 1 1 0 1 1 0 0 0 1 1 0 1]\n",
            " [0 1 1 1 1 0 0 1 1 0 1 1 0 1 0 0 0 1 0 1]\n",
            " [1 0 1 1 0 0 0 1 1 1 0 0 0 0 1 1 1 1 1 0]\n",
            " [1 0 0 0 1 1 0 0 1 1 1 0 0 0 0 0 0 1 1 1]\n",
            " [0 0 1 1 0 0 1 0 1 0 0 0 0 1 0 0 1 0 0 0]\n",
            " [0 1 0 1 1 0 1 0 0 0 1 0 1 0 0 0 0 0 1 1]\n",
            " [0 0 1 0 1 1 1 1 0 1 0 0 0 1 0 0 1 1 0 0]\n",
            " [0 1 0 1 0 0 1 0 1 0 1 0 0 1 1 0 0 1 1 2]\n",
            " [0 1 1 1 1 0 1 1 1 1 0 0 1 1 0 1 0 0 1 0]\n",
            " [1 1 0 1 0 1 0 1 1 0 1 0 0 1 1 1 0 0 1 0]\n",
            " [1 1 1 0 0 1 0 0 0 1 1 1 1 0 0 0 0 0 0 0]]\n"
          ]
        },
        {
          "output_type": "stream",
          "name": "stderr",
          "text": [
            "WARNING:matplotlib.legend:No artists with labels found to put in legend.  Note that artists whose label start with an underscore are ignored when legend() is called with no argument.\n"
          ]
        },
        {
          "output_type": "stream",
          "name": "stdout",
          "text": [
            "[[0 1 1 0 0 0 1 1 0 1 1 1 1 1 1 1 1 0 0 0]\n",
            " [1 0 0 1 0 1 0 0 1 0 0 0 0 1 1 1 0 1 1 0]\n",
            " [0 1 1 0 0 1 1 1 1 0 1 0 1 1 1 1 1 1 1 0]\n",
            " [0 1 1 0 0 1 0 1 1 0 0 0 1 0 1 0 1 1 1 1]\n",
            " [0 0 0 0 1 1 0 1 0 0 1 1 1 0 0 1 0 0 1 1]\n",
            " [0 1 1 1 0 0 1 0 1 0 0 0 1 1 1 0 0 1 0 0]\n",
            " [0 0 0 1 1 0 1 0 1 1 0 0 0 1 1 1 1 0 0 0]\n",
            " [0 0 1 0 1 1 1 1 1 1 1 1 0 0 0 0 0 1 1 1]\n",
            " [0 1 1 1 0 1 1 0 1 0 0 1 0 0 0 1 0 0 0 1]\n",
            " [1 1 0 1 0 1 0 0 1 1 0 1 1 1 1 0 1 1 1 1]\n",
            " [0 0 0 1 0 1 1 0 1 1 1 1 1 1 0 1 0 0 0 0]\n",
            " [1 1 1 1 0 0 0 0 0 1 0 1 1 1 1 0 0 0 0 0]\n",
            " [1 1 1 1 1 0 1 0 1 0 1 0 1 0 1 0 1 0 0 1]\n",
            " [1 1 0 0 1 1 0 1 1 1 1 0 1 0 0 0 1 1 1 1]\n",
            " [1 1 1 0 0 1 1 1 1 0 1 1 0 0 0 1 2 1 1 1]\n",
            " [0 0 0 0 1 1 1 1 1 1 0 0 0 0 0 0 0 0 0 1]\n",
            " [0 0 0 0 1 0 1 0 1 0 0 0 0 1 0 0 0 1 1 0]\n",
            " [0 1 1 0 1 0 1 1 0 1 0 0 0 1 1 1 0 1 0 0]\n",
            " [0 1 0 1 0 0 0 0 0 0 0 1 0 1 1 1 1 1 0 0]\n",
            " [1 0 1 1 0 0 1 1 1 0 1 0 1 0 0 1 1 1 0 0]]\n",
            "[[1 0 0 0 0 0 1 0 1 0 0 0 1 0 0 0 0 1 0 1]\n",
            " [1 1 0 1 0 0 1 1 1 1 0 0 0 1 0 1 1 0 0 1]\n",
            " [0 1 0 1 0 1 1 1 1 0 0 0 1 1 0 1 1 1 0 1]\n",
            " [1 1 1 1 0 1 0 1 1 0 1 0 0 1 1 0 2 1 0 0]\n",
            " [1 0 1 0 1 1 0 0 0 1 1 1 1 1 1 0 1 1 0 0]\n",
            " [0 0 0 0 1 0 1 1 0 1 1 0 0 1 0 1 0 0 1 0]\n",
            " [0 1 0 0 1 0 1 0 0 1 0 0 0 1 1 1 1 0 0 1]\n",
            " [1 1 0 1 0 0 1 0 1 0 1 1 1 0 1 0 1 0 1 1]\n",
            " [1 0 0 0 0 0 1 1 0 1 0 1 1 1 0 1 0 1 0 1]\n",
            " [1 0 1 0 1 1 1 1 1 0 0 0 0 0 1 0 0 1 0 0]\n",
            " [1 0 1 0 1 0 1 1 1 0 1 0 0 1 1 1 0 0 1 1]\n",
            " [0 1 0 0 0 0 0 1 0 0 0 1 0 1 0 1 0 0 0 1]\n",
            " [1 0 0 1 1 1 0 1 1 1 0 0 0 0 1 1 1 1 0 0]\n",
            " [0 1 1 0 0 1 0 0 0 0 0 0 0 1 0 0 1 1 0 0]\n",
            " [1 1 1 0 1 1 0 1 0 1 0 0 0 1 1 0 1 1 0 1]\n",
            " [1 0 0 1 0 1 0 1 1 1 1 1 0 1 0 0 1 1 1 1]\n",
            " [0 0 0 0 1 0 1 0 1 0 1 0 0 0 1 1 1 1 1 1]\n",
            " [0 1 0 1 1 0 0 0 0 0 1 0 1 1 1 0 0 0 1 0]\n",
            " [1 0 1 0 1 1 0 1 1 1 1 0 0 0 1 0 1 1 0 1]\n",
            " [1 1 1 1 0 1 0 0 1 0 1 0 1 1 1 1 1 0 0 1]]\n"
          ]
        },
        {
          "output_type": "stream",
          "name": "stderr",
          "text": [
            "WARNING:matplotlib.legend:No artists with labels found to put in legend.  Note that artists whose label start with an underscore are ignored when legend() is called with no argument.\n",
            "WARNING:matplotlib.legend:No artists with labels found to put in legend.  Note that artists whose label start with an underscore are ignored when legend() is called with no argument.\n"
          ]
        },
        {
          "output_type": "stream",
          "name": "stdout",
          "text": [
            "[[1 1 1 0 1 0 1 1 1 0 1 1 0 1 1 1 1 0 0 0]\n",
            " [1 1 0 1 1 0 0 1 0 1 1 1 0 0 0 1 1 0 0 1]\n",
            " [2 1 0 1 1 0 1 0 0 0 1 0 1 0 0 1 0 0 1 0]\n",
            " [0 1 1 1 1 1 1 1 1 1 1 0 0 0 1 1 0 0 0 0]\n",
            " [0 1 0 0 0 0 0 1 1 0 1 0 0 1 0 0 1 1 0 0]\n",
            " [0 1 1 0 1 1 0 1 1 0 1 1 1 0 0 0 1 0 0 0]\n",
            " [0 1 0 0 1 1 1 0 0 0 0 1 0 1 1 1 1 0 0 1]\n",
            " [0 1 0 1 0 1 1 1 1 0 0 1 0 0 0 0 1 1 1 1]\n",
            " [1 0 0 1 1 1 0 1 1 0 1 0 1 1 0 1 0 0 0 1]\n",
            " [1 0 0 1 1 0 0 1 1 1 0 0 1 0 1 1 0 1 1 1]\n",
            " [1 0 0 0 0 0 1 0 1 1 0 1 1 0 0 0 1 0 1 0]\n",
            " [1 0 1 0 0 0 0 1 0 1 1 1 0 0 0 0 1 0 0 0]\n",
            " [1 1 1 0 0 1 0 0 0 1 0 0 0 0 1 0 0 0 0 0]\n",
            " [0 0 0 0 0 1 0 1 0 1 1 0 0 1 1 1 1 1 1 0]\n",
            " [1 1 0 0 0 0 1 0 0 0 0 1 0 0 0 0 1 1 1 1]\n",
            " [1 1 0 1 1 0 1 0 1 0 1 0 1 0 1 0 1 0 0 0]\n",
            " [1 0 0 0 0 0 0 0 1 1 0 0 1 0 0 0 1 1 0 0]\n",
            " [0 0 0 1 1 1 1 0 0 0 0 0 0 1 0 0 1 1 0 1]\n",
            " [1 0 0 0 0 1 0 1 0 1 1 0 0 1 0 1 0 0 0 1]\n",
            " [1 1 0 0 1 1 1 1 1 0 0 1 0 1 1 0 0 0 0 0]]\n",
            "[[0 0 1 1 1 0 0 0 1 0 1 1 0 1 1 0 0 0 0 1]\n",
            " [0 1 1 0 0 0 0 0 0 1 1 1 0 1 1 0 0 0 0 1]\n",
            " [1 1 0 1 1 0 0 0 1 1 1 1 0 1 1 0 0 0 0 0]\n",
            " [1 1 1 0 0 0 1 1 1 0 0 1 0 0 0 0 0 0 0 0]\n",
            " [0 0 0 0 0 1 1 0 0 0 1 1 1 0 0 0 1 0 0 1]\n",
            " [1 0 0 0 0 1 0 0 0 0 1 0 0 0 1 0 1 1 1 0]\n",
            " [1 0 1 1 0 0 1 0 0 0 0 1 1 0 0 0 0 0 0 0]\n",
            " [0 1 1 0 0 0 1 0 0 1 0 1 1 1 2 1 0 0 0 1]\n",
            " [0 1 1 1 0 0 1 1 0 0 0 1 0 1 0 1 0 1 0 0]\n",
            " [1 0 0 0 0 0 0 1 0 0 1 1 1 0 0 0 1 1 0 1]\n",
            " [1 0 0 1 0 0 0 0 0 0 1 1 0 1 0 1 1 1 1 0]\n",
            " [1 0 1 1 1 1 0 0 0 1 1 0 0 1 1 0 1 1 1 0]\n",
            " [1 1 0 1 0 1 0 0 0 0 1 1 1 0 0 1 0 0 0 1]\n",
            " [0 0 1 1 0 0 1 1 0 0 1 0 0 0 1 0 0 1 1 1]\n",
            " [0 1 1 0 0 0 0 1 0 0 0 1 1 0 0 1 0 0 1 0]\n",
            " [1 0 1 0 1 0 0 0 0 0 1 1 1 0 0 0 0 0 1 1]\n",
            " [0 0 1 1 1 1 1 1 0 1 1 1 1 0 1 0 0 1 0 0]\n",
            " [1 0 0 0 1 0 1 0 0 1 1 0 0 0 1 0 1 1 1 0]\n",
            " [1 0 0 0 0 1 0 0 0 0 1 0 1 0 0 0 0 0 1 1]\n",
            " [1 1 1 1 1 1 1 0 1 0 0 1 0 0 1 0 0 0 1 1]]\n"
          ]
        },
        {
          "output_type": "stream",
          "name": "stderr",
          "text": [
            "WARNING:matplotlib.legend:No artists with labels found to put in legend.  Note that artists whose label start with an underscore are ignored when legend() is called with no argument.\n",
            "WARNING:matplotlib.legend:No artists with labels found to put in legend.  Note that artists whose label start with an underscore are ignored when legend() is called with no argument.\n"
          ]
        },
        {
          "output_type": "stream",
          "name": "stdout",
          "text": [
            "[[1 0 0 0 1 1 0 0 1 1 1 0 0 1 0 1 1 0 0 0]\n",
            " [1 1 0 1 1 1 1 1 0 0 0 0 1 1 0 1 0 1 1 1]\n",
            " [1 1 1 0 1 0 1 1 1 0 1 1 1 0 0 1 0 0 0 0]\n",
            " [0 1 0 0 0 0 1 0 1 1 1 1 1 0 0 0 1 1 1 0]\n",
            " [0 0 1 0 0 1 1 0 0 1 0 1 1 1 1 1 0 0 0 1]\n",
            " [0 0 1 1 0 1 0 1 0 0 1 0 1 0 0 0 1 0 1 0]\n",
            " [0 1 1 0 0 0 1 0 0 0 0 1 0 1 0 0 0 0 0 0]\n",
            " [0 1 1 0 0 0 0 1 1 0 0 0 1 1 0 1 0 0 1 1]\n",
            " [0 1 1 1 0 1 1 1 1 0 0 0 0 0 1 0 0 1 1 1]\n",
            " [0 1 1 1 1 1 0 1 0 1 1 1 0 0 0 1 1 0 1 1]\n",
            " [1 0 1 0 0 1 1 1 1 1 1 1 2 1 1 0 1 0 0 1]\n",
            " [1 1 1 0 0 0 0 0 1 0 0 1 1 1 0 1 1 0 0 0]\n",
            " [1 1 1 0 0 0 0 0 1 0 1 1 1 1 1 0 1 1 1 0]\n",
            " [1 1 0 0 0 1 0 0 1 1 1 0 1 1 0 0 0 0 0 0]\n",
            " [1 1 0 1 0 1 1 1 1 1 0 1 0 1 1 1 0 1 0 0]\n",
            " [0 1 0 1 1 0 1 0 0 0 0 0 1 0 1 1 0 1 0 0]\n",
            " [1 0 0 0 1 0 0 1 1 1 0 0 0 0 0 1 0 1 0 0]\n",
            " [1 0 0 1 1 0 0 1 0 0 1 1 0 1 1 0 1 1 0 1]\n",
            " [0 0 0 1 0 1 1 0 1 1 0 0 0 1 0 1 1 0 0 1]\n",
            " [1 1 1 0 1 1 0 0 1 1 1 1 1 0 0 0 1 1 1 0]]\n"
          ]
        },
        {
          "output_type": "stream",
          "name": "stderr",
          "text": [
            "WARNING:matplotlib.legend:No artists with labels found to put in legend.  Note that artists whose label start with an underscore are ignored when legend() is called with no argument.\n"
          ]
        },
        {
          "output_type": "stream",
          "name": "stdout",
          "text": [
            "[[1 0 0 1 0 1 0 0 1 0 0 1 0 0 1 1 0 1 1 1]\n",
            " [0 1 0 1 0 1 1 0 1 0 0 0 0 0 0 1 0 0 1 0]\n",
            " [0 1 0 0 0 1 1 1 1 0 1 1 1 1 0 1 0 0 1 1]\n",
            " [0 0 1 0 1 1 0 0 0 1 1 0 0 0 0 0 0 1 0 0]\n",
            " [1 1 0 0 1 0 0 1 1 1 0 0 0 0 0 0 0 1 0 1]\n",
            " [0 0 1 0 0 1 1 1 0 1 1 1 1 0 1 1 0 0 0 0]\n",
            " [1 0 0 0 0 1 0 0 0 1 1 0 0 1 0 1 1 1 1 1]\n",
            " [0 0 0 1 1 0 0 0 1 0 1 1 0 1 1 0 1 0 1 0]\n",
            " [1 1 0 1 1 1 1 0 0 0 0 1 0 0 0 0 0 1 0 1]\n",
            " [0 1 0 1 0 1 1 0 0 0 1 1 0 1 1 0 1 0 0 0]\n",
            " [1 0 0 0 1 1 0 0 1 0 1 1 0 0 1 0 1 0 1 1]\n",
            " [0 0 0 0 0 1 1 1 1 0 0 1 1 0 0 1 1 0 0 1]\n",
            " [1 1 1 1 1 1 0 0 0 1 0 1 1 1 0 0 0 0 0 0]\n",
            " [0 1 0 1 0 1 0 0 0 0 1 0 0 1 1 0 1 1 1 0]\n",
            " [1 1 1 1 0 0 0 1 1 0 1 0 1 0 1 1 0 0 1 1]\n",
            " [1 1 0 1 0 1 0 1 0 0 0 1 0 0 0 0 0 1 0 0]\n",
            " [0 1 0 1 1 0 1 1 0 0 0 0 0 0 0 1 0 1 1 1]\n",
            " [1 0 0 0 1 1 0 0 1 1 2 0 1 1 0 0 0 0 1 1]\n",
            " [0 1 0 0 0 0 0 0 0 0 0 1 0 0 0 1 0 1 1 1]\n",
            " [1 0 1 0 0 1 1 1 1 0 0 0 0 0 1 0 1 1 1 0]]\n"
          ]
        },
        {
          "output_type": "stream",
          "name": "stderr",
          "text": [
            "WARNING:matplotlib.legend:No artists with labels found to put in legend.  Note that artists whose label start with an underscore are ignored when legend() is called with no argument.\n"
          ]
        },
        {
          "output_type": "stream",
          "name": "stdout",
          "text": [
            "[[1 0 0 0 1 0 1 0 0 1 0 1 0 1 0 1 0 0 1 0]\n",
            " [0 0 1 1 1 1 0 1 1 0 1 0 1 0 0 0 0 1 0 0]\n",
            " [1 0 1 1 1 1 1 1 1 1 1 1 1 0 0 0 0 1 0 0]\n",
            " [0 0 0 1 0 0 0 1 0 0 1 1 1 1 1 0 0 0 1 0]\n",
            " [1 0 1 0 1 0 1 0 1 1 1 0 1 0 0 0 1 1 0 1]\n",
            " [0 1 1 0 0 0 0 1 0 0 1 1 1 1 0 1 0 1 0 0]\n",
            " [0 1 0 0 0 1 0 1 1 1 0 0 1 0 0 1 0 1 0 0]\n",
            " [1 0 1 1 1 1 1 1 0 0 2 1 1 1 1 0 1 0 1 0]\n",
            " [0 1 0 0 0 1 1 1 1 1 0 0 0 0 0 1 0 1 0 0]\n",
            " [1 1 0 0 0 1 1 1 0 0 1 1 0 1 1 0 1 0 1 1]\n",
            " [1 0 1 1 1 1 1 0 0 0 0 0 0 0 0 0 0 1 0 0]\n",
            " [1 0 0 1 1 1 0 0 0 1 0 1 1 0 1 0 1 1 1 0]\n",
            " [0 0 1 1 1 1 0 1 1 1 1 1 1 1 1 0 0 0 0 0]\n",
            " [0 1 1 1 1 0 1 0 1 0 0 1 0 0 0 0 0 1 0 1]\n",
            " [1 1 0 0 0 0 0 1 1 0 1 0 1 1 0 1 0 1 1 0]\n",
            " [0 1 0 0 0 1 0 0 0 0 1 1 1 0 0 1 0 1 0 1]\n",
            " [0 1 0 1 1 1 0 1 0 0 1 1 1 0 0 0 0 1 0 1]\n",
            " [0 0 0 1 1 0 0 1 1 0 1 0 1 0 0 0 1 1 1 0]\n",
            " [1 1 0 0 1 1 1 0 0 0 1 1 1 1 0 1 0 1 0 0]\n",
            " [0 0 1 1 1 1 0 0 1 0 1 1 1 0 1 0 1 0 0 0]]\n"
          ]
        },
        {
          "output_type": "stream",
          "name": "stderr",
          "text": [
            "WARNING:matplotlib.legend:No artists with labels found to put in legend.  Note that artists whose label start with an underscore are ignored when legend() is called with no argument.\n"
          ]
        },
        {
          "output_type": "stream",
          "name": "stdout",
          "text": [
            "[[1 0 0 1 1 0 0 0 1 0 1 1 1 0 0 0 0 1 0 1]\n",
            " [1 1 1 0 0 1 1 0 1 1 1 0 0 0 0 1 0 0 0 0]\n",
            " [1 1 0 0 1 0 1 0 1 0 0 1 1 1 1 0 1 1 0 1]\n",
            " [0 0 1 1 0 1 1 1 0 1 1 0 1 0 1 1 0 1 0 1]\n",
            " [0 1 0 0 0 0 1 0 0 1 0 0 0 1 1 1 1 0 1 1]\n",
            " [0 0 0 0 1 1 0 1 0 0 0 0 0 1 0 0 1 0 0 1]\n",
            " [1 0 0 0 1 0 1 1 0 0 1 0 1 1 0 0 0 0 0 1]\n",
            " [0 0 1 0 1 0 0 0 0 0 0 1 0 1 0 1 1 0 0 1]\n",
            " [0 0 0 1 1 1 0 0 1 1 1 1 1 0 1 1 0 0 0 0]\n",
            " [0 0 0 0 0 0 0 0 0 1 0 1 0 0 0 0 0 0 0 1]\n",
            " [1 1 1 1 1 0 0 0 1 0 1 1 1 1 1 0 1 0 0 1]\n",
            " [1 1 0 1 0 1 1 0 0 1 1 1 1 0 1 1 0 0 0 0]\n",
            " [1 1 1 0 1 0 1 0 0 0 0 1 1 0 0 0 0 1 1 0]\n",
            " [0 0 1 1 0 1 0 0 0 0 0 1 0 0 0 0 1 0 1 1]\n",
            " [1 1 1 1 0 1 0 1 1 1 0 1 1 0 0 1 0 1 1 0]\n",
            " [1 1 0 1 0 1 0 0 1 1 0 0 0 0 1 2 1 1 1 0]\n",
            " [0 1 0 1 0 1 0 1 1 0 0 1 1 0 1 1 0 0 1 1]\n",
            " [1 1 0 1 1 1 0 0 0 0 0 0 1 0 0 0 0 0 1 0]\n",
            " [0 1 0 0 1 1 1 0 1 1 0 1 1 1 1 1 0 0 0 0]\n",
            " [1 0 1 0 1 1 0 1 1 1 0 1 0 1 1 0 0 1 1 1]]\n"
          ]
        },
        {
          "output_type": "stream",
          "name": "stderr",
          "text": [
            "WARNING:matplotlib.legend:No artists with labels found to put in legend.  Note that artists whose label start with an underscore are ignored when legend() is called with no argument.\n"
          ]
        },
        {
          "output_type": "stream",
          "name": "stdout",
          "text": [
            "[[0 1 1 0 0 1 1 0 1 1 1 1 0 1 0 1 1 1 1 1]\n",
            " [1 0 0 1 1 0 1 1 1 1 1 0 0 0 1 0 1 1 1 1]\n",
            " [1 0 0 1 1 1 1 1 1 0 0 1 1 0 0 1 0 1 1 1]\n",
            " [0 1 0 0 0 1 0 0 0 1 0 0 1 0 1 0 0 0 1 1]\n",
            " [0 1 1 0 1 0 0 1 0 0 0 0 1 1 0 1 1 1 0 0]\n",
            " [1 1 1 1 0 0 0 1 0 1 0 0 1 0 1 1 1 1 0 0]\n",
            " [0 0 0 0 1 0 1 0 0 0 1 1 1 1 0 1 0 0 1 1]\n",
            " [1 1 1 1 1 0 1 0 0 1 0 0 0 0 0 0 1 1 0 0]\n",
            " [1 1 0 0 0 0 1 1 0 1 0 0 0 0 0 1 0 0 0 1]\n",
            " [1 0 0 0 0 0 0 0 0 0 0 0 1 0 0 0 0 0 1 1]\n",
            " [0 1 0 1 0 0 0 0 0 1 0 1 1 1 0 0 1 0 1 1]\n",
            " [0 1 1 1 1 0 0 1 0 0 0 0 0 1 0 0 0 1 1 0]\n",
            " [1 1 1 1 0 0 1 0 0 1 0 1 0 1 0 0 1 0 1 1]\n",
            " [1 0 0 0 0 0 0 0 0 0 0 0 0 1 1 0 0 0 1 0]\n",
            " [0 0 1 0 0 1 0 0 0 0 0 1 1 1 0 1 0 0 1 1]\n",
            " [0 0 1 0 1 1 1 1 1 0 1 0 0 1 0 0 0 0 1 1]\n",
            " [1 0 1 1 0 1 0 1 0 0 1 1 0 0 0 0 1 0 1 1]\n",
            " [0 0 0 1 1 0 0 1 1 0 0 1 1 1 1 0 0 0 0 0]\n",
            " [0 1 1 0 0 0 1 1 1 1 1 1 0 0 1 0 1 1 0 0]\n",
            " [0 1 1 0 1 1 1 2 0 1 1 0 0 1 0 0 1 0 1 0]]\n"
          ]
        },
        {
          "output_type": "stream",
          "name": "stderr",
          "text": [
            "WARNING:matplotlib.legend:No artists with labels found to put in legend.  Note that artists whose label start with an underscore are ignored when legend() is called with no argument.\n"
          ]
        },
        {
          "output_type": "stream",
          "name": "stdout",
          "text": [
            "[[0 0 1 0 1 1 0 0 1 0 0 0 1 1 0 1 1 0 1 0]\n",
            " [0 0 0 0 1 1 1 1 1 1 0 1 0 0 1 0 1 1 1 1]\n",
            " [1 1 1 0 0 1 1 0 0 1 0 1 0 1 1 0 0 1 1 1]\n",
            " [0 1 1 1 0 0 0 0 0 0 1 0 0 0 1 0 0 1 0 1]\n",
            " [0 0 1 1 1 0 0 1 1 1 1 1 0 1 0 0 1 0 1 0]\n",
            " [0 1 1 0 1 0 0 1 1 1 1 0 1 1 0 1 0 0 0 0]\n",
            " [0 0 0 1 1 1 0 0 0 0 0 1 1 0 1 1 1 1 0 0]\n",
            " [1 1 0 0 1 1 1 1 0 0 0 0 0 0 1 0 1 1 0 1]\n",
            " [1 1 0 1 0 0 0 0 0 1 0 1 1 0 1 0 0 1 1 1]\n",
            " [1 0 0 0 1 0 1 1 0 1 1 1 1 0 0 1 0 1 1 1]\n",
            " [0 0 0 0 0 0 0 1 0 1 0 1 0 1 0 0 1 0 1 0]\n",
            " [0 1 0 1 1 1 0 0 0 1 1 1 1 0 1 1 0 0 0 0]\n",
            " [1 1 0 1 1 0 0 0 0 0 0 1 1 1 1 0 0 0 0 1]\n",
            " [0 0 1 0 0 0 0 0 0 1 0 1 1 1 1 1 1 0 0 0]\n",
            " [0 0 1 1 0 1 1 1 1 1 1 0 0 1 1 0 0 0 1 1]\n",
            " [0 0 0 1 0 0 0 1 1 1 1 0 0 0 0 0 1 1 0 1]\n",
            " [1 0 0 1 0 2 1 1 0 0 1 0 1 1 1 0 1 1 1 0]\n",
            " [0 1 0 1 0 0 1 1 1 1 0 0 1 1 1 1 1 0 1 1]\n",
            " [0 1 1 0 0 1 0 0 0 0 1 1 1 0 1 1 0 0 0 1]\n",
            " [1 0 1 0 0 1 1 1 1 0 0 1 1 0 0 1 0 1 0 0]]\n"
          ]
        },
        {
          "output_type": "stream",
          "name": "stderr",
          "text": [
            "WARNING:matplotlib.legend:No artists with labels found to put in legend.  Note that artists whose label start with an underscore are ignored when legend() is called with no argument.\n"
          ]
        },
        {
          "output_type": "stream",
          "name": "stdout",
          "text": [
            "[[1 1 1 0 0 0 0 0 0 1 1 0 0 1 1 0 1 0 1 0]\n",
            " [0 0 2 0 1 0 0 0 1 0 0 1 0 1 0 0 0 0 0 0]\n",
            " [1 0 0 0 1 0 0 0 1 0 0 0 1 1 1 0 1 0 1 0]\n",
            " [1 1 0 1 1 1 0 0 0 0 0 0 0 1 0 1 1 1 1 1]\n",
            " [0 0 1 0 1 1 0 0 0 1 0 1 1 0 1 0 0 1 0 1]\n",
            " [0 0 0 1 0 1 0 0 0 1 0 0 0 0 0 1 0 1 1 1]\n",
            " [0 1 1 0 0 1 0 0 0 1 1 0 0 0 0 1 0 0 1 1]\n",
            " [0 0 1 0 0 1 1 0 0 1 1 1 0 1 1 0 1 1 1 0]\n",
            " [1 1 1 0 0 0 1 1 0 1 0 0 0 0 1 0 1 0 0 1]\n",
            " [1 0 1 1 1 1 1 1 1 0 1 0 0 0 0 1 1 0 0 1]\n",
            " [0 1 0 1 1 1 0 1 1 0 0 1 0 1 1 1 0 0 0 1]\n",
            " [1 0 0 0 1 1 0 0 1 0 1 1 1 0 0 0 0 0 1 1]\n",
            " [1 1 1 1 1 1 0 0 1 0 0 1 1 1 0 0 0 1 1 1]\n",
            " [1 1 1 0 0 1 1 1 1 1 0 1 0 1 1 0 0 0 0 1]\n",
            " [1 0 1 0 0 0 0 0 1 0 0 1 1 1 1 0 1 0 0 1]\n",
            " [1 1 0 1 1 1 1 0 0 0 0 0 0 1 1 1 0 1 0 1]\n",
            " [0 0 0 0 0 1 1 0 0 1 1 1 0 1 0 0 0 0 0 0]\n",
            " [1 0 0 0 1 1 1 1 1 1 0 1 0 1 0 0 1 1 1 0]\n",
            " [1 1 1 0 0 1 0 1 1 1 1 1 1 1 1 1 1 1 0 1]\n",
            " [0 0 1 1 0 0 1 0 1 0 1 1 1 1 1 1 1 0 1 0]]\n",
            "[[1 0 1 0 1 1 1 1 0 0 1 0 1 0 1 1 0 1 0 1]\n",
            " [0 0 0 1 1 0 0 1 0 0 1 1 0 0 1 0 0 1 0 0]\n",
            " [1 1 1 1 1 0 1 0 1 1 0 1 0 1 0 1 1 0 0 0]\n",
            " [0 1 0 1 0 0 0 0 1 0 1 0 0 1 1 1 1 0 0 1]\n",
            " [0 0 1 1 0 0 0 1 0 1 0 1 1 0 0 1 1 1 0 1]\n",
            " [0 0 0 0 1 1 1 0 0 0 1 0 0 0 0 0 1 0 1 0]\n",
            " [0 1 0 0 0 0 0 1 1 0 0 0 0 0 0 1 0 0 1 0]\n",
            " [0 1 0 0 0 1 0 1 0 0 0 0 0 1 1 0 0 0 1 1]\n",
            " [1 1 1 1 1 1 1 0 1 1 0 0 0 1 0 0 1 1 0 1]\n",
            " [1 1 0 1 1 1 1 1 0 1 0 0 1 0 1 0 1 1 0 1]\n",
            " [0 1 1 0 1 1 1 1 0 0 0 0 1 0 1 1 0 0 1 1]\n",
            " [1 1 0 1 1 1 0 0 0 0 0 0 1 0 0 1 0 1 1 1]\n",
            " [0 0 1 0 1 0 1 1 0 0 1 1 1 1 1 1 0 0 0 1]\n",
            " [1 1 0 0 0 1 1 0 0 0 0 1 0 0 1 0 0 0 0 1]\n",
            " [0 0 0 1 0 0 0 0 0 1 1 1 0 0 1 1 1 0 1 0]\n",
            " [1 0 0 1 1 1 1 1 1 0 0 0 0 1 0 1 0 0 1 0]\n",
            " [0 0 0 1 1 0 1 0 1 0 1 0 1 1 0 1 1 0 1 0]\n",
            " [0 0 0 0 1 1 0 0 1 0 0 0 1 0 0 0 0 0 0 0]\n",
            " [0 0 1 0 0 0 1 0 1 1 1 1 1 0 1 1 0 0 1 1]\n",
            " [1 0 1 1 0 1 1 0 1 1 1 0 1 0 0 0 0 1 2 0]]\n"
          ]
        },
        {
          "output_type": "stream",
          "name": "stderr",
          "text": [
            "WARNING:matplotlib.legend:No artists with labels found to put in legend.  Note that artists whose label start with an underscore are ignored when legend() is called with no argument.\n",
            "WARNING:matplotlib.legend:No artists with labels found to put in legend.  Note that artists whose label start with an underscore are ignored when legend() is called with no argument.\n"
          ]
        },
        {
          "output_type": "stream",
          "name": "stdout",
          "text": [
            "[[1 1 0 1 0 0 0 1 1 1 0 1 1 1 0 0 0 1 1 0]\n",
            " [1 1 1 1 1 0 0 0 1 1 0 0 0 1 0 1 1 1 0 1]\n",
            " [1 1 0 1 0 0 0 1 0 0 1 1 1 1 1 0 0 0 1 1]\n",
            " [1 0 0 0 1 0 1 1 1 1 0 0 1 0 0 0 1 1 1 1]\n",
            " [1 1 0 1 1 0 1 1 1 1 0 1 0 1 0 1 0 1 1 0]\n",
            " [0 1 1 0 0 0 0 0 0 0 0 0 1 1 0 1 1 1 0 1]\n",
            " [0 1 0 1 1 1 0 0 0 0 0 0 0 1 1 1 1 1 0 0]\n",
            " [0 1 1 0 1 1 0 1 1 1 0 0 1 0 1 1 1 1 0 0]\n",
            " [0 0 1 1 0 1 1 1 0 0 0 0 1 0 0 1 1 0 1 0]\n",
            " [0 0 1 0 0 1 0 0 1 0 1 0 1 1 1 0 1 0 0 1]\n",
            " [0 1 0 1 1 0 0 0 0 0 0 0 0 1 0 0 1 0 1 1]\n",
            " [1 0 1 1 0 1 1 0 0 0 0 1 1 0 0 0 0 0 1 0]\n",
            " [0 1 0 0 1 0 1 1 1 1 1 0 0 1 1 2 1 0 0 0]\n",
            " [0 0 0 0 1 1 0 0 0 0 0 1 1 1 0 1 1 0 1 1]\n",
            " [0 0 0 0 1 1 1 0 0 1 1 1 0 1 0 0 1 0 1 0]\n",
            " [0 1 0 0 1 0 1 0 1 1 0 1 0 1 0 1 0 1 1 1]\n",
            " [1 1 0 1 0 0 0 0 1 1 0 1 0 0 1 1 0 1 1 1]\n",
            " [0 0 1 1 1 0 1 0 1 0 0 0 1 0 0 0 0 1 0 0]\n",
            " [0 1 0 1 0 1 0 0 0 1 0 1 0 0 0 1 0 1 1 1]\n",
            " [0 1 0 0 1 0 1 1 1 0 0 0 0 0 0 1 1 1 0 0]]\n",
            "[[1 0 0 0 0 1 1 1 0 1 1 1 0 1 1 0 1 1 1 1]\n",
            " [1 0 1 0 1 0 0 0 1 0 0 0 1 1 0 1 0 1 1 1]\n",
            " [1 1 0 0 0 0 1 1 1 1 0 0 0 0 1 0 1 1 1 0]\n",
            " [1 1 0 1 0 0 0 0 0 1 0 0 1 1 0 1 0 1 0 0]\n",
            " [0 1 1 0 0 0 1 1 1 1 1 1 0 0 0 1 1 0 1 1]\n",
            " [1 1 1 0 0 0 1 1 1 0 1 1 0 1 1 0 1 1 1 0]\n",
            " [0 0 1 0 1 0 0 0 0 1 1 1 0 1 0 1 1 0 1 0]\n",
            " [1 1 0 0 1 1 0 1 0 0 0 0 1 1 0 1 1 0 0 1]\n",
            " [0 0 1 1 0 1 1 0 0 1 0 1 0 0 0 1 1 1 1 1]\n",
            " [1 0 1 1 0 1 1 0 0 0 0 0 0 1 1 1 1 0 0 1]\n",
            " [1 0 1 1 1 0 0 0 1 1 1 0 0 0 1 1 1 0 0 0]\n",
            " [0 1 0 1 0 0 1 0 1 1 1 1 1 0 0 0 1 1 1 0]\n",
            " [1 0 0 0 1 1 1 0 1 1 1 1 1 1 0 0 1 0 0 0]\n",
            " [0 1 0 1 1 1 0 1 1 0 0 1 0 1 1 1 1 0 0 1]\n",
            " [1 0 1 1 0 0 1 1 1 1 0 1 0 0 1 1 0 0 1 0]\n",
            " [0 1 1 0 0 0 1 0 1 0 0 1 0 1 0 0 1 1 0 0]\n",
            " [0 0 1 1 1 1 0 0 0 1 1 1 1 1 0 1 0 1 1 0]\n",
            " [1 1 1 1 1 0 1 1 1 2 0 1 0 0 1 1 1 0 0 0]\n",
            " [1 1 0 0 0 1 0 1 1 0 0 1 1 0 0 0 0 0 0 0]\n",
            " [1 0 1 1 0 1 1 1 1 1 0 1 1 0 0 1 0 0 0 1]]\n"
          ]
        },
        {
          "output_type": "stream",
          "name": "stderr",
          "text": [
            "WARNING:matplotlib.legend:No artists with labels found to put in legend.  Note that artists whose label start with an underscore are ignored when legend() is called with no argument.\n",
            "WARNING:matplotlib.legend:No artists with labels found to put in legend.  Note that artists whose label start with an underscore are ignored when legend() is called with no argument.\n"
          ]
        },
        {
          "output_type": "stream",
          "name": "stdout",
          "text": [
            "[[1 0 1 1 0 0 0 0 0 0 1 1 0 1 0 0 1 1 1 0]\n",
            " [1 0 0 0 1 0 0 0 1 1 0 0 0 1 1 1 0 1 0 1]\n",
            " [0 1 1 0 0 1 0 1 0 0 1 0 0 1 0 1 1 0 0 1]\n",
            " [1 1 0 1 0 1 0 0 1 0 1 1 1 1 1 0 1 1 0 1]\n",
            " [1 0 1 0 0 0 1 0 0 0 0 1 1 0 1 1 0 0 1 0]\n",
            " [0 1 1 1 0 1 0 1 0 1 0 1 1 0 0 1 1 1 0 0]\n",
            " [0 0 1 1 1 1 1 1 1 1 0 0 1 1 0 1 0 0 0 0]\n",
            " [1 0 1 0 1 1 0 0 1 0 0 1 0 1 0 0 0 0 0 0]\n",
            " [1 0 1 0 0 0 0 0 0 0 1 1 0 0 0 1 1 0 1 1]\n",
            " [1 1 1 1 0 1 0 0 0 0 1 0 1 1 0 1 1 0 1 1]\n",
            " [1 0 0 0 0 0 1 1 1 1 0 1 0 0 0 1 1 1 1 1]\n",
            " [1 1 1 1 0 1 0 0 0 0 1 1 0 0 0 1 0 0 0 0]\n",
            " [1 1 1 1 0 0 0 1 0 1 1 0 1 0 1 1 1 0 1 1]\n",
            " [1 0 0 0 1 1 0 0 0 0 0 0 1 0 1 1 1 0 1 1]\n",
            " [0 1 1 0 1 0 1 1 1 1 0 0 1 1 1 0 1 0 1 0]\n",
            " [0 1 1 1 1 0 1 0 0 1 1 0 1 0 0 1 1 0 1 0]\n",
            " [1 1 1 1 0 1 0 0 0 1 1 1 1 1 0 1 0 1 1 1]\n",
            " [0 1 0 0 1 0 1 1 1 0 1 0 1 0 1 2 0 1 0 1]\n",
            " [1 0 0 0 0 1 1 0 0 1 0 1 0 1 1 1 1 1 1 1]\n",
            " [1 0 0 0 0 1 0 0 1 1 0 0 1 0 1 0 1 1 1 0]]\n"
          ]
        },
        {
          "output_type": "stream",
          "name": "stderr",
          "text": [
            "WARNING:matplotlib.legend:No artists with labels found to put in legend.  Note that artists whose label start with an underscore are ignored when legend() is called with no argument.\n"
          ]
        },
        {
          "output_type": "stream",
          "name": "stdout",
          "text": [
            "[[0 1 1 0 1 1 1 0 1 1 0 1 0 0 1 0 1 1 0 0]\n",
            " [0 0 1 0 1 1 1 1 1 0 1 1 1 0 1 0 1 0 1 0]\n",
            " [0 1 0 0 0 1 0 1 1 1 1 0 1 1 1 1 0 1 0 1]\n",
            " [0 1 1 1 1 0 1 1 1 0 0 0 1 1 0 1 1 0 0 0]\n",
            " [2 0 1 1 1 0 1 1 0 0 0 0 0 0 1 0 1 0 1 0]\n",
            " [1 1 0 0 0 0 1 1 0 0 0 0 0 0 1 1 0 0 0 0]\n",
            " [1 0 1 0 0 1 1 1 1 0 0 1 1 0 1 0 0 1 1 1]\n",
            " [0 1 1 0 1 0 0 0 1 0 1 1 1 1 1 0 0 1 0 1]\n",
            " [1 0 0 0 1 0 0 1 1 0 1 1 1 0 1 0 0 1 1 1]\n",
            " [0 1 0 1 0 1 0 0 0 1 0 0 1 1 0 1 1 0 1 0]\n",
            " [1 1 0 0 0 0 0 0 0 0 1 1 1 1 1 0 1 0 1 1]\n",
            " [1 0 1 1 0 1 1 1 1 1 1 0 1 1 0 0 1 1 1 0]\n",
            " [0 0 1 0 1 0 1 1 1 1 0 1 1 0 0 0 0 0 0 0]\n",
            " [0 0 0 0 0 0 0 1 1 0 0 0 1 1 0 1 0 1 0 1]\n",
            " [0 0 0 0 0 0 1 0 1 1 0 0 1 0 1 1 0 1 0 1]\n",
            " [1 0 0 0 0 0 0 0 0 0 1 0 1 1 0 1 1 0 1 0]\n",
            " [1 0 1 0 0 0 0 1 1 1 0 0 0 1 0 1 0 1 0 1]\n",
            " [1 1 1 0 0 0 0 1 1 0 0 0 0 1 0 0 1 1 1 0]\n",
            " [0 1 0 0 1 1 0 1 0 0 1 1 0 1 0 1 0 1 0 0]\n",
            " [0 1 1 0 0 0 1 0 1 0 0 1 1 0 0 0 1 1 1 1]]\n"
          ]
        },
        {
          "output_type": "stream",
          "name": "stderr",
          "text": [
            "WARNING:matplotlib.legend:No artists with labels found to put in legend.  Note that artists whose label start with an underscore are ignored when legend() is called with no argument.\n"
          ]
        },
        {
          "output_type": "stream",
          "name": "stdout",
          "text": [
            "[[1 0 0 0 1 1 1 1 1 0 1 1 0 1 1 1 0 0 0 0]\n",
            " [1 1 1 0 0 1 0 0 0 1 1 1 1 0 1 0 0 1 1 1]\n",
            " [0 1 0 1 0 0 1 0 1 0 1 0 0 1 0 0 1 1 1 1]\n",
            " [1 1 0 1 1 0 0 0 0 1 1 1 0 1 1 1 0 1 1 0]\n",
            " [1 1 0 1 1 1 1 0 0 0 1 0 0 0 0 1 0 0 0 0]\n",
            " [0 0 0 1 0 0 1 0 1 1 0 0 1 0 1 1 0 1 1 0]\n",
            " [0 1 1 0 0 0 1 1 0 0 0 1 0 1 0 0 1 0 1 0]\n",
            " [0 0 0 0 0 0 1 0 0 1 1 0 0 1 0 1 0 1 0 0]\n",
            " [1 1 1 0 0 0 1 0 1 0 0 1 0 1 1 1 1 0 0 0]\n",
            " [0 0 1 0 0 0 1 1 1 0 0 0 1 0 0 0 0 0 0 0]\n",
            " [1 1 0 1 1 1 0 1 0 0 0 1 1 0 1 0 1 1 0 0]\n",
            " [0 1 1 0 1 0 0 1 1 0 0 0 1 1 0 0 1 0 1 0]\n",
            " [1 0 1 0 0 0 0 1 1 0 0 1 0 0 1 0 1 1 1 0]\n",
            " [1 1 1 0 1 1 0 0 0 1 0 1 0 0 1 0 1 0 1 1]\n",
            " [0 1 1 0 1 0 1 0 1 1 0 1 0 0 1 0 1 0 0 1]\n",
            " [1 1 0 0 1 1 0 1 1 1 0 1 1 1 0 0 1 0 0 1]\n",
            " [0 1 1 0 0 0 1 1 1 0 0 1 0 0 0 1 2 0 0 0]\n",
            " [0 0 0 1 1 1 1 0 0 1 1 0 0 1 0 0 1 0 1 1]\n",
            " [0 1 1 0 1 0 1 1 0 1 0 1 0 1 1 1 1 0 0 0]\n",
            " [0 0 0 0 1 1 1 0 1 1 1 0 1 1 1 1 0 0 1 1]]\n"
          ]
        },
        {
          "output_type": "stream",
          "name": "stderr",
          "text": [
            "WARNING:matplotlib.legend:No artists with labels found to put in legend.  Note that artists whose label start with an underscore are ignored when legend() is called with no argument.\n"
          ]
        },
        {
          "output_type": "stream",
          "name": "stdout",
          "text": [
            "[[1 0 0 0 1 0 0 0 0 0 0 1 1 1 1 1 1 1 0 1]\n",
            " [0 0 0 0 1 0 1 0 0 0 1 0 1 0 0 0 1 0 0 0]\n",
            " [1 0 0 0 0 0 0 1 1 0 1 0 1 0 0 0 1 1 1 1]\n",
            " [1 1 1 1 0 0 1 0 1 1 1 0 0 1 0 1 0 1 0 1]\n",
            " [0 1 0 0 1 0 0 1 0 1 1 1 0 1 1 1 1 0 1 0]\n",
            " [0 1 0 0 0 0 0 1 0 1 1 1 1 1 1 0 1 0 1 1]\n",
            " [0 1 0 0 1 1 0 1 0 0 1 0 1 0 0 1 1 1 0 0]\n",
            " [0 0 1 0 0 1 1 1 1 1 0 1 0 0 1 0 1 0 0 1]\n",
            " [1 1 1 0 1 1 1 1 0 1 1 0 1 1 0 1 1 1 1 1]\n",
            " [0 1 0 0 1 1 0 1 0 1 0 0 1 0 0 1 0 1 1 0]\n",
            " [1 1 1 0 0 0 1 1 0 0 1 1 0 1 1 1 1 1 0 0]\n",
            " [1 0 0 1 0 0 0 1 0 1 1 1 1 1 0 1 1 0 0 0]\n",
            " [0 0 1 1 0 0 1 0 1 0 1 1 0 0 1 0 0 1 1 1]\n",
            " [0 0 0 1 1 0 1 1 0 0 1 1 0 0 1 0 0 1 0 1]\n",
            " [1 0 0 0 1 1 0 1 1 0 0 0 0 0 1 0 0 0 1 0]\n",
            " [0 0 0 1 1 0 0 1 0 0 1 1 1 1 0 0 1 1 0 0]\n",
            " [0 0 0 0 0 1 1 0 0 0 0 0 0 0 0 1 0 1 0 1]\n",
            " [0 1 0 0 1 1 0 0 0 1 0 1 0 1 0 1 0 0 1 1]\n",
            " [1 1 1 0 2 0 1 1 1 0 0 0 0 0 0 1 0 1 0 0]\n",
            " [1 0 1 1 0 1 1 0 0 0 1 0 1 0 1 0 0 1 1 0]]\n"
          ]
        },
        {
          "output_type": "stream",
          "name": "stderr",
          "text": [
            "WARNING:matplotlib.legend:No artists with labels found to put in legend.  Note that artists whose label start with an underscore are ignored when legend() is called with no argument.\n"
          ]
        },
        {
          "output_type": "stream",
          "name": "stdout",
          "text": [
            "[[1 0 1 0 0 1 0 0 0 1 1 1 1 1 1 0 0 1 0 0]\n",
            " [0 0 0 1 1 1 1 0 0 0 0 0 1 0 1 1 0 1 1 1]\n",
            " [0 0 1 1 0 1 0 1 0 0 0 1 0 1 1 1 0 1 1 0]\n",
            " [0 0 1 1 0 0 2 1 0 1 0 1 1 0 0 1 0 0 1 0]\n",
            " [1 0 0 0 0 0 0 0 1 0 0 1 0 0 0 0 1 1 0 0]\n",
            " [0 1 0 1 1 1 1 0 1 1 0 0 0 1 1 1 1 1 1 0]\n",
            " [0 0 1 0 1 0 1 1 0 1 1 1 1 0 1 1 0 0 1 1]\n",
            " [1 0 1 0 1 1 1 1 1 0 0 0 0 0 0 1 1 1 0 1]\n",
            " [1 0 1 1 0 1 1 0 1 1 0 1 1 0 0 1 1 0 0 0]\n",
            " [1 1 1 0 1 1 1 1 1 1 0 1 1 1 0 1 1 1 0 1]\n",
            " [1 0 1 0 0 1 0 0 0 0 1 0 1 1 1 0 0 1 0 0]\n",
            " [1 1 0 0 1 1 0 0 0 1 1 1 0 0 0 0 0 1 1 0]\n",
            " [0 0 1 1 1 0 1 1 1 1 0 0 1 1 1 1 1 1 1 1]\n",
            " [0 1 0 0 0 0 0 0 0 1 0 0 0 1 1 1 0 1 1 0]\n",
            " [1 0 0 1 0 0 0 1 1 0 1 0 0 1 0 0 0 0 1 0]\n",
            " [0 0 0 1 0 1 1 1 0 0 1 1 1 1 1 0 1 0 0 0]\n",
            " [1 0 1 1 1 1 0 1 0 0 1 1 0 1 0 1 0 0 0 0]\n",
            " [0 0 0 1 1 0 1 0 1 0 0 0 0 0 1 1 1 0 1 1]\n",
            " [1 1 1 0 1 0 0 0 0 1 1 0 1 1 1 1 0 1 1 1]\n",
            " [1 0 0 1 0 0 0 1 1 1 1 0 1 1 0 1 0 0 1 1]]\n"
          ]
        },
        {
          "output_type": "stream",
          "name": "stderr",
          "text": [
            "WARNING:matplotlib.legend:No artists with labels found to put in legend.  Note that artists whose label start with an underscore are ignored when legend() is called with no argument.\n"
          ]
        },
        {
          "output_type": "stream",
          "name": "stdout",
          "text": [
            "[[1 0 2 0 1 1 1 1 1 1 0 0 1 1 1 1 1 1 0 0]\n",
            " [1 0 0 1 1 0 1 1 1 1 1 1 1 0 0 0 0 0 0 1]\n",
            " [0 1 1 0 1 0 1 0 0 0 1 0 0 1 0 0 0 0 1 1]\n",
            " [1 0 1 0 0 0 0 1 0 0 1 1 1 0 1 0 1 1 1 0]\n",
            " [0 0 1 0 1 0 0 0 0 1 1 0 0 1 1 0 0 0 0 1]\n",
            " [0 1 0 0 1 0 1 0 0 0 1 0 1 1 1 0 1 1 0 1]\n",
            " [1 1 0 1 0 1 1 1 1 0 1 1 0 0 0 1 1 0 0 1]\n",
            " [0 1 1 1 1 0 1 1 0 0 1 1 0 1 1 0 1 1 0 0]\n",
            " [0 0 0 1 0 0 1 1 0 0 1 1 1 0 1 0 0 1 0 1]\n",
            " [1 1 0 1 0 0 1 0 1 1 1 0 0 0 1 0 1 0 0 1]\n",
            " [1 0 1 0 1 0 1 0 1 1 1 0 1 0 0 1 1 0 0 1]\n",
            " [1 0 1 0 0 1 1 0 0 1 0 0 1 1 0 1 0 0 1 0]\n",
            " [0 0 1 1 0 1 0 0 0 0 1 1 0 1 1 0 1 0 1 0]\n",
            " [1 0 0 0 0 0 1 0 1 0 0 1 1 1 1 0 0 0 1 0]\n",
            " [0 1 0 1 1 1 1 1 1 0 1 0 1 1 0 1 1 0 0 0]\n",
            " [0 0 1 0 1 1 1 0 1 0 0 0 0 0 1 0 1 1 1 0]\n",
            " [1 1 1 1 1 0 0 1 1 1 0 1 1 0 1 1 0 0 0 1]\n",
            " [0 1 1 1 0 0 0 1 0 0 0 0 0 0 1 0 1 1 0 1]\n",
            " [0 0 1 1 0 0 1 0 1 1 0 0 0 0 1 1 1 1 1 1]\n",
            " [1 0 1 1 1 1 0 1 0 1 0 1 1 0 1 1 1 0 0 1]]\n"
          ]
        },
        {
          "output_type": "stream",
          "name": "stderr",
          "text": [
            "WARNING:matplotlib.legend:No artists with labels found to put in legend.  Note that artists whose label start with an underscore are ignored when legend() is called with no argument.\n"
          ]
        },
        {
          "output_type": "stream",
          "name": "stdout",
          "text": [
            "[[1 0 0 0 0 0 1 0 0 1 0 0 0 1 1 0 0 0 1 0]\n",
            " [0 0 0 1 1 0 1 1 1 0 1 1 0 0 1 1 0 0 0 1]\n",
            " [1 0 0 1 0 0 1 1 0 1 0 1 0 1 1 0 1 0 0 0]\n",
            " [0 1 1 1 0 0 1 0 0 1 0 0 0 1 1 0 1 0 1 0]\n",
            " [0 1 1 1 1 1 0 1 0 1 1 1 1 0 0 1 0 1 1 1]\n",
            " [0 0 1 0 1 0 0 1 0 1 0 1 0 1 0 1 0 1 1 1]\n",
            " [1 1 1 0 1 0 0 0 0 0 1 1 0 1 1 0 1 1 1 1]\n",
            " [0 1 0 0 0 0 0 1 1 1 1 0 0 0 1 0 0 0 1 1]\n",
            " [1 1 0 0 0 0 1 0 1 0 0 1 0 1 1 1 1 1 1 0]\n",
            " [0 0 0 0 0 1 1 1 0 1 0 0 0 1 0 1 0 1 0 1]\n",
            " [1 0 1 0 0 1 1 1 0 0 1 1 1 0 1 1 0 0 0 0]\n",
            " [0 0 1 1 0 0 1 1 1 0 0 1 0 0 1 1 1 0 1 1]\n",
            " [0 0 0 0 0 0 1 1 1 1 1 1 0 0 1 1 0 0 0 1]\n",
            " [0 0 0 0 1 1 0 1 0 1 0 1 0 0 0 0 0 1 1 1]\n",
            " [1 0 1 0 0 0 0 0 0 0 0 1 0 1 1 0 0 1 0 1]\n",
            " [0 1 0 1 0 0 0 1 1 1 1 1 0 1 1 1 0 0 0 0]\n",
            " [0 0 0 1 1 1 0 1 0 0 0 1 0 1 1 1 0 1 1 0]\n",
            " [0 1 1 0 1 0 0 1 0 1 0 1 0 0 0 0 1 0 1 1]\n",
            " [1 1 1 2 1 1 1 1 0 0 0 0 0 1 1 1 0 0 1 1]\n",
            " [0 0 0 0 0 0 1 1 1 1 1 0 0 0 1 0 1 1 0 0]]\n"
          ]
        },
        {
          "output_type": "stream",
          "name": "stderr",
          "text": [
            "WARNING:matplotlib.legend:No artists with labels found to put in legend.  Note that artists whose label start with an underscore are ignored when legend() is called with no argument.\n"
          ]
        },
        {
          "output_type": "stream",
          "name": "stdout",
          "text": [
            "[[1 0 0 0 1 0 0 1 1 0 1 0 0 1 1 1 0 0 0 0]\n",
            " [1 1 0 0 0 0 1 0 1 1 1 0 1 0 0 0 0 1 0 1]\n",
            " [0 1 0 0 0 1 1 0 1 1 0 1 0 1 1 1 1 0 0 1]\n",
            " [0 1 1 1 1 1 0 0 1 1 0 1 1 1 0 1 1 1 0 1]\n",
            " [1 0 0 1 1 0 1 1 1 0 0 1 0 0 1 0 0 1 1 1]\n",
            " [1 1 1 0 1 1 1 1 1 2 0 1 0 1 0 1 0 0 1 0]\n",
            " [1 1 1 0 0 0 0 1 1 0 1 0 1 1 0 1 1 1 0 0]\n",
            " [0 1 0 0 1 1 1 1 0 0 1 0 1 0 1 0 0 0 0 0]\n",
            " [0 0 1 1 0 0 1 1 1 0 1 1 1 0 1 0 0 1 0 0]\n",
            " [0 1 0 1 1 1 1 0 1 0 1 1 0 0 0 0 1 1 1 1]\n",
            " [0 0 0 0 0 0 0 1 0 0 0 1 0 0 0 1 1 0 0 0]\n",
            " [0 0 0 1 1 1 0 0 0 1 0 1 1 0 0 0 1 1 0 0]\n",
            " [0 1 0 1 1 0 1 0 1 0 0 1 1 1 0 0 1 0 1 1]\n",
            " [1 1 0 0 0 0 1 0 1 0 0 0 0 0 0 0 1 1 0 1]\n",
            " [1 0 1 0 0 1 1 1 0 1 1 0 1 1 1 0 1 0 1 0]\n",
            " [0 1 0 0 0 1 0 1 1 1 0 0 0 1 0 1 1 0 1 1]\n",
            " [0 1 1 1 1 0 1 1 0 0 0 0 1 1 1 0 0 0 0 0]\n",
            " [1 0 0 1 1 1 1 1 0 0 0 0 0 0 0 0 0 0 0 0]\n",
            " [1 0 0 0 0 0 0 0 1 0 0 0 0 1 1 1 0 0 0 1]\n",
            " [0 1 0 0 1 0 0 0 0 1 0 0 1 1 0 0 1 1 0 0]]\n"
          ]
        },
        {
          "output_type": "stream",
          "name": "stderr",
          "text": [
            "WARNING:matplotlib.legend:No artists with labels found to put in legend.  Note that artists whose label start with an underscore are ignored when legend() is called with no argument.\n"
          ]
        },
        {
          "output_type": "stream",
          "name": "stdout",
          "text": [
            "[[1 1 1 1 1 1 1 1 1 0 1 0 0 0 0 0 1 1 0 0]\n",
            " [1 1 1 0 1 1 0 0 0 1 0 0 0 0 1 0 0 1 1 1]\n",
            " [1 1 1 0 0 1 1 0 0 1 1 1 1 1 1 0 1 1 1 1]\n",
            " [0 0 1 1 1 1 0 1 0 1 0 1 0 1 0 1 0 0 1 0]\n",
            " [0 0 1 0 1 0 1 1 1 1 1 1 1 1 1 1 1 1 1 1]\n",
            " [0 0 1 0 1 1 1 2 0 1 1 1 1 0 1 0 0 1 1 1]\n",
            " [0 1 1 0 0 0 1 0 0 0 0 1 1 1 0 0 1 0 1 1]\n",
            " [1 0 1 0 1 0 1 1 0 1 1 0 0 1 1 1 0 1 1 1]\n",
            " [0 1 1 1 1 1 1 0 1 0 1 1 0 0 0 1 1 1 0 0]\n",
            " [1 1 0 0 1 1 0 0 1 0 0 0 0 0 1 1 0 0 1 1]\n",
            " [1 1 1 0 0 0 0 0 1 0 1 1 1 1 1 1 1 1 0 0]\n",
            " [0 0 0 1 0 0 1 0 0 1 0 1 0 1 0 0 1 0 1 0]\n",
            " [1 1 0 0 0 1 0 0 0 0 0 0 1 0 0 1 1 1 1 0]\n",
            " [0 0 1 1 0 0 0 0 0 1 0 1 0 0 1 0 1 1 0 0]\n",
            " [0 0 0 1 1 1 1 1 0 1 1 1 0 0 1 1 1 1 1 1]\n",
            " [0 1 0 1 1 0 0 0 1 0 0 0 1 1 0 0 0 1 1 0]\n",
            " [0 0 1 0 0 1 1 1 1 0 0 1 1 0 0 0 0 0 0 0]\n",
            " [0 1 0 1 0 0 0 0 0 1 1 1 1 1 0 0 1 0 0 1]\n",
            " [1 0 1 1 1 1 0 1 0 1 0 1 1 0 0 0 0 1 0 1]\n",
            " [1 0 0 1 0 0 1 1 0 0 1 0 1 0 1 1 0 0 0 1]]\n"
          ]
        },
        {
          "output_type": "stream",
          "name": "stderr",
          "text": [
            "WARNING:matplotlib.legend:No artists with labels found to put in legend.  Note that artists whose label start with an underscore are ignored when legend() is called with no argument.\n"
          ]
        },
        {
          "output_type": "stream",
          "name": "stdout",
          "text": [
            "[[0 1 0 1 0 0 1 0 1 0 0 2 0 1 0 1 1 0 1 1]\n",
            " [1 0 1 1 1 1 1 0 1 1 1 1 1 1 0 1 1 0 1 1]\n",
            " [0 1 1 1 0 0 0 0 0 1 1 0 1 0 1 1 0 1 1 0]\n",
            " [0 1 0 1 0 1 1 0 0 1 1 0 0 1 0 1 1 0 0 0]\n",
            " [0 1 1 0 1 0 1 1 1 1 0 0 0 1 0 0 0 1 0 0]\n",
            " [0 0 1 1 0 1 1 0 1 1 1 0 1 1 1 1 1 1 1 0]\n",
            " [0 0 0 1 0 0 1 0 0 0 0 1 0 0 1 1 0 1 0 1]\n",
            " [1 1 0 0 1 1 1 0 1 1 1 0 1 1 1 0 0 1 0 1]\n",
            " [0 0 0 0 1 0 0 0 1 1 1 0 0 1 0 1 0 0 0 1]\n",
            " [0 0 0 1 1 0 0 1 1 0 1 0 1 0 0 0 0 1 0 0]\n",
            " [1 1 0 0 1 0 0 0 1 1 0 0 0 1 1 0 1 0 1 1]\n",
            " [0 0 0 1 1 1 1 0 1 0 1 0 1 1 0 0 0 0 0 0]\n",
            " [0 1 0 0 1 1 0 0 0 1 0 1 0 1 1 1 0 0 0 1]\n",
            " [1 0 0 0 0 0 0 0 1 1 1 1 1 1 0 0 0 1 0 1]\n",
            " [0 0 0 1 0 0 1 0 1 0 1 1 0 0 0 0 0 0 0 0]\n",
            " [1 1 1 1 1 1 0 0 0 1 1 0 1 0 0 0 1 0 0 0]\n",
            " [0 1 0 1 0 0 0 0 0 0 0 0 1 1 0 1 1 1 1 1]\n",
            " [0 1 0 1 0 0 0 0 0 1 0 1 1 0 0 1 1 0 1 0]\n",
            " [0 1 0 0 0 1 1 0 1 0 1 0 1 1 0 1 1 1 0 1]\n",
            " [0 0 1 0 0 1 0 0 1 1 1 1 1 1 0 0 0 0 0 0]]\n"
          ]
        },
        {
          "output_type": "stream",
          "name": "stderr",
          "text": [
            "WARNING:matplotlib.legend:No artists with labels found to put in legend.  Note that artists whose label start with an underscore are ignored when legend() is called with no argument.\n"
          ]
        },
        {
          "output_type": "stream",
          "name": "stdout",
          "text": [
            "[[1 0 1 0 1 1 1 0 1 0 0 0 1 0 0 1 1 1 1 1]\n",
            " [1 1 1 0 1 0 0 0 0 0 0 0 0 0 1 0 0 0 0 1]\n",
            " [1 1 1 1 0 0 0 0 0 1 1 0 0 1 1 1 1 0 1 1]\n",
            " [1 0 1 1 0 1 0 0 1 1 0 1 0 0 1 1 1 1 0 1]\n",
            " [1 0 0 1 1 0 0 0 0 0 1 0 1 0 1 1 1 0 1 0]\n",
            " [1 1 1 1 0 1 0 1 0 0 0 1 0 1 0 1 0 1 1 0]\n",
            " [0 1 1 1 0 1 1 1 1 0 0 1 1 1 0 0 0 1 1 0]\n",
            " [1 0 1 0 1 0 1 0 1 1 1 1 0 1 1 0 1 1 0 1]\n",
            " [0 1 0 1 0 0 1 1 0 1 0 0 1 0 0 1 0 0 0 1]\n",
            " [0 0 0 1 0 0 0 1 0 1 1 0 0 1 1 0 1 0 1 1]\n",
            " [1 0 0 1 0 1 1 1 1 0 1 0 0 1 1 1 0 1 1 0]\n",
            " [1 1 0 1 0 1 0 1 1 1 0 0 1 1 1 0 1 1 1 0]\n",
            " [0 0 1 0 1 0 1 0 1 1 0 0 1 0 1 0 0 0 1 0]\n",
            " [1 0 0 0 0 1 0 1 0 0 0 0 0 1 0 0 0 1 1 1]\n",
            " [0 1 1 1 1 1 0 1 1 0 0 0 1 0 1 1 0 1 0 0]\n",
            " [0 0 1 0 0 1 0 0 1 0 0 0 0 1 0 1 1 1 1 1]\n",
            " [0 0 0 1 1 0 1 0 0 1 1 1 0 1 0 1 1 0 1 1]\n",
            " [1 0 1 1 0 0 1 1 0 0 0 0 0 1 1 1 0 1 0 0]\n",
            " [0 0 1 1 1 0 0 0 0 0 0 0 1 0 0 2 1 0 1 0]\n",
            " [0 0 0 1 0 1 1 1 1 0 1 0 0 0 0 1 0 0 0 0]]\n"
          ]
        },
        {
          "output_type": "stream",
          "name": "stderr",
          "text": [
            "WARNING:matplotlib.legend:No artists with labels found to put in legend.  Note that artists whose label start with an underscore are ignored when legend() is called with no argument.\n"
          ]
        },
        {
          "output_type": "stream",
          "name": "stdout",
          "text": [
            "[[0 1 0 0 1 0 1 1 1 0 1 1 0 0 0 0 1 1 1 0]\n",
            " [1 1 0 0 1 0 1 0 1 0 1 0 1 0 0 1 1 0 1 1]\n",
            " [0 1 1 1 0 1 0 1 1 0 0 0 0 1 0 0 1 1 0 1]\n",
            " [0 1 0 0 0 1 0 1 0 1 1 1 0 0 0 1 0 1 0 0]\n",
            " [0 0 1 1 1 0 1 1 0 1 1 1 0 0 0 1 0 1 0 0]\n",
            " [1 1 1 0 1 0 1 1 1 1 1 0 0 1 0 1 0 0 1 0]\n",
            " [1 0 1 0 1 0 1 0 0 0 0 1 0 1 1 0 0 0 1 1]\n",
            " [1 1 1 0 0 0 0 0 0 0 0 0 0 0 1 1 0 0 1 1]\n",
            " [1 0 1 1 0 0 0 1 0 0 1 1 0 0 1 0 0 1 1 0]\n",
            " [1 0 1 0 1 1 0 0 0 1 1 1 1 1 1 1 1 1 1 0]\n",
            " [1 1 0 0 1 1 1 0 0 1 1 1 0 1 1 0 1 0 2 0]\n",
            " [0 1 0 1 0 1 1 0 0 1 1 1 0 1 0 1 0 0 1 0]\n",
            " [1 1 1 0 1 1 0 0 0 1 1 0 1 1 1 1 0 0 0 0]\n",
            " [0 1 1 0 1 1 1 1 1 0 0 0 0 0 1 1 0 1 0 0]\n",
            " [0 1 0 1 0 0 0 0 0 1 1 0 0 1 1 0 1 1 0 0]\n",
            " [1 0 1 0 1 1 0 0 0 0 1 1 0 0 1 1 0 0 0 1]\n",
            " [1 1 1 1 1 1 0 1 1 1 1 1 0 0 0 0 0 0 1 1]\n",
            " [1 1 1 1 1 1 0 1 0 0 0 1 0 1 1 1 1 0 0 1]\n",
            " [1 0 1 1 0 0 1 1 1 0 1 1 1 0 1 1 0 0 0 1]\n",
            " [0 1 0 1 1 1 1 1 0 1 1 1 1 0 0 0 1 0 1 0]]\n",
            "[[1 1 0 0 0 1 1 0 0 1 0 0 1 0 1 1 0 1 1 1]\n",
            " [0 0 1 0 0 1 1 1 0 0 1 1 1 0 0 1 1 1 1 1]\n",
            " [0 0 1 0 1 0 1 0 0 0 1 0 1 0 1 1 0 1 0 0]\n",
            " [1 1 0 1 1 0 0 0 1 1 0 0 0 0 0 1 0 1 1 1]\n",
            " [0 0 1 0 1 1 0 0 0 0 0 0 1 1 1 0 1 0 0 1]\n",
            " [1 1 0 1 1 0 0 2 1 0 0 1 0 1 0 1 0 0 1 0]\n",
            " [1 0 1 0 1 0 1 0 0 1 0 1 0 1 1 1 0 1 0 1]\n",
            " [1 0 0 1 0 1 1 0 0 0 0 1 1 0 0 0 0 1 1 0]\n",
            " [0 0 1 0 1 0 1 1 1 0 0 0 0 1 1 0 1 0 0 1]\n",
            " [1 0 0 1 0 1 1 0 1 0 1 0 1 1 0 1 1 0 1 0]\n",
            " [0 1 0 0 0 1 1 1 1 1 0 1 0 1 1 0 0 0 0 1]\n",
            " [0 0 0 1 1 1 1 1 1 1 1 0 0 1 0 1 1 0 1 0]\n",
            " [1 0 0 1 1 1 1 1 0 0 0 0 0 1 0 0 1 1 0 1]\n",
            " [1 1 0 0 1 0 0 1 1 0 1 0 0 1 0 1 0 1 0 0]\n",
            " [1 1 0 1 1 0 0 1 0 1 0 1 0 1 0 0 0 1 0 1]\n",
            " [0 0 1 0 0 1 1 1 1 1 0 1 0 1 1 1 0 1 0 0]\n",
            " [1 1 1 0 0 0 0 1 1 0 0 0 1 1 1 0 1 1 1 1]\n",
            " [0 0 1 0 1 0 0 1 1 0 0 1 1 0 0 1 0 1 1 0]\n",
            " [0 0 1 1 0 1 1 1 1 1 0 1 1 1 0 1 1 1 0 0]\n",
            " [1 1 1 1 1 1 1 0 0 1 1 0 0 0 1 0 1 0 0 0]]\n"
          ]
        },
        {
          "output_type": "stream",
          "name": "stderr",
          "text": [
            "WARNING:matplotlib.legend:No artists with labels found to put in legend.  Note that artists whose label start with an underscore are ignored when legend() is called with no argument.\n",
            "WARNING:matplotlib.legend:No artists with labels found to put in legend.  Note that artists whose label start with an underscore are ignored when legend() is called with no argument.\n"
          ]
        },
        {
          "output_type": "stream",
          "name": "stdout",
          "text": [
            "[[0 0 1 1 0 0 0 0 1 1 1 1 0 1 0 0 1 0 0 0]\n",
            " [1 1 1 1 1 1 1 0 0 0 0 1 1 1 0 0 0 1 1 1]\n",
            " [0 1 0 1 1 0 1 1 1 0 1 0 1 1 0 0 1 1 1 1]\n",
            " [1 1 0 0 0 0 0 1 0 0 0 1 1 0 1 1 1 0 1 0]\n",
            " [0 1 1 1 1 0 0 0 1 1 1 1 0 1 1 0 1 0 1 0]\n",
            " [1 0 0 1 1 1 0 1 0 1 1 0 1 0 1 1 0 1 1 0]\n",
            " [0 1 1 1 1 1 0 1 1 1 0 1 1 1 0 1 0 1 1 0]\n",
            " [0 1 0 0 0 1 0 1 0 0 0 1 1 1 1 0 0 0 1 0]\n",
            " [1 1 1 0 0 1 1 1 0 1 0 1 0 1 1 1 1 1 0 1]\n",
            " [1 0 1 1 1 1 0 0 0 1 1 0 0 0 1 1 0 0 1 1]\n",
            " [1 1 1 1 1 0 0 0 1 0 1 1 1 0 1 1 1 0 0 1]\n",
            " [1 1 1 1 0 0 0 0 1 0 1 0 0 1 1 1 1 0 1 1]\n",
            " [1 1 0 1 1 0 0 0 0 0 0 0 1 1 0 0 0 1 1 0]\n",
            " [0 1 1 1 1 1 1 1 0 0 1 0 0 1 0 0 0 1 0 1]\n",
            " [0 1 1 0 1 0 0 1 0 1 0 1 0 0 1 1 1 1 0 1]\n",
            " [0 1 1 0 0 1 1 0 1 0 1 1 1 0 0 0 1 0 0 0]\n",
            " [0 1 0 1 1 1 1 0 0 1 0 0 1 0 0 1 0 0 1 1]\n",
            " [1 0 1 1 1 0 1 0 1 0 1 1 1 1 0 0 0 0 0 0]\n",
            " [1 1 1 1 0 0 0 1 0 0 0 1 1 1 1 1 0 0 0 0]\n",
            " [1 1 1 1 0 2 0 0 0 0 1 1 0 0 0 0 1 0 1 1]]\n"
          ]
        },
        {
          "output_type": "stream",
          "name": "stderr",
          "text": [
            "WARNING:matplotlib.legend:No artists with labels found to put in legend.  Note that artists whose label start with an underscore are ignored when legend() is called with no argument.\n"
          ]
        },
        {
          "output_type": "stream",
          "name": "stdout",
          "text": [
            "[[1 1 0 1 0 1 0 0 0 1 0 0 1 1 0 1 1 1 0 0]\n",
            " [1 0 0 0 0 1 0 1 1 1 1 1 0 1 0 1 0 1 0 1]\n",
            " [1 0 1 0 0 1 1 1 0 0 1 0 1 1 1 1 1 0 0 0]\n",
            " [1 1 0 0 1 1 1 0 0 0 1 0 1 1 1 1 0 1 1 0]\n",
            " [0 0 0 1 1 0 1 1 0 0 1 0 0 0 1 0 0 1 1 1]\n",
            " [0 0 0 0 0 0 1 1 0 1 1 1 1 1 1 1 0 0 1 0]\n",
            " [0 1 1 1 1 1 1 1 1 1 1 1 1 1 0 1 0 0 0 0]\n",
            " [0 1 1 0 0 0 0 1 1 1 0 0 0 0 1 0 0 1 0 0]\n",
            " [1 0 1 1 0 1 0 1 1 0 1 1 0 0 0 0 0 0 0 0]\n",
            " [1 0 0 1 1 0 1 1 1 1 0 1 0 1 1 0 0 1 0 1]\n",
            " [0 1 0 0 0 1 0 0 1 1 1 0 0 0 1 1 0 0 1 0]\n",
            " [0 0 0 1 0 0 0 0 0 1 0 0 1 1 1 1 0 1 1 0]\n",
            " [1 2 1 1 1 1 1 0 1 1 0 1 1 0 1 1 0 1 1 0]\n",
            " [0 0 0 1 1 1 0 0 1 1 0 1 0 0 1 0 0 0 1 1]\n",
            " [0 1 0 1 1 1 1 0 0 0 0 1 1 1 1 0 0 1 1 1]\n",
            " [1 0 1 0 0 1 0 1 1 0 1 1 0 1 0 1 0 1 0 0]\n",
            " [0 0 0 1 1 0 1 1 1 1 1 1 1 0 0 1 1 1 1 0]\n",
            " [0 1 0 0 1 1 0 0 0 1 0 1 1 1 1 1 1 0 0 0]\n",
            " [0 1 0 0 1 0 1 0 1 0 1 1 1 0 0 1 1 1 0 1]\n",
            " [1 0 0 0 1 0 0 1 1 1 1 0 1 0 0 0 0 0 0 1]]\n"
          ]
        },
        {
          "output_type": "stream",
          "name": "stderr",
          "text": [
            "WARNING:matplotlib.legend:No artists with labels found to put in legend.  Note that artists whose label start with an underscore are ignored when legend() is called with no argument.\n"
          ]
        },
        {
          "output_type": "stream",
          "name": "stdout",
          "text": [
            "[[0 1 1 1 0 0 0 0 0 1 1 0 1 1 0 0 1 1 1 0]\n",
            " [1 0 0 1 0 1 1 0 0 1 1 0 0 0 1 0 1 1 0 0]\n",
            " [0 0 1 1 0 0 1 1 0 0 1 0 1 1 0 1 1 1 1 1]\n",
            " [0 0 1 0 0 1 1 0 1 0 1 0 0 1 0 1 0 1 1 0]\n",
            " [1 0 0 1 1 1 0 1 0 1 1 0 1 1 0 1 0 0 1 1]\n",
            " [0 1 0 0 0 1 1 0 1 0 0 0 0 1 1 1 0 1 0 1]\n",
            " [1 1 1 0 0 1 0 0 1 1 1 0 1 1 0 1 0 1 0 0]\n",
            " [0 0 1 0 0 1 0 1 1 0 1 0 1 1 1 1 0 1 1 1]\n",
            " [0 1 0 1 1 1 0 1 1 0 0 0 1 0 0 1 0 0 0 0]\n",
            " [1 0 0 0 1 1 0 0 0 0 1 0 1 1 0 0 1 0 1 0]\n",
            " [1 0 1 0 1 1 0 0 1 1 1 0 1 0 1 1 0 0 0 0]\n",
            " [1 0 1 0 0 1 0 0 0 0 0 0 1 1 0 1 0 0 1 1]\n",
            " [1 1 1 0 0 1 0 0 1 0 0 1 1 1 1 1 1 1 1 1]\n",
            " [1 0 0 0 0 1 1 1 1 1 1 0 1 0 0 1 0 1 0 1]\n",
            " [1 0 1 1 0 1 0 0 1 0 1 1 0 0 0 0 0 0 1 1]\n",
            " [1 0 1 0 1 0 0 0 1 1 0 1 0 1 0 1 0 1 1 0]\n",
            " [1 1 1 0 0 1 0 1 0 0 0 0 1 1 1 0 0 0 0 0]\n",
            " [1 1 0 1 1 1 1 1 1 0 1 0 1 1 2 0 0 0 1 1]\n",
            " [1 0 1 0 1 1 1 0 1 0 1 1 1 0 1 0 0 0 0 1]\n",
            " [1 0 0 1 1 0 0 1 1 1 0 1 1 0 0 1 0 0 0 0]]\n"
          ]
        },
        {
          "output_type": "stream",
          "name": "stderr",
          "text": [
            "WARNING:matplotlib.legend:No artists with labels found to put in legend.  Note that artists whose label start with an underscore are ignored when legend() is called with no argument.\n"
          ]
        },
        {
          "output_type": "stream",
          "name": "stdout",
          "text": [
            "[[0 1 1 0 1 1 1 1 1 1 0 1 1 0 0 0 1 0 1 0]\n",
            " [0 0 0 1 0 1 0 0 1 1 0 1 0 0 1 0 1 1 0 0]\n",
            " [0 1 1 0 1 1 1 0 0 1 1 0 1 1 0 0 0 1 0 1]\n",
            " [1 0 0 1 1 1 1 0 1 1 0 0 0 1 0 1 1 1 1 0]\n",
            " [1 0 0 1 1 0 1 0 1 0 1 1 1 0 0 0 1 1 0 1]\n",
            " [1 0 0 0 1 0 0 0 0 0 0 1 0 0 1 0 0 0 0 0]\n",
            " [0 0 1 1 0 0 1 1 1 1 1 1 0 0 0 1 1 1 0 1]\n",
            " [0 1 0 1 0 0 1 1 0 0 1 1 0 1 1 0 1 0 1 1]\n",
            " [0 1 0 1 1 0 0 1 0 0 0 0 1 0 0 0 1 0 0 0]\n",
            " [1 1 1 1 0 0 0 1 0 1 1 0 0 0 1 1 1 0 0 0]\n",
            " [1 0 0 0 0 1 0 1 1 0 1 1 0 1 1 1 0 0 0 1]\n",
            " [1 0 0 0 0 1 1 0 0 0 1 0 1 1 0 1 1 1 0 0]\n",
            " [1 1 0 1 1 1 0 1 0 1 0 0 0 0 0 1 0 0 1 0]\n",
            " [0 0 0 1 1 1 1 0 0 0 0 1 0 0 1 0 0 1 0 0]\n",
            " [1 0 1 0 1 1 1 0 0 0 1 0 1 1 0 1 1 1 1 0]\n",
            " [0 0 2 0 0 0 1 0 1 1 1 1 1 0 1 0 0 0 0 0]\n",
            " [0 1 0 1 0 0 1 0 1 0 1 0 1 1 0 1 0 1 0 1]\n",
            " [1 0 1 0 1 0 1 1 0 1 0 0 0 1 0 1 0 1 0 1]\n",
            " [1 0 1 1 0 0 0 1 1 0 0 1 0 1 1 0 0 1 1 0]\n",
            " [0 0 0 1 1 1 1 1 0 1 1 0 1 0 1 1 1 0 0 0]]\n"
          ]
        },
        {
          "output_type": "stream",
          "name": "stderr",
          "text": [
            "WARNING:matplotlib.legend:No artists with labels found to put in legend.  Note that artists whose label start with an underscore are ignored when legend() is called with no argument.\n"
          ]
        },
        {
          "output_type": "stream",
          "name": "stdout",
          "text": [
            "[[0 1 0 1 0 1 1 1 1 1 1 0 0 0 1 0 0 1 0 1]\n",
            " [1 0 0 0 1 0 1 0 1 1 0 0 0 0 0 0 1 0 1 0]\n",
            " [1 1 0 1 0 1 1 0 0 1 0 1 0 0 0 0 0 0 1 0]\n",
            " [1 1 0 1 0 0 1 1 0 1 1 0 1 0 0 0 0 1 1 0]\n",
            " [1 1 0 0 1 1 1 0 1 0 0 0 0 1 0 0 0 1 1 1]\n",
            " [1 1 1 1 0 1 0 0 0 0 1 1 0 1 1 1 0 1 0 0]\n",
            " [0 0 0 1 0 0 1 1 0 1 1 0 1 0 1 0 1 1 0 1]\n",
            " [0 1 1 0 0 1 0 0 0 0 0 1 1 0 1 1 1 0 1 0]\n",
            " [0 2 1 1 1 1 1 0 0 0 0 0 1 0 1 0 1 1 1 0]\n",
            " [0 1 0 1 0 1 0 0 1 1 1 0 0 1 0 0 0 1 1 1]\n",
            " [1 0 1 1 0 1 1 0 0 1 0 1 0 1 0 1 0 0 0 0]\n",
            " [1 1 0 1 1 0 1 0 1 0 1 1 0 0 1 0 1 1 0 0]\n",
            " [1 0 1 0 0 1 0 1 1 0 0 0 0 1 0 0 1 0 1 0]\n",
            " [0 0 0 1 0 0 1 0 1 0 1 0 0 0 1 1 1 1 0 1]\n",
            " [0 0 1 1 1 0 1 1 0 1 0 0 0 0 0 1 1 0 0 1]\n",
            " [1 1 1 1 1 0 1 1 1 1 1 0 0 0 0 1 1 0 0 1]\n",
            " [0 1 0 0 1 1 1 1 1 1 0 1 0 0 0 0 1 1 0 1]\n",
            " [1 1 1 0 0 1 0 0 1 0 0 1 0 0 1 1 1 0 1 0]\n",
            " [0 0 1 1 1 0 1 1 1 0 0 0 1 0 0 1 1 0 1 1]\n",
            " [0 0 0 1 1 0 1 1 0 0 0 0 1 1 1 1 1 0 0 1]]\n"
          ]
        },
        {
          "output_type": "stream",
          "name": "stderr",
          "text": [
            "WARNING:matplotlib.legend:No artists with labels found to put in legend.  Note that artists whose label start with an underscore are ignored when legend() is called with no argument.\n"
          ]
        },
        {
          "output_type": "stream",
          "name": "stdout",
          "text": [
            "[[0 0 0 1 0 1 1 1 1 0 0 0 0 0 1 0 0 1 1 1]\n",
            " [0 0 0 1 1 0 1 1 0 1 0 1 1 1 1 0 0 0 0 0]\n",
            " [1 0 1 1 0 1 1 1 1 1 1 0 0 1 0 1 1 0 0 1]\n",
            " [0 0 0 0 1 1 0 0 0 0 0 0 0 1 0 1 0 1 0 1]\n",
            " [0 0 0 1 1 0 1 1 1 1 1 1 0 1 1 0 0 1 1 1]\n",
            " [0 0 1 0 1 1 1 0 0 0 1 1 0 1 1 1 1 0 1 0]\n",
            " [1 1 1 1 1 1 0 1 1 1 1 1 1 1 0 0 0 1 0 0]\n",
            " [1 1 0 0 0 0 0 0 0 1 0 0 0 0 0 1 1 0 0 0]\n",
            " [0 1 0 0 1 0 1 0 1 0 0 0 0 0 0 0 0 1 0 0]\n",
            " [1 0 1 1 0 0 1 0 1 0 0 1 0 1 0 1 1 1 1 0]\n",
            " [1 0 0 1 2 1 1 0 1 0 0 1 1 1 1 1 0 0 1 1]\n",
            " [0 1 1 1 0 0 1 1 0 0 0 0 1 0 0 1 0 0 0 0]\n",
            " [1 1 1 1 0 1 0 1 0 1 0 0 0 0 1 1 1 1 1 1]\n",
            " [0 1 1 0 1 0 1 1 1 0 0 0 0 1 1 0 1 0 0 0]\n",
            " [0 0 1 1 1 0 1 1 0 1 1 1 1 0 0 0 1 0 0 0]\n",
            " [0 1 0 1 0 1 0 0 0 1 0 1 0 0 0 0 0 1 0 0]\n",
            " [1 0 1 0 0 1 1 0 0 1 1 1 0 1 0 1 1 1 1 0]\n",
            " [0 1 1 1 0 0 0 1 1 0 0 0 0 1 1 1 1 1 0 1]\n",
            " [0 1 1 1 1 1 0 1 0 0 0 1 0 1 0 0 0 1 0 0]\n",
            " [0 0 0 0 1 1 0 0 0 0 1 0 1 0 1 0 0 0 0 1]]\n"
          ]
        },
        {
          "output_type": "stream",
          "name": "stderr",
          "text": [
            "WARNING:matplotlib.legend:No artists with labels found to put in legend.  Note that artists whose label start with an underscore are ignored when legend() is called with no argument.\n"
          ]
        },
        {
          "output_type": "stream",
          "name": "stdout",
          "text": [
            "[[0 1 1 1 0 0 0 0 0 1 0 0 1 1 1 1 1 1 0 0]\n",
            " [0 1 0 0 0 1 1 1 0 0 0 0 1 1 1 1 1 1 0 0]\n",
            " [0 0 1 0 1 1 0 1 0 1 0 1 1 1 1 1 0 1 0 1]\n",
            " [1 0 0 0 0 0 1 0 1 0 0 1 0 0 0 0 1 0 1 0]\n",
            " [1 1 1 0 1 0 0 0 0 0 0 0 1 1 0 1 0 1 1 1]\n",
            " [0 0 0 0 0 1 1 0 0 0 1 1 0 0 1 0 1 0 1 1]\n",
            " [0 1 0 1 0 0 1 1 1 0 0 1 1 0 0 0 1 0 1 1]\n",
            " [0 1 1 1 1 1 1 1 0 1 1 0 1 0 0 1 0 1 0 0]\n",
            " [1 1 1 0 1 1 1 0 2 1 1 0 1 0 0 1 0 1 0 0]\n",
            " [0 1 1 0 0 1 1 1 1 1 1 0 1 1 0 1 1 0 0 1]\n",
            " [1 1 1 0 0 0 1 1 0 0 0 0 1 0 1 0 1 0 1 1]\n",
            " [0 0 1 0 1 0 0 0 1 0 1 0 1 1 0 1 1 0 0 1]\n",
            " [0 1 0 1 0 1 1 0 1 1 0 0 1 1 0 0 1 0 0 0]\n",
            " [0 0 0 1 1 1 1 0 0 1 0 1 1 0 1 0 0 1 1 0]\n",
            " [0 1 1 0 1 0 1 0 1 1 1 0 1 1 0 1 1 0 1 1]\n",
            " [1 1 0 0 0 1 1 0 0 0 1 1 0 0 1 1 0 0 0 1]\n",
            " [1 0 0 0 0 0 1 0 0 0 1 0 1 1 1 0 1 1 0 0]\n",
            " [0 0 0 1 1 1 0 1 0 0 1 1 1 1 0 0 1 0 1 1]\n",
            " [0 1 1 1 0 1 1 1 1 0 1 0 1 0 0 0 0 1 1 1]\n",
            " [0 0 1 1 0 1 0 0 0 1 0 1 1 1 1 1 1 1 1 0]]\n"
          ]
        },
        {
          "output_type": "stream",
          "name": "stderr",
          "text": [
            "WARNING:matplotlib.legend:No artists with labels found to put in legend.  Note that artists whose label start with an underscore are ignored when legend() is called with no argument.\n"
          ]
        },
        {
          "output_type": "stream",
          "name": "stdout",
          "text": [
            "[[0 0 1 1 0 0 0 1 0 1 0 1 1 0 0 1 1 0 1 1]\n",
            " [1 0 1 1 1 0 1 1 0 0 0 1 0 1 1 0 0 1 1 1]\n",
            " [1 0 1 1 0 0 0 1 1 1 1 1 0 1 0 1 0 0 1 0]\n",
            " [0 1 1 0 0 1 0 1 1 1 0 0 0 0 0 1 1 0 1 0]\n",
            " [0 1 1 1 1 1 0 1 1 0 1 0 1 1 1 1 0 0 1 0]\n",
            " [1 0 1 1 1 0 1 1 1 0 0 1 1 0 1 0 0 1 1 0]\n",
            " [1 1 1 0 0 1 0 1 0 1 1 0 0 1 0 1 1 1 0 0]\n",
            " [1 1 1 1 1 1 0 1 1 1 0 1 0 1 0 1 1 1 1 1]\n",
            " [0 0 0 0 0 0 1 0 1 0 0 1 0 1 1 1 1 1 1 1]\n",
            " [1 0 1 0 0 0 1 1 1 0 0 1 0 0 0 1 1 1 0 0]\n",
            " [0 1 1 1 1 0 1 0 1 1 1 0 1 0 1 1 0 1 1 1]\n",
            " [1 1 1 0 0 0 1 1 1 1 1 0 0 1 1 0 0 0 1 1]\n",
            " [1 0 1 1 1 0 1 1 1 0 1 0 1 0 1 1 1 1 1 1]\n",
            " [1 0 1 1 0 1 1 1 0 0 0 1 1 1 1 0 1 0 0 2]\n",
            " [1 0 0 0 1 0 0 0 1 1 0 1 0 0 1 1 0 0 0 0]\n",
            " [1 0 0 1 0 1 0 1 1 1 0 1 0 1 1 0 0 1 0 0]\n",
            " [0 1 1 0 1 0 0 1 1 0 1 0 1 1 1 0 1 0 1 0]\n",
            " [0 1 0 1 0 1 0 1 1 1 0 1 0 0 0 1 1 1 0 0]\n",
            " [1 0 1 0 0 1 1 0 0 0 1 0 1 1 1 0 1 1 0 0]\n",
            " [1 1 0 0 1 0 0 1 0 1 0 1 0 0 1 1 1 0 1 1]]\n"
          ]
        },
        {
          "output_type": "stream",
          "name": "stderr",
          "text": [
            "WARNING:matplotlib.legend:No artists with labels found to put in legend.  Note that artists whose label start with an underscore are ignored when legend() is called with no argument.\n"
          ]
        },
        {
          "output_type": "stream",
          "name": "stdout",
          "text": [
            "[[1 0 0 1 0 0 0 0 1 1 0 1 0 1 0 0 1 1 0 1]\n",
            " [0 1 0 0 1 0 1 1 1 1 1 0 1 0 1 1 0 0 0 1]\n",
            " [1 1 0 0 1 1 1 0 0 0 0 1 1 0 0 0 1 1 0 0]\n",
            " [1 1 0 0 1 1 1 1 1 0 1 1 0 1 1 0 1 1 0 0]\n",
            " [0 0 1 0 0 0 1 0 0 0 0 1 1 1 1 0 1 0 0 0]\n",
            " [1 1 1 1 0 0 0 1 1 1 1 1 1 0 1 0 0 1 0 0]\n",
            " [0 1 0 0 0 1 0 1 0 0 1 0 1 0 1 1 1 0 1 0]\n",
            " [1 1 1 1 1 1 1 1 1 1 1 0 1 0 1 1 1 1 0 0]\n",
            " [1 0 1 1 0 1 1 1 1 0 1 1 1 0 0 1 1 0 0 0]\n",
            " [1 0 0 1 1 1 1 2 0 1 1 0 0 0 0 0 1 0 0 1]\n",
            " [0 0 0 0 1 1 1 0 0 1 0 1 1 0 0 1 1 1 1 1]\n",
            " [1 0 0 0 1 0 1 1 1 1 0 1 1 1 0 1 0 0 0 1]\n",
            " [0 1 1 0 1 1 1 1 0 1 1 1 1 1 0 0 1 0 0 0]\n",
            " [0 1 0 1 0 1 1 1 1 0 0 1 0 0 1 0 1 1 1 0]\n",
            " [0 1 1 0 0 0 1 1 0 0 1 0 0 1 0 0 0 1 0 0]\n",
            " [1 1 1 0 1 0 0 0 1 1 0 1 0 0 1 1 0 0 0 0]\n",
            " [0 1 0 0 0 1 0 0 0 0 0 0 1 0 0 0 0 1 1 0]\n",
            " [1 1 1 1 1 1 0 1 0 0 1 0 0 0 1 0 0 0 1 0]\n",
            " [0 0 0 1 0 1 0 0 1 0 1 0 1 1 1 0 1 1 0 0]\n",
            " [1 1 1 1 1 0 0 1 0 1 0 0 0 1 0 0 0 1 1 1]]\n"
          ]
        },
        {
          "output_type": "stream",
          "name": "stderr",
          "text": [
            "WARNING:matplotlib.legend:No artists with labels found to put in legend.  Note that artists whose label start with an underscore are ignored when legend() is called with no argument.\n"
          ]
        },
        {
          "output_type": "stream",
          "name": "stdout",
          "text": [
            "[[0 0 0 0 0 1 0 1 0 1 1 1 0 1 1 1 1 1 0 1]\n",
            " [1 1 0 0 0 1 0 0 1 1 1 0 0 0 1 1 0 1 1 0]\n",
            " [1 0 0 0 1 0 0 1 1 1 1 0 1 1 0 1 0 0 1 0]\n",
            " [1 1 0 0 0 0 0 1 1 0 1 0 0 0 1 0 0 1 0 1]\n",
            " [1 1 0 1 0 1 1 1 1 1 1 0 0 0 0 0 1 0 0 1]\n",
            " [1 1 1 0 0 1 1 1 0 1 0 1 1 1 1 0 0 1 1 0]\n",
            " [1 1 0 1 1 1 1 1 0 1 1 0 1 0 0 1 1 1 0 1]\n",
            " [0 0 1 1 1 0 0 0 1 0 0 0 0 1 0 1 1 1 1 1]\n",
            " [0 0 1 1 1 0 1 1 0 0 0 0 1 0 1 1 1 0 1 0]\n",
            " [1 0 0 0 1 1 1 1 0 1 0 1 1 1 0 0 1 0 0 0]\n",
            " [0 0 0 1 1 1 1 1 1 1 1 1 0 1 0 1 1 0 1 0]\n",
            " [0 1 0 1 1 1 1 1 1 1 0 1 1 0 1 0 1 1 1 1]\n",
            " [1 0 1 1 1 1 1 0 1 0 1 0 1 2 1 1 0 1 1 1]\n",
            " [0 0 1 1 0 1 1 0 0 1 1 0 0 1 1 0 0 1 0 0]\n",
            " [1 0 1 1 1 0 0 0 0 1 1 1 0 1 0 0 0 0 1 0]\n",
            " [1 0 1 0 1 1 0 1 0 1 1 1 1 1 1 1 0 1 0 1]\n",
            " [1 1 0 0 1 0 0 0 0 1 0 0 0 0 0 0 0 0 1 1]\n",
            " [1 0 0 1 0 0 1 0 0 1 1 0 1 0 0 1 1 0 0 1]\n",
            " [0 0 0 0 0 0 0 1 1 0 0 0 0 0 1 1 1 0 0 1]\n",
            " [1 0 0 1 0 1 0 0 0 0 0 1 1 0 1 0 1 1 0 0]]\n"
          ]
        },
        {
          "output_type": "stream",
          "name": "stderr",
          "text": [
            "WARNING:matplotlib.legend:No artists with labels found to put in legend.  Note that artists whose label start with an underscore are ignored when legend() is called with no argument.\n"
          ]
        },
        {
          "output_type": "stream",
          "name": "stdout",
          "text": [
            "[[1 0 0 0 0 1 1 0 1 1 1 1 0 0 1 1 0 0 1 0]\n",
            " [1 0 1 0 0 0 0 0 0 1 1 0 0 1 1 1 0 1 0 0]\n",
            " [0 0 0 1 0 1 1 1 1 1 0 1 1 0 1 0 1 0 1 1]\n",
            " [0 0 0 0 0 0 1 1 1 0 0 0 1 0 1 1 0 0 1 1]\n",
            " [0 0 1 1 0 0 0 0 0 0 1 1 1 0 1 1 1 1 0 1]\n",
            " [0 0 0 0 0 0 1 0 0 0 1 0 1 0 0 1 1 1 0 0]\n",
            " [0 0 0 0 1 0 0 0 0 1 1 1 0 0 0 0 1 0 1 0]\n",
            " [1 0 1 1 0 0 0 1 0 1 0 1 1 0 1 0 1 0 1 1]\n",
            " [1 0 0 1 0 1 1 0 0 1 0 0 0 0 0 0 0 0 1 1]\n",
            " [1 0 1 0 1 0 1 1 0 0 0 1 1 0 1 1 1 0 0 1]\n",
            " [0 0 0 1 0 0 1 1 0 2 0 0 1 0 1 0 0 1 0 0]\n",
            " [1 1 0 0 1 0 1 1 0 0 0 0 1 1 0 1 0 1 0 0]\n",
            " [1 1 1 1 0 1 0 0 0 0 0 0 0 1 1 1 0 1 1 0]\n",
            " [1 0 0 1 1 1 0 1 1 1 0 0 0 0 1 0 1 1 0 1]\n",
            " [1 0 0 1 0 1 1 1 1 1 1 0 1 0 1 0 0 0 0 0]\n",
            " [1 1 0 1 1 1 1 0 1 0 1 1 0 1 1 0 1 0 1 0]\n",
            " [1 1 1 1 0 1 1 0 0 0 0 0 0 0 0 0 0 1 0 0]\n",
            " [1 0 0 1 0 0 1 0 0 1 0 1 0 0 0 1 0 1 1 1]\n",
            " [0 1 1 1 0 0 1 0 0 0 1 1 1 0 1 1 1 1 1 0]\n",
            " [0 0 0 0 0 0 1 0 0 1 1 0 1 0 1 1 0 0 0 1]]\n"
          ]
        },
        {
          "output_type": "stream",
          "name": "stderr",
          "text": [
            "WARNING:matplotlib.legend:No artists with labels found to put in legend.  Note that artists whose label start with an underscore are ignored when legend() is called with no argument.\n"
          ]
        },
        {
          "output_type": "stream",
          "name": "stdout",
          "text": [
            "[[0 1 1 1 1 1 0 0 1 1 0 0 1 0 1 0 0 1 0 0]\n",
            " [0 0 0 0 0 1 1 1 1 1 0 0 1 0 1 0 0 0 1 0]\n",
            " [1 0 0 0 0 1 0 1 1 1 0 1 0 1 0 0 1 2 1 1]\n",
            " [1 1 0 0 1 0 0 1 1 0 1 0 1 0 0 0 0 0 0 0]\n",
            " [0 0 0 1 0 0 1 1 1 1 0 0 0 0 1 0 0 0 1 1]\n",
            " [1 1 1 0 1 0 0 0 0 1 1 1 0 0 0 1 0 1 0 1]\n",
            " [1 0 1 0 0 0 1 0 0 1 1 1 1 0 1 0 1 0 1 1]\n",
            " [0 1 0 0 1 1 1 1 1 1 0 1 0 0 1 0 1 0 0 0]\n",
            " [1 1 1 1 0 0 1 0 0 1 1 0 1 0 1 0 1 0 1 1]\n",
            " [1 1 0 1 1 0 0 1 0 0 1 1 0 0 0 0 0 0 1 1]\n",
            " [0 1 0 1 0 1 1 0 1 1 1 0 0 0 1 1 0 1 0 1]\n",
            " [0 1 0 0 1 0 1 1 0 1 0 1 0 1 1 1 0 1 1 1]\n",
            " [1 1 1 1 0 1 0 1 1 0 1 1 1 1 0 1 0 1 1 1]\n",
            " [0 1 1 1 1 1 0 0 0 1 0 1 0 1 1 1 1 0 0 1]\n",
            " [1 1 0 0 1 1 0 0 1 0 0 1 0 0 0 1 1 1 0 1]\n",
            " [1 0 1 0 1 0 1 0 1 0 1 1 0 0 1 1 0 1 1 1]\n",
            " [1 1 1 0 1 0 0 0 1 0 1 0 1 0 0 0 0 0 1 0]\n",
            " [0 1 1 1 1 1 1 1 1 1 0 0 0 0 0 0 0 1 1 0]\n",
            " [1 1 0 0 1 0 0 1 1 1 1 1 0 0 0 1 1 0 1 0]\n",
            " [0 0 0 0 0 1 1 0 0 0 0 0 1 1 1 0 0 1 0 0]]\n"
          ]
        },
        {
          "output_type": "stream",
          "name": "stderr",
          "text": [
            "WARNING:matplotlib.legend:No artists with labels found to put in legend.  Note that artists whose label start with an underscore are ignored when legend() is called with no argument.\n"
          ]
        },
        {
          "output_type": "stream",
          "name": "stdout",
          "text": [
            "[[1 0 1 0 1 1 0 1 1 1 1 1 0 1 0 0 1 1 1 1]\n",
            " [0 0 0 1 0 0 0 0 1 1 0 1 0 1 1 0 1 1 1 1]\n",
            " [0 1 0 1 1 1 1 1 1 0 0 0 1 1 0 0 0 1 1 0]\n",
            " [0 1 0 1 1 0 0 1 0 1 0 0 0 1 1 0 1 1 0 1]\n",
            " [1 0 1 1 0 1 0 0 1 1 1 0 0 0 1 1 1 1 0 0]\n",
            " [0 0 0 1 1 0 0 0 1 0 1 1 1 0 1 0 0 1 1 1]\n",
            " [1 1 1 0 1 1 1 1 0 0 1 1 1 0 0 1 0 1 0 1]\n",
            " [1 0 1 1 0 1 1 1 0 1 0 1 1 0 1 0 1 0 0 0]\n",
            " [0 1 0 1 0 1 1 1 0 0 0 1 0 1 1 0 0 0 0 0]\n",
            " [1 0 0 1 0 0 1 0 0 1 0 0 1 0 1 1 1 0 0 0]\n",
            " [0 1 1 1 0 0 0 0 0 1 0 0 0 1 1 0 1 0 1 1]\n",
            " [1 0 0 0 1 1 1 1 1 1 0 1 1 0 1 0 0 0 0 1]\n",
            " [0 1 0 1 0 0 1 0 1 0 1 1 1 0 1 0 1 1 1 0]\n",
            " [1 1 1 1 1 1 1 1 1 1 1 1 1 0 1 0 0 0 1 0]\n",
            " [0 1 1 0 0 1 0 0 1 0 1 0 1 1 0 1 1 1 1 1]\n",
            " [1 1 1 0 0 1 0 0 1 1 0 1 1 0 0 0 1 0 0 1]\n",
            " [1 0 1 1 0 1 1 0 0 1 0 0 0 1 0 0 0 0 1 0]\n",
            " [1 0 1 1 1 1 1 0 1 1 0 0 0 0 1 0 0 1 1 1]\n",
            " [0 0 0 1 0 1 1 0 0 1 0 0 1 0 0 1 0 1 2 0]\n",
            " [1 0 0 1 0 1 0 1 0 0 0 1 0 1 0 0 1 1 0 1]]\n"
          ]
        },
        {
          "output_type": "stream",
          "name": "stderr",
          "text": [
            "WARNING:matplotlib.legend:No artists with labels found to put in legend.  Note that artists whose label start with an underscore are ignored when legend() is called with no argument.\n"
          ]
        },
        {
          "output_type": "stream",
          "name": "stdout",
          "text": [
            "[[1 1 0 0 0 0 1 1 0 1 0 1 0 1 0 0 1 1 0 0]\n",
            " [1 1 1 0 1 1 1 0 0 1 0 1 0 0 0 1 0 0 1 0]\n",
            " [0 0 0 0 0 0 0 0 0 1 0 0 1 0 0 1 0 1 0 1]\n",
            " [0 0 0 1 1 0 1 1 1 1 0 0 1 0 0 0 0 0 0 1]\n",
            " [1 1 1 1 1 0 0 1 1 1 1 1 0 1 0 0 0 1 0 0]\n",
            " [1 1 0 0 0 1 0 0 1 0 0 1 0 1 1 0 0 0 1 1]\n",
            " [1 0 0 0 0 1 0 1 0 1 0 0 0 1 0 1 0 1 0 0]\n",
            " [1 1 0 0 0 1 0 0 1 0 0 0 1 0 0 0 0 0 0 1]\n",
            " [0 1 1 1 0 0 1 0 1 0 1 0 1 0 0 1 1 0 1 0]\n",
            " [0 0 1 0 0 1 0 1 0 0 0 0 0 1 1 1 0 1 1 1]\n",
            " [0 1 1 1 0 0 0 1 0 0 1 1 0 0 0 1 0 1 1 1]\n",
            " [1 1 1 0 2 1 1 1 1 0 1 0 1 1 1 0 1 0 1 0]\n",
            " [1 0 0 1 1 1 1 1 0 1 1 0 1 0 0 1 0 1 1 1]\n",
            " [0 1 0 0 0 0 0 0 1 1 0 0 1 1 1 0 0 1 1 0]\n",
            " [1 0 0 1 0 1 0 0 1 0 0 1 0 0 1 1 0 0 0 0]\n",
            " [1 1 1 1 0 1 1 0 1 1 0 1 1 1 0 0 0 1 0 1]\n",
            " [0 1 1 1 1 0 1 0 1 1 1 0 0 0 1 1 0 0 1 0]\n",
            " [0 0 0 1 1 0 1 1 0 1 1 0 0 0 1 1 1 0 1 1]\n",
            " [1 0 1 1 1 0 0 0 0 0 0 0 0 0 1 0 1 1 1 1]\n",
            " [1 1 0 0 0 0 0 0 0 0 0 1 1 0 1 0 1 0 1 1]]\n"
          ]
        },
        {
          "output_type": "stream",
          "name": "stderr",
          "text": [
            "WARNING:matplotlib.legend:No artists with labels found to put in legend.  Note that artists whose label start with an underscore are ignored when legend() is called with no argument.\n"
          ]
        },
        {
          "output_type": "stream",
          "name": "stdout",
          "text": [
            "[[0 1 1 0 1 1 1 0 0 1 1 0 0 0 1 1 1 1 0 0]\n",
            " [0 1 1 1 0 1 0 1 0 0 1 0 0 0 1 0 0 0 1 1]\n",
            " [0 0 1 0 1 1 1 0 1 1 1 1 0 0 1 0 0 0 0 1]\n",
            " [1 0 1 0 0 0 1 0 1 0 0 1 0 0 1 1 1 1 0 1]\n",
            " [0 1 1 1 1 1 0 1 1 1 1 0 1 0 0 0 0 1 0 1]\n",
            " [0 1 1 1 1 1 1 0 0 0 0 0 0 0 1 1 0 1 0 0]\n",
            " [1 0 0 0 1 1 0 1 0 0 0 0 0 0 1 1 1 1 1 1]\n",
            " [1 1 1 0 1 0 0 0 1 0 1 0 1 0 1 1 1 1 0 0]\n",
            " [1 1 0 2 1 1 1 0 0 1 1 1 1 1 0 0 0 0 0 0]\n",
            " [1 0 1 1 0 0 1 0 0 0 1 0 0 1 1 1 0 0 1 1]\n",
            " [1 0 1 0 1 0 1 1 1 1 1 0 0 0 0 0 1 0 1 1]\n",
            " [1 1 0 0 1 1 0 1 1 1 1 1 0 1 0 1 1 0 1 0]\n",
            " [1 0 0 1 1 0 1 0 0 1 0 0 1 0 1 0 0 0 1 1]\n",
            " [0 1 0 1 0 0 0 1 0 0 1 1 1 1 0 0 1 0 1 1]\n",
            " [1 0 0 0 1 1 1 0 1 1 1 1 0 1 0 1 1 1 1 0]\n",
            " [0 0 1 1 1 0 1 1 1 0 0 0 1 0 1 1 1 1 0 0]\n",
            " [1 1 1 0 1 0 0 0 1 1 1 0 1 0 1 0 1 0 0 0]\n",
            " [0 1 1 1 0 1 0 0 0 1 0 0 0 0 0 1 0 0 0 1]\n",
            " [0 1 1 0 0 1 0 0 1 0 0 0 0 1 1 0 0 1 0 0]\n",
            " [0 1 1 1 1 1 1 1 0 0 0 0 1 1 0 0 1 0 0 0]]\n"
          ]
        },
        {
          "output_type": "stream",
          "name": "stderr",
          "text": [
            "WARNING:matplotlib.legend:No artists with labels found to put in legend.  Note that artists whose label start with an underscore are ignored when legend() is called with no argument.\n"
          ]
        },
        {
          "output_type": "stream",
          "name": "stdout",
          "text": [
            "[[0 0 1 1 1 1 0 1 1 0 0 0 0 1 0 1 1 1 1 0]\n",
            " [1 0 0 0 0 0 1 0 0 0 1 0 0 0 0 1 1 1 0 0]\n",
            " [0 0 1 0 0 0 1 1 0 1 1 1 0 2 1 1 0 1 1 0]\n",
            " [1 1 0 1 1 1 1 0 0 1 1 0 1 0 1 1 1 0 0 0]\n",
            " [0 0 0 1 0 0 1 1 1 1 1 1 1 1 1 1 1 0 1 1]\n",
            " [1 1 0 1 0 1 1 0 1 0 1 0 1 1 1 0 1 1 0 0]\n",
            " [0 1 0 0 0 0 1 1 1 0 1 1 1 0 0 1 1 1 0 0]\n",
            " [1 1 1 1 1 0 1 1 0 1 1 1 1 1 0 1 0 1 0 0]\n",
            " [0 1 0 0 0 1 0 1 1 0 1 1 0 1 0 1 1 1 0 1]\n",
            " [0 1 1 0 1 0 0 1 0 0 1 0 0 1 1 0 1 1 0 0]\n",
            " [1 1 1 0 0 0 0 1 0 0 1 1 1 1 0 1 0 1 1 1]\n",
            " [0 0 0 1 0 0 1 1 1 1 0 0 0 0 1 0 0 0 0 0]\n",
            " [0 0 0 1 0 1 1 0 0 0 1 1 1 1 1 1 0 0 1 0]\n",
            " [1 1 1 1 1 0 1 1 0 1 0 0 1 1 0 1 0 1 0 1]\n",
            " [0 1 0 0 1 0 1 1 0 1 0 1 1 1 1 0 0 1 0 0]\n",
            " [1 0 0 0 1 0 0 1 1 0 1 0 1 0 0 0 1 1 1 0]\n",
            " [0 1 0 0 1 0 0 0 0 0 1 1 1 0 0 0 1 1 0 1]\n",
            " [1 1 0 1 0 0 1 1 1 0 1 1 0 1 1 0 0 1 0 0]\n",
            " [1 1 1 0 0 1 0 1 1 1 1 0 0 0 0 1 0 0 1 0]\n",
            " [1 1 0 0 0 0 0 0 1 1 1 1 1 0 1 0 1 0 1 1]]\n"
          ]
        },
        {
          "output_type": "stream",
          "name": "stderr",
          "text": [
            "WARNING:matplotlib.legend:No artists with labels found to put in legend.  Note that artists whose label start with an underscore are ignored when legend() is called with no argument.\n"
          ]
        },
        {
          "output_type": "stream",
          "name": "stdout",
          "text": [
            "[[0 1 0 1 1 0 1 1 1 1 0 0 1 1 1 1 0 1 0 1]\n",
            " [1 0 1 0 1 1 0 1 1 0 0 1 1 1 0 0 1 0 1 1]\n",
            " [1 1 0 0 0 1 0 1 0 1 1 1 1 0 1 1 0 0 1 0]\n",
            " [1 1 0 0 1 1 0 1 0 1 0 1 0 0 1 0 1 0 1 0]\n",
            " [1 0 1 0 0 0 0 1 0 0 1 0 0 1 0 0 0 1 1 0]\n",
            " [1 0 0 0 0 0 1 1 0 1 0 1 1 1 1 0 0 0 1 0]\n",
            " [0 1 0 0 0 0 1 1 1 0 0 0 1 1 0 1 0 1 0 0]\n",
            " [1 0 0 1 1 0 1 0 0 0 1 1 1 1 0 1 1 1 1 1]\n",
            " [0 0 0 0 1 1 0 0 1 0 1 0 0 1 0 0 1 0 1 1]\n",
            " [0 0 0 0 0 0 0 1 0 1 0 1 0 0 0 1 0 0 1 0]\n",
            " [1 1 1 1 1 1 0 1 0 0 1 0 0 0 0 1 1 0 1 1]\n",
            " [0 1 0 1 1 0 0 1 0 1 0 1 1 1 0 1 0 1 0 1]\n",
            " [0 0 0 0 1 0 1 1 1 0 0 0 0 0 1 1 0 0 1 1]\n",
            " [1 1 1 1 1 0 1 1 0 0 1 1 0 0 1 1 1 0 0 1]\n",
            " [1 1 1 1 1 0 1 1 0 0 0 1 0 1 0 0 1 0 0 0]\n",
            " [0 0 1 0 1 0 0 0 1 1 1 1 1 1 0 0 1 0 0 1]\n",
            " [0 0 1 1 1 1 1 0 0 0 1 1 1 1 2 1 0 0 1 0]\n",
            " [1 0 1 1 1 1 1 0 0 1 0 1 1 0 0 0 1 0 0 0]\n",
            " [1 1 1 1 0 0 1 1 1 1 0 1 0 0 0 0 0 0 0 1]\n",
            " [1 0 0 0 0 0 1 1 1 0 1 0 0 1 1 0 0 0 1 0]]\n"
          ]
        },
        {
          "output_type": "stream",
          "name": "stderr",
          "text": [
            "WARNING:matplotlib.legend:No artists with labels found to put in legend.  Note that artists whose label start with an underscore are ignored when legend() is called with no argument.\n",
            "WARNING:matplotlib.legend:No artists with labels found to put in legend.  Note that artists whose label start with an underscore are ignored when legend() is called with no argument.\n"
          ]
        },
        {
          "output_type": "stream",
          "name": "stdout",
          "text": [
            "[[0 0 1 1 1 0 1 0 1 1 0 0 1 1 0 1 0 1 1 1]\n",
            " [0 1 0 1 0 1 0 0 1 1 0 0 1 0 0 0 1 1 0 0]\n",
            " [1 0 1 1 1 0 0 1 1 1 0 1 1 0 0 1 0 1 0 1]\n",
            " [0 1 1 1 0 1 1 1 1 1 0 1 0 0 0 1 1 0 1 1]\n",
            " [0 1 0 0 0 0 0 0 0 0 0 1 0 1 1 1 0 1 1 0]\n",
            " [0 1 0 1 0 0 1 0 1 0 1 0 0 0 1 0 0 1 0 1]\n",
            " [0 0 0 0 0 0 0 1 0 0 1 1 0 1 0 0 1 1 0 1]\n",
            " [0 0 1 1 1 0 0 1 1 1 0 1 1 1 0 1 0 1 0 1]\n",
            " [1 0 0 0 0 1 0 1 1 1 0 0 0 1 1 1 1 0 1 1]\n",
            " [1 1 0 1 0 1 0 1 0 1 1 1 1 0 0 1 0 0 0 0]\n",
            " [2 1 1 0 0 1 1 0 0 0 1 0 0 0 0 1 1 0 0 1]\n",
            " [1 0 0 0 0 1 1 1 0 0 1 0 0 0 0 0 0 1 0 1]\n",
            " [0 1 0 1 1 1 1 0 0 1 1 0 0 0 1 1 1 0 0 1]\n",
            " [1 0 0 0 0 1 1 0 1 1 0 1 1 1 1 1 0 1 0 0]\n",
            " [1 0 1 0 1 1 1 0 1 0 1 0 1 0 1 0 1 1 0 0]\n",
            " [1 1 1 0 1 0 1 1 1 0 0 1 0 1 1 1 0 1 0 1]\n",
            " [1 1 1 1 0 0 1 0 0 1 1 1 0 0 1 1 0 0 0 0]\n",
            " [0 0 1 0 0 0 0 1 1 0 1 1 1 1 1 0 0 1 0 1]\n",
            " [1 1 1 0 1 0 1 1 1 1 0 1 0 1 1 0 1 1 1 1]\n",
            " [0 0 1 0 1 1 0 0 0 1 1 1 1 0 0 0 1 0 0 0]]\n",
            "[[0 0 1 0 0 0 1 0 1 1 0 1 0 1 0 1 0 1 0 0]\n",
            " [1 0 1 1 0 0 0 0 1 1 0 0 1 0 0 1 1 1 1 0]\n",
            " [1 1 0 0 1 1 1 1 1 0 1 1 0 1 1 1 1 0 0 1]\n",
            " [1 1 1 1 0 1 0 1 1 0 1 0 0 1 0 1 1 0 1 0]\n",
            " [1 0 1 1 0 1 1 1 1 1 0 0 1 1 0 1 0 0 1 0]\n",
            " [0 0 1 0 0 1 1 0 0 0 1 1 0 1 0 0 0 1 1 1]\n",
            " [0 1 0 1 0 1 0 1 0 0 1 1 0 0 0 0 0 1 1 1]\n",
            " [0 1 0 1 1 1 1 1 1 1 1 2 1 0 1 1 0 0 0 1]\n",
            " [1 0 0 1 1 0 1 0 0 1 1 1 0 0 1 1 1 1 0 1]\n",
            " [0 0 0 1 1 0 0 1 0 1 0 1 1 0 1 0 0 0 1 0]\n",
            " [0 0 0 0 0 1 0 0 1 0 0 0 0 1 0 1 1 0 0 0]\n",
            " [0 0 1 0 0 1 0 1 0 0 0 0 1 1 1 1 0 0 1 1]\n",
            " [1 0 0 0 0 1 1 0 1 1 0 0 1 0 0 1 1 1 0 0]\n",
            " [0 0 0 1 1 1 0 1 0 1 1 1 1 0 0 0 0 1 0 1]\n",
            " [1 1 0 0 0 0 1 0 0 1 1 0 1 1 0 0 0 0 0 1]\n",
            " [1 0 1 0 1 1 1 0 1 1 0 1 0 0 0 0 1 1 0 1]\n",
            " [1 1 0 1 1 1 0 0 1 1 0 0 1 0 1 0 1 1 1 1]\n",
            " [1 0 0 0 1 0 1 1 1 1 1 0 1 1 0 1 0 1 1 1]\n",
            " [0 1 1 0 1 1 0 0 0 0 0 0 1 0 0 1 0 1 0 0]\n",
            " [0 1 0 0 1 1 1 1 0 1 0 0 0 1 0 1 0 0 0 1]]\n"
          ]
        },
        {
          "output_type": "stream",
          "name": "stderr",
          "text": [
            "WARNING:matplotlib.legend:No artists with labels found to put in legend.  Note that artists whose label start with an underscore are ignored when legend() is called with no argument.\n",
            "WARNING:matplotlib.legend:No artists with labels found to put in legend.  Note that artists whose label start with an underscore are ignored when legend() is called with no argument.\n"
          ]
        },
        {
          "output_type": "stream",
          "name": "stdout",
          "text": [
            "[[1 1 1 0 0 1 1 1 1 0 0 0 1 1 1 0 0 1 0 0]\n",
            " [0 1 1 1 1 0 0 0 0 1 1 1 0 0 0 0 1 1 1 0]\n",
            " [0 1 0 1 1 0 0 0 0 0 1 1 0 1 1 1 0 1 0 0]\n",
            " [0 0 0 1 1 0 1 0 0 1 0 0 1 0 0 0 1 0 1 1]\n",
            " [1 1 1 1 0 1 1 1 1 1 0 0 1 0 0 1 1 0 1 0]\n",
            " [1 0 0 0 1 0 0 1 1 1 1 0 1 1 1 1 1 0 0 1]\n",
            " [0 0 0 1 0 1 1 0 1 1 0 1 0 0 0 1 1 1 1 1]\n",
            " [0 1 1 1 0 1 0 0 1 0 1 1 1 0 0 1 1 1 0 1]\n",
            " [0 1 0 0 0 0 1 0 1 1 1 1 1 1 1 1 0 0 0 0]\n",
            " [0 0 0 1 1 1 1 1 1 1 0 0 1 1 1 1 0 1 0 0]\n",
            " [1 0 0 1 1 0 0 0 0 1 0 0 1 1 0 1 1 1 1 0]\n",
            " [1 1 1 0 0 1 0 1 1 1 0 1 0 1 0 0 0 1 0 0]\n",
            " [1 0 0 1 1 1 0 1 0 2 0 0 1 1 0 0 1 0 1 1]\n",
            " [0 0 0 1 0 1 0 0 0 1 0 1 0 1 1 0 1 1 0 1]\n",
            " [0 1 1 0 0 1 0 0 1 0 1 1 0 0 1 1 1 1 1 1]\n",
            " [1 1 1 0 1 1 0 0 0 0 0 1 0 0 0 0 1 1 0 1]\n",
            " [1 1 1 1 0 0 0 1 1 0 0 1 1 0 0 1 0 0 1 0]\n",
            " [0 0 0 1 1 1 1 0 0 0 1 1 1 0 1 0 1 0 0 1]\n",
            " [0 0 1 0 1 0 1 1 1 0 1 0 1 0 0 0 0 0 0 0]\n",
            " [1 0 0 0 1 0 0 0 0 0 0 1 0 1 1 0 0 0 1 1]]\n",
            "[[1 0 1 0 1 0 0 0 0 1 0 1 1 1 0 0 0 1 1 0]\n",
            " [1 0 1 1 0 0 0 0 0 1 0 1 1 0 0 1 1 1 1 1]\n",
            " [0 0 1 0 0 0 1 0 0 1 0 0 0 0 0 0 0 0 1 0]\n",
            " [0 0 0 0 0 1 0 1 0 0 1 0 1 0 0 0 0 1 0 1]\n",
            " [0 1 1 0 1 0 0 0 0 0 1 0 1 1 1 1 1 1 0 0]\n",
            " [1 0 1 1 0 1 0 0 0 0 0 1 0 0 0 0 1 0 1 1]\n",
            " [1 0 0 0 0 0 1 1 0 2 1 1 0 1 0 0 1 1 0 1]\n",
            " [0 0 0 1 0 1 1 1 1 1 0 0 1 1 1 0 0 1 0 1]\n",
            " [1 1 1 1 0 1 1 1 1 1 1 1 0 1 0 0 0 1 0 0]\n",
            " [1 0 1 1 1 0 1 1 1 1 0 1 1 0 1 1 0 0 0 0]\n",
            " [1 1 1 0 1 0 0 1 0 1 0 0 1 1 0 0 1 0 0 1]\n",
            " [1 0 1 0 1 1 0 1 1 1 1 1 0 1 1 0 0 0 0 1]\n",
            " [0 1 0 0 0 1 0 0 1 0 1 0 0 0 0 1 0 1 0 1]\n",
            " [1 1 0 0 1 0 0 0 0 0 0 0 0 0 0 1 1 1 1 1]\n",
            " [1 1 1 1 0 0 1 1 0 1 0 1 0 1 1 1 1 1 0 1]\n",
            " [1 0 1 1 0 0 1 1 0 1 0 0 0 0 0 0 0 0 1 0]\n",
            " [0 1 0 1 0 0 1 1 1 0 0 0 1 1 1 1 0 1 0 0]\n",
            " [0 0 0 0 0 0 1 0 1 0 1 0 1 0 0 0 1 0 0 0]\n",
            " [1 1 1 1 1 0 1 1 1 0 1 1 0 0 0 1 1 1 1 0]\n",
            " [1 1 1 0 1 0 1 0 0 0 1 1 0 0 0 0 1 0 1 1]]\n"
          ]
        },
        {
          "output_type": "stream",
          "name": "stderr",
          "text": [
            "WARNING:matplotlib.legend:No artists with labels found to put in legend.  Note that artists whose label start with an underscore are ignored when legend() is called with no argument.\n",
            "WARNING:matplotlib.legend:No artists with labels found to put in legend.  Note that artists whose label start with an underscore are ignored when legend() is called with no argument.\n"
          ]
        },
        {
          "output_type": "stream",
          "name": "stdout",
          "text": [
            "[[0 0 1 1 0 0 1 1 1 1 1 0 0 0 0 1 0 1 1 0]\n",
            " [0 1 1 1 0 0 1 0 1 1 1 0 1 1 0 0 1 0 0 0]\n",
            " [1 0 1 1 1 1 0 1 0 1 1 1 1 0 1 0 0 1 0 1]\n",
            " [1 1 1 1 1 0 1 0 1 1 1 1 1 0 0 0 0 0 0 1]\n",
            " [0 1 1 0 1 0 1 0 0 1 1 1 0 1 1 1 0 1 0 0]\n",
            " [0 0 0 1 1 0 1 0 1 1 0 0 1 1 1 0 1 1 1 0]\n",
            " [1 0 0 1 0 0 1 1 0 0 0 1 1 1 1 0 1 0 0 1]\n",
            " [1 1 1 0 0 1 1 0 1 1 0 1 1 1 1 1 0 1 0 1]\n",
            " [1 0 1 1 0 0 0 1 0 1 0 0 1 1 0 1 1 1 1 0]\n",
            " [0 0 0 0 1 1 0 0 1 0 1 0 0 1 1 1 0 0 1 0]\n",
            " [1 0 1 0 0 0 1 1 0 0 0 2 1 0 1 1 0 1 1 1]\n",
            " [1 0 0 0 1 1 1 1 0 0 1 1 1 1 1 0 1 1 0 0]\n",
            " [1 1 1 0 1 0 0 0 0 0 0 1 0 0 1 0 0 1 1 1]\n",
            " [1 0 1 0 1 0 0 0 1 1 0 0 0 1 1 1 1 0 1 1]\n",
            " [1 0 1 0 1 1 1 0 0 1 1 0 0 1 0 1 0 0 1 0]\n",
            " [0 1 1 1 1 1 0 0 0 1 0 1 0 1 0 0 1 0 0 1]\n",
            " [1 1 1 1 0 0 1 1 1 1 0 0 1 1 1 1 0 0 1 0]\n",
            " [1 1 0 0 1 1 0 1 0 1 1 0 0 1 1 0 0 0 1 1]\n",
            " [0 0 0 1 1 0 0 0 0 1 0 0 1 1 1 0 1 1 1 0]\n",
            " [0 1 0 1 1 1 1 0 1 1 0 1 0 0 1 1 0 1 0 0]]\n",
            "[[1 1 0 1 0 1 1 1 0 0 0 0 0 1 0 1 0 0 0 1]\n",
            " [1 1 1 1 1 0 1 0 0 1 1 1 0 1 1 1 0 1 1 0]\n",
            " [0 1 0 0 1 1 0 0 1 0 0 0 1 1 0 0 1 1 1 1]\n",
            " [1 1 0 1 0 1 1 0 1 1 1 0 1 1 0 0 0 1 1 0]\n",
            " [0 1 0 1 0 0 1 0 0 1 1 0 1 0 1 0 0 1 1 0]\n",
            " [0 1 1 1 1 1 1 1 1 1 0 0 0 0 0 0 0 1 0 0]\n",
            " [0 1 0 0 0 0 1 1 0 1 0 0 1 1 0 1 0 0 1 1]\n",
            " [1 1 0 1 1 0 0 1 1 0 1 1 1 1 1 1 1 0 1 0]\n",
            " [1 0 1 0 1 0 0 1 1 0 0 1 0 1 0 0 0 1 1 1]\n",
            " [0 1 0 0 1 0 1 0 1 1 0 0 0 0 1 0 0 0 0 1]\n",
            " [0 1 1 0 0 1 0 0 1 0 0 2 1 1 1 1 0 0 0 0]\n",
            " [0 0 0 0 1 0 0 0 1 0 1 0 0 1 1 0 1 0 1 0]\n",
            " [0 1 0 1 0 0 1 0 0 1 0 0 0 0 1 1 0 0 0 0]\n",
            " [1 1 1 0 0 0 0 0 0 1 1 0 1 0 1 0 1 1 1 0]\n",
            " [0 1 1 1 1 1 1 0 0 1 0 1 0 1 1 1 1 0 0 0]\n",
            " [0 0 1 0 1 1 1 0 0 1 0 0 0 0 0 1 0 0 1 1]\n",
            " [1 0 1 1 1 1 1 0 0 1 1 1 1 0 1 1 1 1 1 1]\n",
            " [0 0 1 1 0 1 1 1 0 1 0 1 0 0 0 0 0 0 0 1]\n",
            " [1 0 1 1 0 1 1 0 0 0 1 0 1 1 1 0 0 0 1 0]\n",
            " [1 1 1 0 0 0 1 0 0 1 1 1 1 1 0 1 1 0 1 1]]\n"
          ]
        },
        {
          "output_type": "stream",
          "name": "stderr",
          "text": [
            "WARNING:matplotlib.legend:No artists with labels found to put in legend.  Note that artists whose label start with an underscore are ignored when legend() is called with no argument.\n"
          ]
        },
        {
          "output_type": "stream",
          "name": "stdout",
          "text": [
            "[[1 0 1 1 0 0 0 0 0 0 1 0 0 0 0 0 1 1 0 0]\n",
            " [0 0 0 0 1 1 0 0 1 0 1 0 0 0 1 1 0 0 0 1]\n",
            " [0 0 1 0 1 1 1 1 0 0 1 0 1 1 1 0 0 0 0 1]\n",
            " [0 0 0 2 1 1 1 1 0 0 1 1 0 1 0 0 0 0 1 0]\n",
            " [1 0 1 0 1 0 1 1 0 1 0 0 1 1 1 0 0 1 0 0]\n",
            " [1 1 1 0 0 1 0 1 0 1 1 1 0 0 0 1 1 0 1 1]\n",
            " [0 0 0 0 1 1 0 1 0 0 1 0 1 1 1 1 0 1 1 1]\n",
            " [0 0 0 0 0 1 0 0 1 1 0 0 1 1 1 1 0 0 1 0]\n",
            " [1 1 0 0 0 0 1 1 0 1 0 0 0 1 0 1 0 0 1 0]\n",
            " [1 1 1 1 1 0 1 1 1 1 1 1 0 1 0 1 1 0 0 0]\n",
            " [1 1 1 0 1 1 0 0 0 1 0 0 1 1 1 0 0 0 0 0]\n",
            " [1 0 1 0 0 0 0 1 0 0 0 1 1 1 1 1 0 0 1 1]\n",
            " [1 1 0 0 1 1 1 0 0 0 1 0 0 0 0 1 1 0 1 0]\n",
            " [0 0 0 1 0 1 1 0 1 1 0 1 0 1 1 1 0 1 1 0]\n",
            " [0 1 0 0 1 1 1 1 0 1 0 1 0 0 1 1 0 1 1 1]\n",
            " [0 0 0 0 0 0 0 0 1 1 1 0 0 0 1 1 0 1 0 0]\n",
            " [1 0 0 1 1 1 1 0 0 1 1 1 1 1 0 0 1 0 0 0]\n",
            " [0 0 1 0 1 1 0 0 0 1 1 0 1 1 1 0 0 0 0 1]\n",
            " [0 0 0 0 1 1 1 0 0 1 1 1 1 1 1 1 0 1 0 0]\n",
            " [1 1 1 1 1 1 0 1 0 0 0 1 1 1 0 1 1 1 0 1]]\n",
            "[[0 1 0 0 1 0 1 1 1 0 0 0 1 1 0 0 0 1 0 0]\n",
            " [0 1 0 1 1 0 1 0 0 1 0 1 0 1 0 1 0 1 0 1]\n",
            " [0 0 0 0 1 0 0 0 1 1 0 1 1 0 1 1 0 1 1 1]\n",
            " [1 1 1 0 0 1 0 0 0 0 1 0 0 0 1 1 1 0 1 1]\n",
            " [1 0 0 0 2 1 0 1 1 1 0 0 0 1 1 1 1 1 0 0]\n",
            " [0 0 1 1 1 0 0 1 0 1 1 1 1 0 0 0 1 0 1 1]\n",
            " [1 0 0 0 0 0 1 0 0 0 1 0 0 1 0 1 0 1 0 0]\n",
            " [1 0 0 1 1 0 1 1 0 1 0 0 1 1 0 0 0 1 1 1]\n",
            " [1 1 1 1 0 1 1 1 1 1 0 0 0 1 1 0 0 1 1 1]\n",
            " [0 1 0 1 0 0 1 0 1 1 0 1 1 1 1 1 0 0 1 0]\n",
            " [1 0 1 1 0 1 1 1 1 0 0 1 0 1 0 1 0 1 0 0]\n",
            " [0 0 0 1 1 0 1 1 0 0 0 0 0 0 1 1 0 1 1 0]\n",
            " [1 0 1 0 0 1 0 1 1 1 1 0 1 0 0 0 1 1 1 0]\n",
            " [0 1 0 1 0 0 1 0 0 1 1 0 0 0 1 0 1 1 1 1]\n",
            " [1 0 0 1 0 1 1 1 0 0 0 0 1 1 1 1 0 1 0 0]\n",
            " [0 1 0 1 0 0 0 0 0 1 0 1 0 0 0 1 1 0 0 1]\n",
            " [1 0 1 1 0 1 0 1 1 0 0 1 1 1 1 0 1 0 1 1]\n",
            " [0 0 0 0 0 0 1 1 1 0 0 1 0 0 1 1 1 1 0 1]\n",
            " [1 1 0 0 0 1 0 1 1 1 1 0 1 1 1 1 1 0 1 1]\n",
            " [1 1 0 0 1 1 1 0 1 0 1 0 0 1 1 1 1 1 0 1]]\n"
          ]
        },
        {
          "output_type": "stream",
          "name": "stderr",
          "text": [
            "WARNING:matplotlib.legend:No artists with labels found to put in legend.  Note that artists whose label start with an underscore are ignored when legend() is called with no argument.\n",
            "WARNING:matplotlib.legend:No artists with labels found to put in legend.  Note that artists whose label start with an underscore are ignored when legend() is called with no argument.\n",
            "WARNING:matplotlib.legend:No artists with labels found to put in legend.  Note that artists whose label start with an underscore are ignored when legend() is called with no argument.\n"
          ]
        },
        {
          "output_type": "stream",
          "name": "stdout",
          "text": [
            "[[0 0 0 0 1 1 1 1 1 0 0 0 0 0 1 0 0 1 0 1]\n",
            " [1 0 1 1 0 1 1 0 1 0 1 0 0 0 0 0 0 1 0 0]\n",
            " [0 0 1 0 0 1 0 1 1 0 0 1 1 1 0 0 0 0 0 0]\n",
            " [1 1 0 1 1 0 0 0 1 0 0 0 1 0 1 1 0 0 1 0]\n",
            " [0 1 1 1 0 0 1 0 0 0 0 0 0 1 0 1 0 1 0 0]\n",
            " [1 0 1 1 0 0 0 0 0 0 1 1 1 0 0 1 0 0 0 0]\n",
            " [0 1 1 1 1 0 0 0 0 0 0 1 0 0 0 0 1 1 0 1]\n",
            " [0 1 1 1 0 1 0 0 1 0 0 1 0 1 0 0 1 1 0 1]\n",
            " [0 0 1 0 0 1 0 0 0 1 1 0 0 1 1 0 1 0 1 0]\n",
            " [0 1 1 1 0 0 0 0 1 1 1 1 1 1 1 0 0 1 0 0]\n",
            " [0 1 1 1 1 0 0 1 1 1 1 1 0 1 1 1 0 0 0 0]\n",
            " [1 1 0 0 0 1 1 1 0 1 1 0 1 0 1 1 0 1 1 0]\n",
            " [1 0 1 0 0 0 1 1 1 2 1 1 1 0 1 0 0 1 0 1]\n",
            " [0 0 1 0 0 0 1 1 1 1 0 1 0 0 1 1 1 0 1 1]\n",
            " [1 0 1 0 1 0 1 1 0 0 1 1 1 1 0 0 0 0 0 0]\n",
            " [1 0 1 0 1 1 1 1 0 1 1 1 1 1 0 0 1 1 0 1]\n",
            " [0 0 1 0 1 1 1 1 0 0 0 0 1 0 0 1 0 1 1 0]\n",
            " [0 1 0 1 0 1 0 0 1 0 1 0 1 1 1 0 1 0 0 1]\n",
            " [1 1 1 0 1 0 0 1 0 0 1 0 1 1 1 1 1 1 0 1]\n",
            " [0 0 1 0 0 0 1 0 1 0 1 1 1 1 1 0 1 1 1 1]]\n",
            "[[1 0 0 1 1 0 0 0 1 0 0 0 0 1 1 0 1 1 1 0]\n",
            " [1 0 1 0 1 0 1 1 0 1 0 0 0 0 0 1 1 1 1 0]\n",
            " [0 1 0 1 0 0 1 0 0 1 0 1 0 1 0 0 0 0 0 1]\n",
            " [1 0 0 0 1 0 0 1 0 0 0 1 0 1 1 0 0 0 0 1]\n",
            " [1 0 0 1 0 0 1 1 1 0 1 0 1 1 1 0 1 0 0 0]\n",
            " [1 1 0 0 0 1 0 0 1 1 0 0 1 1 0 1 0 0 0 0]\n",
            " [0 0 0 1 1 1 1 0 0 1 1 0 0 1 1 1 0 1 1 1]\n",
            " [0 0 1 1 1 1 0 0 1 0 1 0 1 1 0 1 1 0 0 0]\n",
            " [1 0 1 0 1 0 1 1 0 1 0 0 0 0 1 0 1 0 0 1]\n",
            " [0 1 0 1 0 1 0 1 1 0 0 0 0 0 1 0 0 0 1 0]\n",
            " [0 0 1 0 0 0 0 0 1 0 1 0 0 1 0 1 0 1 0 0]\n",
            " [1 0 0 1 1 0 1 1 1 0 1 0 0 1 1 1 1 1 0 1]\n",
            " [1 0 0 0 0 0 0 0 0 1 1 1 0 0 1 1 0 1 1 0]\n",
            " [0 1 1 0 0 0 0 0 1 1 0 0 0 0 0 0 1 1 0 0]\n",
            " [1 1 1 1 1 1 0 1 1 0 0 1 1 2 0 1 0 1 1 1]\n",
            " [1 0 1 0 1 1 0 1 0 1 1 0 0 1 0 1 1 0 1 1]\n",
            " [0 1 1 1 1 0 1 1 0 1 0 1 1 0 0 1 1 1 0 0]\n",
            " [1 0 0 1 1 0 0 1 1 1 1 1 1 0 1 0 0 1 0 0]\n",
            " [0 1 0 1 0 0 0 0 0 1 1 0 1 1 1 1 0 0 1 1]\n",
            " [0 0 0 0 0 0 0 0 0 1 0 1 0 0 0 0 1 0 1 0]]\n"
          ]
        },
        {
          "output_type": "stream",
          "name": "stderr",
          "text": [
            "WARNING:matplotlib.legend:No artists with labels found to put in legend.  Note that artists whose label start with an underscore are ignored when legend() is called with no argument.\n",
            "WARNING:matplotlib.legend:No artists with labels found to put in legend.  Note that artists whose label start with an underscore are ignored when legend() is called with no argument.\n"
          ]
        },
        {
          "output_type": "stream",
          "name": "stdout",
          "text": [
            "[[1 0 1 1 1 0 0 1 1 1 1 1 1 0 1 0 1 1 1 1]\n",
            " [0 0 0 1 0 1 0 1 1 1 0 1 0 0 0 1 1 0 0 0]\n",
            " [1 1 1 0 0 1 0 1 1 0 1 1 0 1 1 1 0 1 1 0]\n",
            " [0 0 1 0 0 0 1 0 1 0 1 0 1 0 0 1 0 0 1 1]\n",
            " [0 1 0 1 1 0 0 0 1 1 1 0 0 0 1 1 0 0 0 1]\n",
            " [1 0 1 0 0 1 0 1 0 0 1 1 0 1 0 1 1 1 1 0]\n",
            " [0 1 1 1 1 1 1 1 0 1 1 0 1 1 1 0 1 0 0 1]\n",
            " [1 1 0 0 0 1 0 1 0 1 0 1 1 0 0 0 1 1 1 1]\n",
            " [0 0 1 1 1 1 1 0 0 1 1 0 1 0 1 0 1 1 0 0]\n",
            " [1 0 1 0 1 0 0 0 1 0 0 0 0 0 0 0 0 1 0 1]\n",
            " [0 0 0 1 0 1 0 0 1 0 1 0 1 0 0 1 1 1 0 1]\n",
            " [1 0 0 1 0 1 1 0 0 1 0 0 0 0 1 1 1 0 1 0]\n",
            " [1 1 1 0 1 1 0 0 1 1 0 0 1 1 0 0 0 0 1 0]\n",
            " [1 0 0 0 0 0 1 0 1 0 1 1 0 1 0 1 1 0 1 1]\n",
            " [0 1 1 0 1 0 0 0 1 0 1 0 1 0 0 1 1 0 1 1]\n",
            " [1 1 1 1 1 1 1 1 0 1 0 0 0 1 0 0 1 0 0 0]\n",
            " [0 0 1 1 1 1 1 0 1 1 1 1 0 0 0 0 0 0 1 0]\n",
            " [0 1 0 0 0 0 1 1 1 1 1 1 0 1 1 0 1 0 1 1]\n",
            " [1 1 0 1 1 1 1 1 1 1 0 1 0 0 0 1 1 1 1 1]\n",
            " [1 1 1 1 0 1 0 0 1 0 0 2 0 1 0 0 0 0 0 1]]\n",
            "[[1 0 0 1 1 1 0 0 0 0 1 1 1 0 1 0 0 0 1 1]\n",
            " [0 1 0 0 1 0 1 0 0 1 1 1 0 0 1 0 1 0 0 1]\n",
            " [1 1 1 1 0 0 1 1 0 1 0 1 0 0 1 0 0 0 0 0]\n",
            " [1 0 0 0 1 0 0 0 1 0 0 0 1 1 1 0 1 1 0 1]\n",
            " [0 0 1 0 0 1 0 1 1 0 0 1 0 0 1 0 1 0 0 1]\n",
            " [1 1 0 1 1 0 0 0 1 1 0 0 1 1 0 0 0 0 1 1]\n",
            " [1 0 1 1 1 0 1 1 0 0 1 1 0 0 1 0 0 1 1 0]\n",
            " [0 1 1 0 1 1 0 0 0 0 0 0 1 1 0 0 0 0 1 0]\n",
            " [1 1 0 0 1 1 0 0 0 1 0 0 1 1 1 0 0 1 1 0]\n",
            " [2 1 0 0 0 0 1 1 0 0 0 0 1 1 0 1 1 1 1 0]\n",
            " [1 1 1 1 1 1 0 1 1 0 1 1 1 1 1 0 1 0 1 1]\n",
            " [1 1 0 0 0 0 0 1 1 0 0 0 0 0 1 1 1 1 1 1]\n",
            " [1 1 0 1 0 1 1 0 1 1 0 1 1 0 0 1 1 1 1 1]\n",
            " [0 1 0 1 1 0 0 1 1 0 0 1 1 0 0 0 1 1 1 1]\n",
            " [1 0 1 0 0 1 0 1 1 0 0 0 0 1 1 0 0 1 0 0]\n",
            " [0 1 1 1 1 0 1 0 0 0 1 1 0 1 0 0 0 1 0 1]\n",
            " [0 1 1 1 1 1 1 0 0 0 1 1 1 1 1 0 0 1 0 0]\n",
            " [1 0 0 1 1 0 1 1 0 1 0 0 0 1 1 0 0 1 1 1]\n",
            " [0 0 0 0 1 1 1 1 0 0 1 1 1 1 0 0 0 1 0 0]\n",
            " [0 0 0 1 0 0 0 0 1 0 1 1 1 1 1 0 0 1 0 0]]\n"
          ]
        },
        {
          "output_type": "stream",
          "name": "stderr",
          "text": [
            "WARNING:matplotlib.legend:No artists with labels found to put in legend.  Note that artists whose label start with an underscore are ignored when legend() is called with no argument.\n",
            "WARNING:matplotlib.legend:No artists with labels found to put in legend.  Note that artists whose label start with an underscore are ignored when legend() is called with no argument.\n"
          ]
        },
        {
          "output_type": "stream",
          "name": "stdout",
          "text": [
            "[[0 0 1 0 0 0 1 1 0 1 0 1 1 0 0 0 0 0 1 1]\n",
            " [0 0 1 1 1 1 0 1 1 0 1 1 0 1 1 1 1 0 0 1]\n",
            " [0 0 0 1 1 0 1 0 0 1 1 0 1 0 1 0 1 1 0 1]\n",
            " [1 1 1 0 0 1 1 0 0 0 0 0 1 1 1 0 1 1 1 1]\n",
            " [1 1 0 1 0 0 1 0 1 1 1 0 1 1 0 1 0 1 1 0]\n",
            " [1 0 0 1 1 0 0 1 0 1 1 1 1 1 1 0 0 1 1 0]\n",
            " [1 0 0 0 0 0 0 1 0 0 0 0 0 1 1 1 1 1 0 0]\n",
            " [0 0 1 0 0 0 1 0 0 1 1 0 0 1 0 2 0 0 0 0]\n",
            " [0 1 1 1 0 1 1 0 0 1 1 1 0 0 1 1 1 1 1 0]\n",
            " [1 1 0 0 1 1 1 1 0 0 1 1 1 0 0 0 1 1 0 1]\n",
            " [1 0 0 0 0 1 1 1 0 0 1 1 1 0 0 0 0 1 0 1]\n",
            " [1 1 0 0 1 0 0 0 0 0 1 1 0 1 1 0 0 1 1 0]\n",
            " [0 1 1 0 1 1 0 0 0 1 0 0 1 1 1 0 1 1 0 1]\n",
            " [1 1 0 0 0 0 1 1 0 0 1 0 1 0 1 1 1 0 0 1]\n",
            " [1 1 1 1 1 1 0 0 0 1 0 0 0 0 1 0 0 1 0 1]\n",
            " [0 0 1 0 0 1 0 1 1 0 1 0 0 1 1 0 0 1 0 0]\n",
            " [1 1 1 1 1 0 0 1 1 0 1 1 1 1 1 0 1 0 0 1]\n",
            " [0 0 1 1 1 0 1 1 1 0 1 1 0 1 1 0 0 1 1 1]\n",
            " [1 1 0 1 1 0 1 0 0 1 0 0 0 0 0 0 1 0 1 0]\n",
            " [0 0 0 0 0 1 0 1 1 1 1 1 0 1 1 1 0 0 1 1]]\n",
            "[[1 1 1 0 1 0 1 0 1 1 0 0 0 1 0 1 1 1 0 0]\n",
            " [0 1 0 1 1 0 0 0 1 1 0 1 0 0 0 0 1 1 0 0]\n",
            " [1 1 1 1 1 0 1 1 0 1 1 1 1 0 1 0 0 1 0 1]\n",
            " [0 1 0 1 0 1 1 1 0 0 0 0 0 1 1 1 1 0 0 0]\n",
            " [0 0 1 0 0 1 1 0 1 1 0 1 0 1 0 1 1 1 1 1]\n",
            " [0 1 1 1 0 0 0 0 1 0 1 1 1 1 1 0 1 1 0 0]\n",
            " [1 1 0 0 0 0 0 0 1 0 1 1 0 1 1 1 0 0 1 0]\n",
            " [0 1 0 1 1 1 0 0 0 1 0 1 0 1 1 1 1 0 1 0]\n",
            " [1 0 1 1 1 1 0 1 0 1 1 1 0 0 1 0 1 1 1 1]\n",
            " [0 0 1 1 0 0 0 1 0 0 0 1 1 1 0 1 0 0 1 1]\n",
            " [0 1 1 1 1 1 0 0 0 0 0 1 0 1 0 0 0 1 1 1]\n",
            " [1 1 0 0 0 1 0 0 0 1 1 1 0 1 0 1 1 1 1 0]\n",
            " [1 1 1 1 1 0 0 1 1 1 1 1 0 0 0 1 1 1 1 1]\n",
            " [0 0 0 0 0 1 1 0 0 0 1 1 0 1 0 1 1 1 1 0]\n",
            " [0 1 1 0 1 1 1 1 0 1 0 0 0 0 1 1 1 0 1 0]\n",
            " [1 0 1 1 0 1 0 0 1 1 0 1 0 1 1 1 0 0 0 1]\n",
            " [1 1 0 1 0 0 1 0 1 1 0 0 0 1 0 1 0 0 1 0]\n",
            " [0 1 0 0 0 0 0 0 1 0 1 0 0 0 1 0 0 0 0 0]\n",
            " [0 0 1 1 1 0 0 0 1 1 2 0 1 0 1 1 0 1 1 0]\n",
            " [0 1 0 0 1 0 1 1 1 0 0 0 1 0 1 0 1 1 1 1]]\n"
          ]
        },
        {
          "output_type": "stream",
          "name": "stderr",
          "text": [
            "WARNING:matplotlib.legend:No artists with labels found to put in legend.  Note that artists whose label start with an underscore are ignored when legend() is called with no argument.\n",
            "WARNING:matplotlib.legend:No artists with labels found to put in legend.  Note that artists whose label start with an underscore are ignored when legend() is called with no argument.\n"
          ]
        },
        {
          "output_type": "stream",
          "name": "stdout",
          "text": [
            "[[1 1 1 1 1 1 0 1 1 2 1 1 1 1 0 0 0 0 1 1]\n",
            " [0 0 0 0 0 0 0 1 0 0 1 1 0 0 0 1 0 0 0 1]\n",
            " [0 0 0 0 0 0 0 0 0 0 0 0 0 1 0 1 1 0 0 0]\n",
            " [0 1 0 1 0 0 0 1 1 1 0 1 0 0 1 1 1 1 0 1]\n",
            " [0 0 0 1 1 0 0 0 1 0 1 1 1 1 1 0 0 1 0 0]\n",
            " [1 1 0 0 1 0 0 0 1 0 1 0 1 1 0 1 1 0 0 1]\n",
            " [1 0 1 0 0 0 1 0 0 1 0 0 0 1 0 1 0 0 1 1]\n",
            " [0 0 1 0 0 0 0 0 1 0 0 0 0 1 0 1 1 1 0 1]\n",
            " [0 0 1 1 1 1 0 0 0 0 1 0 1 1 1 1 1 1 0 1]\n",
            " [0 1 1 0 0 0 0 1 1 1 1 1 0 1 1 1 1 1 1 0]\n",
            " [0 0 1 1 0 1 1 1 0 0 1 1 0 1 0 0 0 0 1 1]\n",
            " [1 0 1 0 0 0 1 1 1 0 0 1 0 0 0 0 0 1 1 1]\n",
            " [1 1 1 1 0 1 0 0 0 1 1 0 0 1 1 1 1 1 1 1]\n",
            " [1 1 1 1 1 0 0 0 0 1 1 0 1 0 1 0 1 1 1 1]\n",
            " [0 0 1 0 1 0 0 0 0 1 0 0 0 1 0 1 1 0 1 1]\n",
            " [1 0 1 0 1 1 1 0 0 0 0 0 1 0 1 1 0 0 0 0]\n",
            " [0 1 1 1 0 0 0 1 1 0 0 0 1 1 0 1 0 0 0 0]\n",
            " [1 0 1 0 0 0 0 0 1 0 1 0 0 0 0 1 0 1 0 0]\n",
            " [1 1 0 0 0 1 1 1 0 1 0 0 0 0 1 1 1 0 1 0]\n",
            " [1 1 0 1 0 1 0 0 0 0 0 0 1 0 0 0 0 0 1 0]]\n",
            "[[1 1 0 1 0 0 0 1 0 1 0 1 1 1 0 0 1 1 0 1]\n",
            " [1 1 1 1 1 1 1 1 1 0 1 0 1 1 0 1 0 0 0 0]\n",
            " [0 1 1 0 1 1 1 1 1 0 0 0 1 1 0 0 1 1 0 1]\n",
            " [1 1 1 1 1 1 0 1 0 0 1 0 0 0 1 1 1 1 0 0]\n",
            " [0 0 0 1 1 0 0 1 0 0 1 1 0 0 0 0 0 1 0 1]\n",
            " [1 1 1 1 0 0 0 1 1 1 0 1 0 1 1 0 0 0 0 0]\n",
            " [0 0 0 1 0 0 1 0 0 0 0 1 0 1 0 1 1 0 1 1]\n",
            " [1 1 0 1 0 1 0 1 0 0 0 1 0 0 0 0 0 0 0 0]\n",
            " [0 1 1 0 1 1 0 0 1 0 0 0 1 0 1 0 1 1 0 0]\n",
            " [0 1 0 0 0 0 1 0 1 0 1 0 0 0 0 1 0 1 1 1]\n",
            " [1 1 0 1 1 0 0 0 0 1 0 0 0 0 1 1 1 0 0 0]\n",
            " [0 1 0 0 1 1 1 0 0 1 1 0 0 1 1 1 0 1 1 1]\n",
            " [0 1 1 2 0 0 1 0 1 0 0 1 1 0 1 1 1 0 1 1]\n",
            " [0 0 0 0 1 1 0 0 1 0 1 0 1 1 1 1 1 0 1 0]\n",
            " [0 1 0 1 0 1 0 0 1 0 1 0 1 1 1 0 1 0 0 0]\n",
            " [1 1 1 1 0 1 0 0 0 1 1 1 0 0 1 1 0 0 1 1]\n",
            " [1 1 1 1 0 0 1 1 1 0 0 1 0 0 0 1 0 1 0 0]\n",
            " [0 0 0 1 1 0 0 1 1 1 0 0 1 1 0 1 1 0 0 1]\n",
            " [0 1 1 0 0 1 0 0 1 1 0 0 0 0 0 1 1 1 0 1]\n",
            " [1 1 0 1 0 0 0 0 0 0 0 1 1 0 0 0 0 0 0 0]]\n"
          ]
        },
        {
          "output_type": "stream",
          "name": "stderr",
          "text": [
            "WARNING:matplotlib.legend:No artists with labels found to put in legend.  Note that artists whose label start with an underscore are ignored when legend() is called with no argument.\n",
            "WARNING:matplotlib.legend:No artists with labels found to put in legend.  Note that artists whose label start with an underscore are ignored when legend() is called with no argument.\n"
          ]
        },
        {
          "output_type": "stream",
          "name": "stdout",
          "text": [
            "[[0 1 0 1 1 1 0 0 0 0 1 1 0 0 1 0 1 1 0 1]\n",
            " [0 1 0 1 1 1 0 0 1 0 0 1 0 1 1 0 1 1 1 0]\n",
            " [0 0 1 0 1 0 1 1 0 1 1 1 0 1 1 1 0 1 0 0]\n",
            " [0 1 1 1 0 1 0 0 0 1 1 1 0 1 0 1 1 1 0 0]\n",
            " [1 1 0 1 1 1 0 1 1 1 0 1 1 0 0 1 1 1 1 0]\n",
            " [0 0 1 0 1 0 0 1 0 0 0 0 1 1 0 0 1 1 1 1]\n",
            " [1 1 0 0 0 0 0 0 0 1 0 0 1 1 1 0 0 1 1 1]\n",
            " [0 0 0 1 1 0 1 0 0 0 0 1 0 1 1 0 1 1 1 1]\n",
            " [1 1 0 1 1 0 1 1 1 1 0 0 0 1 0 0 0 1 0 0]\n",
            " [1 1 0 0 1 0 1 1 0 1 0 1 0 1 0 0 1 0 1 0]\n",
            " [0 1 0 1 0 1 1 1 1 1 0 1 0 1 1 0 0 0 1 1]\n",
            " [0 1 0 1 0 0 1 0 1 0 1 0 0 0 0 1 1 0 0 1]\n",
            " [2 0 0 0 1 1 0 0 1 0 0 0 0 1 1 0 0 0 0 1]\n",
            " [0 1 1 0 1 1 0 0 1 1 1 1 0 1 1 0 0 0 0 1]\n",
            " [0 0 0 1 1 1 0 1 1 1 1 1 1 0 1 0 1 1 1 0]\n",
            " [0 0 0 1 0 0 0 0 0 0 0 1 1 0 0 0 0 1 1 1]\n",
            " [0 0 0 0 0 0 0 1 0 0 1 1 0 0 1 0 1 1 1 0]\n",
            " [1 1 1 0 1 0 0 1 1 0 1 1 0 1 1 1 1 0 1 0]\n",
            " [1 1 1 0 1 0 0 1 0 1 1 1 1 0 1 0 0 1 0 0]\n",
            " [0 0 1 1 0 1 1 1 0 1 0 1 0 0 0 1 0 0 1 1]]\n",
            "[[0 1 1 1 1 0 0 1 1 1 1 1 1 0 0 0 1 0 1 1]\n",
            " [0 0 0 0 1 0 1 0 0 1 0 0 1 1 0 1 1 1 0 0]\n",
            " [1 1 0 1 1 0 0 0 1 1 1 1 1 0 1 0 1 0 1 0]\n",
            " [1 1 0 0 1 1 1 0 1 1 0 0 1 0 1 1 1 0 0 0]\n",
            " [0 0 0 0 0 0 1 1 1 0 0 0 0 0 0 0 0 0 0 1]\n",
            " [0 0 1 1 1 1 0 0 0 1 0 0 0 0 0 1 0 1 0 1]\n",
            " [0 0 0 1 1 0 1 0 0 1 1 1 0 1 1 0 1 1 0 0]\n",
            " [1 1 0 1 0 1 1 1 0 1 1 0 1 1 1 0 0 1 1 1]\n",
            " [1 0 0 1 0 1 1 1 1 0 0 1 1 1 0 1 0 0 0 1]\n",
            " [1 0 0 1 1 0 1 1 0 1 1 0 1 0 0 0 0 0 1 1]\n",
            " [1 1 0 1 0 1 0 0 1 0 0 1 1 1 1 0 1 1 1 1]\n",
            " [1 1 0 1 1 0 0 1 0 1 0 1 0 0 0 1 1 1 0 1]\n",
            " [0 0 0 0 0 1 0 0 0 0 1 0 0 1 1 1 0 0 1 0]\n",
            " [1 0 1 0 1 0 1 1 1 0 0 0 1 1 0 1 1 0 0 1]\n",
            " [1 0 1 0 1 0 1 1 0 0 0 0 0 1 2 1 1 0 0 1]\n",
            " [0 0 1 0 0 0 1 0 1 0 1 1 0 1 0 1 1 0 1 0]\n",
            " [1 1 1 1 1 1 0 0 0 1 1 0 0 0 1 1 0 0 0 0]\n",
            " [1 0 0 0 1 1 0 0 0 0 1 0 0 1 1 0 1 0 0 1]\n",
            " [1 0 0 1 1 0 0 0 0 1 1 0 1 1 1 1 0 0 1 0]\n",
            " [1 0 0 1 0 0 1 1 1 1 1 1 1 0 1 0 1 0 1 1]]\n"
          ]
        },
        {
          "output_type": "stream",
          "name": "stderr",
          "text": [
            "WARNING:matplotlib.legend:No artists with labels found to put in legend.  Note that artists whose label start with an underscore are ignored when legend() is called with no argument.\n"
          ]
        },
        {
          "output_type": "stream",
          "name": "stdout",
          "text": [
            "[[1 1 1 0 1 1 0 0 1 0 0 1 0 0 0 0 1 1 1 1]\n",
            " [0 0 1 0 0 0 0 1 0 0 0 1 0 1 1 0 1 1 0 1]\n",
            " [0 1 1 1 0 1 0 0 0 0 0 1 1 0 1 0 1 1 0 1]\n",
            " [0 0 1 1 1 1 0 1 1 0 0 1 1 0 1 0 0 1 0 1]\n",
            " [0 0 1 0 0 0 0 1 0 1 0 1 0 0 1 0 1 0 0 0]\n",
            " [0 0 1 1 1 0 1 1 1 1 1 0 1 0 0 0 1 0 0 0]\n",
            " [1 0 0 1 0 1 1 1 0 1 1 1 1 1 0 0 0 0 0 0]\n",
            " [1 0 1 1 0 0 0 0 1 0 1 0 0 1 0 0 0 0 0 0]\n",
            " [0 1 0 0 0 1 1 0 1 1 1 0 1 1 0 1 0 0 0 0]\n",
            " [1 1 0 1 0 0 0 0 1 0 1 0 1 1 0 0 1 1 1 0]\n",
            " [1 0 0 0 0 0 1 1 1 0 0 0 0 0 1 0 1 1 0 1]\n",
            " [0 1 1 0 0 1 1 0 0 1 0 1 1 0 1 1 0 0 1 0]\n",
            " [1 0 0 1 0 0 1 1 1 1 1 1 1 1 0 1 0 0 1 1]\n",
            " [0 1 1 0 0 1 0 0 0 0 0 1 0 1 0 0 1 0 0 0]\n",
            " [1 0 0 1 0 1 0 0 0 1 0 1 1 1 1 0 0 0 0 1]\n",
            " [1 0 0 0 0 1 1 1 1 1 1 1 0 1 1 0 0 1 1 1]\n",
            " [1 1 1 0 1 0 1 0 0 0 0 1 1 0 1 2 0 1 0 1]\n",
            " [1 0 0 0 0 0 0 1 0 1 1 0 0 1 0 0 0 1 0 1]\n",
            " [0 1 0 0 0 1 0 1 0 1 0 0 1 0 1 1 1 0 0 1]\n",
            " [0 1 1 0 1 1 0 1 0 0 0 1 0 0 1 0 1 0 1 1]]\n"
          ]
        },
        {
          "output_type": "stream",
          "name": "stderr",
          "text": [
            "WARNING:matplotlib.legend:No artists with labels found to put in legend.  Note that artists whose label start with an underscore are ignored when legend() is called with no argument.\n",
            "WARNING:matplotlib.legend:No artists with labels found to put in legend.  Note that artists whose label start with an underscore are ignored when legend() is called with no argument.\n"
          ]
        },
        {
          "output_type": "stream",
          "name": "stdout",
          "text": [
            "[[0 0 0 0 0 1 1 1 1 0 0 1 1 1 1 1 1 1 1 0]\n",
            " [0 1 0 0 1 1 0 1 0 0 0 0 0 0 1 0 0 0 1 0]\n",
            " [1 1 0 0 0 0 1 0 0 0 1 1 1 0 0 1 0 1 1 0]\n",
            " [0 0 0 0 0 0 0 1 0 0 1 1 0 0 0 0 1 1 1 1]\n",
            " [0 0 1 0 0 1 0 0 0 0 1 0 0 1 0 1 1 0 1 0]\n",
            " [0 0 1 0 0 1 1 0 0 0 0 1 0 0 1 1 0 0 1 0]\n",
            " [1 1 0 0 0 0 0 1 0 1 0 0 1 0 0 1 0 1 0 0]\n",
            " [1 1 1 0 1 1 1 1 0 0 0 0 1 0 0 0 1 1 0 0]\n",
            " [1 0 1 1 1 0 1 1 1 0 0 1 1 1 1 1 0 1 0 1]\n",
            " [1 0 0 0 0 1 0 1 1 0 1 1 0 0 1 0 1 0 0 1]\n",
            " [1 0 0 0 1 1 1 1 0 0 0 1 0 1 1 1 1 0 0 1]\n",
            " [0 0 0 0 0 0 1 1 0 0 0 1 0 0 0 0 1 0 1 1]\n",
            " [1 0 1 0 0 1 1 1 0 1 0 0 0 0 1 1 1 1 1 1]\n",
            " [1 1 1 0 1 1 1 1 1 0 0 0 1 1 1 1 1 1 1 1]\n",
            " [1 1 1 0 1 1 0 1 0 1 1 1 1 0 0 0 0 1 0 0]\n",
            " [1 0 0 1 1 0 0 1 0 0 0 0 1 0 1 1 1 1 0 1]\n",
            " [1 0 0 1 1 0 0 1 2 0 1 0 1 0 0 1 1 1 1 0]\n",
            " [1 1 0 0 0 0 0 1 1 1 0 0 1 1 1 1 0 0 1 0]\n",
            " [1 1 0 0 1 1 1 0 1 1 1 1 1 1 1 1 0 0 0 1]\n",
            " [1 0 1 1 0 1 1 0 0 1 1 1 0 0 1 0 0 1 1 0]]\n",
            "[[0 1 1 0 1 1 1 1 0 1 0 1 1 1 1 1 1 1 0 1]\n",
            " [1 1 0 1 0 1 0 0 1 0 0 1 0 1 0 0 1 0 0 0]\n",
            " [1 1 0 1 1 1 0 1 1 0 1 0 0 0 1 0 1 0 1 0]\n",
            " [0 1 1 1 1 1 1 1 1 0 0 1 0 1 1 0 0 0 0 1]\n",
            " [1 1 0 0 1 0 0 1 1 1 1 0 0 0 0 0 1 0 1 0]\n",
            " [1 0 0 0 1 1 0 1 0 1 1 0 0 1 1 1 0 1 0 1]\n",
            " [1 1 0 1 1 0 1 1 0 0 0 1 0 0 1 0 1 1 1 0]\n",
            " [0 1 1 1 1 1 1 0 0 1 0 1 0 1 1 0 0 0 0 0]\n",
            " [0 1 1 1 1 1 0 1 1 0 1 0 0 1 0 1 1 1 0 1]\n",
            " [1 1 0 1 1 1 1 0 1 1 0 1 0 1 0 1 1 0 1 1]\n",
            " [1 0 0 1 0 1 1 1 0 1 0 1 1 1 1 0 1 0 1 1]\n",
            " [1 0 0 0 0 1 1 1 1 1 1 1 1 1 0 0 1 1 0 1]\n",
            " [0 1 1 1 1 1 1 1 0 1 1 0 1 0 0 1 1 0 0 1]\n",
            " [0 0 0 0 1 0 0 0 1 1 0 0 0 1 0 0 0 0 1 0]\n",
            " [1 1 1 1 1 1 1 1 0 0 0 0 0 1 0 1 1 1 0 0]\n",
            " [1 1 0 0 1 1 0 0 1 1 1 0 0 1 0 0 1 0 2 0]\n",
            " [1 0 1 0 0 1 1 1 0 1 1 0 1 0 1 0 1 0 0 0]\n",
            " [1 0 1 0 1 1 0 1 1 0 1 0 1 1 1 0 0 1 1 1]\n",
            " [1 0 1 0 1 0 0 1 0 0 0 1 1 1 1 0 0 0 1 1]\n",
            " [0 0 0 1 1 0 1 1 1 1 0 0 1 0 0 1 1 1 1 0]]\n"
          ]
        },
        {
          "output_type": "stream",
          "name": "stderr",
          "text": [
            "WARNING:matplotlib.legend:No artists with labels found to put in legend.  Note that artists whose label start with an underscore are ignored when legend() is called with no argument.\n",
            "WARNING:matplotlib.legend:No artists with labels found to put in legend.  Note that artists whose label start with an underscore are ignored when legend() is called with no argument.\n"
          ]
        },
        {
          "output_type": "stream",
          "name": "stdout",
          "text": [
            "[[0 0 1 1 1 1 0 1 0 0 0 0 0 0 0 0 1 0 1 0]\n",
            " [1 0 1 1 0 0 1 0 0 1 1 0 0 0 0 0 0 0 0 1]\n",
            " [1 1 1 1 1 0 0 0 1 1 0 1 1 0 1 1 0 1 0 0]\n",
            " [1 0 1 1 1 0 1 0 0 0 1 1 1 1 0 1 0 0 1 0]\n",
            " [1 1 0 0 1 1 0 0 1 0 1 1 1 0 0 1 0 0 0 0]\n",
            " [0 0 0 0 0 0 0 1 1 1 1 0 0 1 0 0 0 1 1 1]\n",
            " [0 1 0 1 0 1 1 0 0 0 0 0 0 0 1 1 0 1 1 1]\n",
            " [1 1 1 0 1 0 0 1 1 1 0 0 0 1 0 0 1 1 0 1]\n",
            " [0 0 0 1 0 1 0 1 0 0 0 0 1 0 0 1 1 0 1 1]\n",
            " [0 1 1 1 0 1 1 1 0 1 0 0 1 0 0 0 1 1 1 1]\n",
            " [0 1 1 0 0 0 1 1 1 0 0 0 1 0 0 0 0 1 0 0]\n",
            " [0 0 0 0 1 1 1 1 0 0 0 1 0 0 0 1 1 0 1 0]\n",
            " [1 1 1 1 1 1 0 1 0 1 0 0 0 0 1 1 0 1 1 0]\n",
            " [0 0 0 1 0 0 1 1 0 0 1 0 1 1 1 1 1 0 0 1]\n",
            " [0 0 0 0 1 0 1 0 0 1 1 0 1 0 0 1 0 1 0 1]\n",
            " [1 0 0 0 1 1 0 1 0 0 0 0 1 0 1 0 1 0 0 1]\n",
            " [1 1 0 0 0 1 1 1 1 0 0 1 1 0 1 0 0 1 0 0]\n",
            " [1 1 0 1 1 0 0 1 1 1 0 1 1 0 0 1 0 1 0 0]\n",
            " [1 0 1 0 0 0 0 0 1 0 1 0 1 0 0 1 1 1 0 0]\n",
            " [1 1 0 1 1 1 0 1 0 0 1 0 0 1 1 0 0 1 0 2]]\n",
            "[[0 0 0 0 1 1 1 0 1 1 0 0 1 1 0 0 0 1 1 1]\n",
            " [0 0 1 0 0 0 0 1 1 0 1 0 1 0 0 1 1 1 0 1]\n",
            " [1 0 0 0 0 0 1 1 1 1 0 0 0 1 0 0 0 1 0 0]\n",
            " [1 1 1 1 0 1 0 1 1 0 0 0 0 1 1 1 0 1 0 1]\n",
            " [1 1 1 1 0 1 1 0 1 1 0 0 0 0 1 0 0 1 1 0]\n",
            " [1 1 1 1 1 1 1 0 1 0 0 0 0 1 1 0 0 1 0 0]\n",
            " [0 0 1 0 0 0 0 0 1 0 1 0 1 0 1 0 1 0 1 1]\n",
            " [1 0 0 1 0 1 0 1 1 0 1 1 1 0 1 1 1 0 0 1]\n",
            " [1 0 1 0 1 0 0 0 0 0 1 0 1 1 0 0 1 1 0 0]\n",
            " [0 0 0 0 1 1 0 1 0 0 0 1 0 1 1 1 1 1 0 1]\n",
            " [1 1 1 1 1 1 0 1 0 0 1 1 1 0 0 0 0 0 0 1]\n",
            " [0 1 0 1 0 1 0 1 0 1 0 1 0 1 1 1 1 1 0 0]\n",
            " [0 0 0 1 0 0 1 0 0 1 0 0 1 1 0 1 1 1 1 1]\n",
            " [1 1 0 0 1 0 1 1 0 0 1 0 1 1 0 1 0 0 1 1]\n",
            " [0 1 1 1 1 1 0 0 1 0 0 0 0 0 0 1 2 0 0 1]\n",
            " [1 1 1 0 0 0 1 1 0 0 1 1 0 1 0 1 0 1 0 1]\n",
            " [1 1 1 1 0 1 0 1 1 0 1 0 1 1 1 0 1 0 1 0]\n",
            " [0 0 1 1 1 1 1 1 0 0 0 1 1 0 0 1 0 1 0 1]\n",
            " [1 0 0 1 1 1 1 1 1 0 0 0 0 1 1 0 0 0 1 1]\n",
            " [1 0 1 0 0 1 0 0 0 1 0 0 1 1 0 1 1 1 0 1]]\n"
          ]
        },
        {
          "output_type": "stream",
          "name": "stderr",
          "text": [
            "WARNING:matplotlib.legend:No artists with labels found to put in legend.  Note that artists whose label start with an underscore are ignored when legend() is called with no argument.\n",
            "WARNING:matplotlib.legend:No artists with labels found to put in legend.  Note that artists whose label start with an underscore are ignored when legend() is called with no argument.\n"
          ]
        },
        {
          "output_type": "stream",
          "name": "stdout",
          "text": [
            "[[1 1 0 0 0 0 1 0 1 0 0 1 0 0 0 0 0 1 0 0]\n",
            " [1 1 1 1 1 0 1 1 0 1 0 1 1 0 1 1 0 0 1 1]\n",
            " [1 1 1 1 0 1 0 0 1 1 0 0 0 1 1 0 0 0 1 1]\n",
            " [1 1 1 1 0 0 1 0 0 0 0 1 1 0 0 1 1 1 1 1]\n",
            " [1 0 0 1 0 1 1 0 0 1 0 0 0 0 1 1 0 1 1 0]\n",
            " [0 1 0 1 1 0 0 1 0 0 0 0 0 1 1 0 1 0 1 1]\n",
            " [1 0 0 0 1 0 0 1 1 1 1 1 1 0 1 0 0 1 0 1]\n",
            " [1 0 1 0 0 0 0 0 0 1 1 1 1 1 1 0 0 0 0 1]\n",
            " [1 1 0 0 0 0 1 0 1 1 0 0 0 0 1 0 0 1 2 1]\n",
            " [1 0 0 0 1 1 1 1 1 1 1 1 1 1 1 0 0 1 0 0]\n",
            " [1 1 0 0 1 1 0 1 0 1 1 0 1 1 0 0 0 1 1 1]\n",
            " [0 1 1 0 1 0 0 1 1 0 0 0 1 0 1 0 0 1 1 0]\n",
            " [1 1 0 1 1 1 1 0 0 1 0 0 0 1 0 0 1 0 1 1]\n",
            " [0 0 1 1 0 0 1 1 0 1 0 0 0 1 0 1 1 0 0 0]\n",
            " [1 1 1 1 1 1 1 0 0 1 1 0 1 1 1 0 1 1 1 1]\n",
            " [0 1 1 1 1 1 1 1 0 1 0 1 1 0 0 1 1 1 1 1]\n",
            " [1 1 1 1 0 1 0 0 0 0 0 0 0 1 0 1 1 0 0 0]\n",
            " [0 1 1 1 0 0 0 0 0 1 0 1 1 0 0 1 0 0 1 1]\n",
            " [1 1 0 0 0 1 0 0 0 0 0 0 1 0 1 1 1 0 0 0]\n",
            " [1 0 0 1 0 0 1 1 0 1 1 1 0 0 1 1 1 0 0 0]]\n",
            "[[1 1 1 1 1 0 0 0 0 0 0 1 0 0 0 1 1 1 1 0]\n",
            " [1 1 1 1 0 1 1 1 1 0 0 0 0 0 0 1 1 0 1 0]\n",
            " [1 1 1 1 1 1 1 1 1 0 1 0 0 1 0 0 1 1 0 0]\n",
            " [0 0 1 1 0 1 1 1 1 1 0 1 0 1 1 0 0 0 0 1]\n",
            " [0 0 1 1 1 0 1 1 1 1 1 0 1 0 0 0 1 1 1 0]\n",
            " [1 0 0 0 1 1 1 1 0 0 0 0 0 1 0 0 0 1 0 0]\n",
            " [0 0 1 0 1 0 1 0 0 0 0 1 1 0 0 1 1 1 1 1]\n",
            " [1 1 0 1 0 1 1 0 0 1 1 0 0 1 1 0 1 0 0 1]\n",
            " [1 1 1 0 0 1 1 0 1 1 0 1 1 1 0 0 1 0 0 1]\n",
            " [1 0 1 1 1 0 1 0 0 1 2 0 1 0 0 1 1 1 0 1]\n",
            " [1 1 1 0 0 1 0 1 1 1 1 0 1 0 1 1 0 0 1 1]\n",
            " [1 1 1 1 1 0 0 0 0 0 0 1 0 0 0 0 1 1 1 0]\n",
            " [0 0 0 0 1 0 1 1 0 1 0 0 0 0 1 1 0 1 0 0]\n",
            " [0 0 0 1 0 0 0 1 1 1 0 0 0 1 0 1 0 1 1 0]\n",
            " [0 1 1 1 1 1 1 0 0 0 1 0 1 1 1 0 1 1 0 1]\n",
            " [1 0 1 1 1 1 0 0 1 1 1 0 1 0 1 1 0 0 1 1]\n",
            " [0 0 0 0 1 0 0 0 0 0 0 0 0 0 1 1 0 1 0 0]\n",
            " [0 0 0 0 1 1 0 0 1 1 1 1 0 1 0 1 1 1 1 1]\n",
            " [0 1 1 1 1 0 0 0 0 0 0 0 0 1 0 1 1 0 1 1]\n",
            " [0 1 1 0 0 1 1 0 0 1 1 1 0 1 0 0 0 1 1 1]]\n"
          ]
        },
        {
          "output_type": "stream",
          "name": "stderr",
          "text": [
            "WARNING:matplotlib.legend:No artists with labels found to put in legend.  Note that artists whose label start with an underscore are ignored when legend() is called with no argument.\n",
            "WARNING:matplotlib.legend:No artists with labels found to put in legend.  Note that artists whose label start with an underscore are ignored when legend() is called with no argument.\n"
          ]
        },
        {
          "output_type": "stream",
          "name": "stdout",
          "text": [
            "[[1 1 0 0 1 0 0 1 1 0 1 1 0 1 1 1 0 0 0 1]\n",
            " [0 1 0 0 0 0 0 1 0 1 1 1 0 0 0 0 0 0 1 1]\n",
            " [0 0 0 0 1 1 0 1 1 1 1 1 0 0 1 0 0 0 1 1]\n",
            " [1 0 1 1 0 1 0 1 1 1 0 1 0 0 0 1 1 0 0 1]\n",
            " [0 1 1 1 0 0 1 0 0 0 1 0 0 0 0 0 1 1 0 1]\n",
            " [1 0 1 1 0 1 1 0 1 1 0 0 1 0 0 0 1 0 1 1]\n",
            " [0 0 0 1 1 1 0 1 0 0 0 1 1 0 0 0 1 0 1 1]\n",
            " [0 1 1 0 1 0 1 1 1 1 1 1 0 0 0 1 0 1 0 0]\n",
            " [1 1 0 1 1 1 1 1 0 0 0 0 0 1 0 1 0 0 1 0]\n",
            " [0 1 0 1 0 0 0 1 0 1 1 1 1 0 1 0 0 1 0 0]\n",
            " [1 1 1 0 1 0 1 1 1 1 1 1 1 1 1 0 0 0 0 1]\n",
            " [0 0 1 0 1 1 0 0 0 0 0 0 1 1 1 0 1 0 0 1]\n",
            " [1 0 1 0 0 0 0 1 0 1 0 1 1 1 1 0 0 0 1 1]\n",
            " [0 1 1 0 0 0 1 2 0 0 0 0 0 1 1 1 0 1 0 0]\n",
            " [0 1 0 1 1 0 1 0 1 1 0 1 0 1 0 0 0 1 0 1]\n",
            " [0 0 1 0 1 1 0 0 1 0 1 1 1 0 0 1 1 0 0 0]\n",
            " [0 1 0 1 1 0 0 0 1 1 0 0 0 0 0 0 0 1 0 0]\n",
            " [0 1 0 1 1 0 1 0 0 0 0 0 0 1 0 1 1 1 0 1]\n",
            " [0 0 1 0 1 1 0 1 1 1 1 1 1 0 0 0 0 0 1 0]\n",
            " [0 0 1 0 0 0 0 0 1 0 1 0 0 1 1 1 1 1 1 1]]\n",
            "[[1 1 0 1 1 0 1 1 1 1 1 0 1 1 0 0 1 1 1 0]\n",
            " [1 1 1 0 1 1 1 0 1 1 1 1 1 0 1 1 0 0 0 0]\n",
            " [0 0 1 1 0 1 1 1 0 1 1 1 1 0 1 1 1 0 1 1]\n",
            " [0 1 0 1 1 1 0 0 1 1 1 0 0 1 1 1 1 1 0 1]\n",
            " [1 1 0 0 0 1 1 1 0 1 0 0 0 0 0 0 1 1 0 1]\n",
            " [0 1 1 0 0 1 1 0 0 1 0 1 0 1 0 1 1 1 1 1]\n",
            " [0 0 0 1 0 1 0 1 1 0 1 1 0 0 1 0 1 1 0 1]\n",
            " [2 0 1 0 1 1 1 1 0 1 1 0 1 1 0 1 0 0 0 1]\n",
            " [0 1 1 0 0 0 0 1 1 0 1 1 0 1 0 1 1 0 1 0]\n",
            " [1 0 0 0 1 0 0 1 1 0 0 0 0 0 1 1 1 1 1 0]\n",
            " [0 0 0 0 1 0 0 1 0 0 1 0 1 0 0 1 0 1 0 1]\n",
            " [0 1 0 0 0 1 0 1 1 0 0 1 0 1 0 1 0 1 0 0]\n",
            " [1 1 1 0 1 1 0 0 0 1 1 0 0 0 1 1 0 0 1 1]\n",
            " [0 1 0 1 0 1 0 1 1 0 1 1 1 1 0 1 1 1 0 0]\n",
            " [0 1 1 0 1 0 0 1 0 0 0 1 0 0 0 0 0 1 1 0]\n",
            " [1 1 1 1 1 0 0 0 1 0 0 1 0 1 0 1 0 1 1 0]\n",
            " [0 0 1 0 1 0 0 0 1 1 0 0 1 1 1 1 1 1 1 1]\n",
            " [0 0 0 1 0 1 1 0 0 0 1 0 1 1 0 1 1 1 1 0]\n",
            " [1 0 1 1 1 0 0 0 1 1 0 1 1 0 0 1 0 1 0 1]\n",
            " [1 1 0 0 0 0 1 1 0 0 0 0 1 1 1 0 0 1 1 0]]\n"
          ]
        },
        {
          "output_type": "stream",
          "name": "stderr",
          "text": [
            "WARNING:matplotlib.legend:No artists with labels found to put in legend.  Note that artists whose label start with an underscore are ignored when legend() is called with no argument.\n",
            "WARNING:matplotlib.legend:No artists with labels found to put in legend.  Note that artists whose label start with an underscore are ignored when legend() is called with no argument.\n"
          ]
        },
        {
          "output_type": "stream",
          "name": "stdout",
          "text": [
            "[[1 0 0 1 1 0 0 1 1 0 1 0 0 1 1 0 1 1 0 1]\n",
            " [1 0 1 0 0 1 0 0 0 0 1 1 1 1 1 1 0 1 1 1]\n",
            " [0 1 0 0 1 0 1 0 1 0 1 0 1 0 0 0 0 1 1 0]\n",
            " [0 0 1 1 0 0 0 0 0 1 0 0 1 1 1 1 1 0 1 0]\n",
            " [1 0 1 1 0 1 1 0 1 1 1 1 1 0 0 0 1 1 0 0]\n",
            " [0 0 0 0 0 1 0 0 0 0 1 0 0 1 1 1 0 1 1 0]\n",
            " [0 1 0 1 0 1 0 1 1 1 1 1 1 0 1 1 1 1 1 1]\n",
            " [1 1 1 1 1 1 0 0 0 1 0 0 1 1 0 0 0 0 0 0]\n",
            " [1 1 0 1 0 0 1 0 1 0 1 0 1 1 0 1 0 1 1 0]\n",
            " [1 0 0 1 1 1 0 0 0 1 0 0 1 0 0 1 0 0 1 0]\n",
            " [0 0 1 1 0 0 0 0 0 1 0 0 1 1 0 0 0 0 0 1]\n",
            " [0 0 0 1 1 0 1 0 1 1 1 0 1 1 0 0 1 0 1 0]\n",
            " [0 0 0 0 1 1 1 0 1 1 0 0 1 1 0 1 0 0 0 1]\n",
            " [0 0 0 0 0 0 1 0 0 0 1 0 0 1 1 0 1 0 1 0]\n",
            " [0 1 1 0 0 0 0 1 0 0 0 0 1 1 1 1 1 1 1 0]\n",
            " [0 1 1 0 1 0 1 1 1 1 0 1 1 0 1 0 1 0 0 0]\n",
            " [1 1 2 1 0 0 1 1 0 1 0 0 1 0 0 1 0 0 0 1]\n",
            " [1 0 0 0 0 0 0 0 0 1 1 1 0 1 0 1 0 1 1 0]\n",
            " [1 1 0 1 0 0 0 1 1 1 0 1 0 0 0 0 0 1 1 0]\n",
            " [0 0 0 1 0 1 0 0 0 1 0 1 1 0 0 1 1 1 1 1]]\n",
            "[[0 1 1 0 1 1 0 1 1 1 1 0 0 1 1 1 0 0 0 0]\n",
            " [0 1 0 1 1 1 0 0 1 0 0 0 0 1 1 0 0 1 1 0]\n",
            " [1 1 1 1 1 1 1 0 1 0 1 1 0 1 1 1 1 0 0 1]\n",
            " [1 1 0 0 1 0 1 0 0 1 0 1 1 1 0 0 1 1 0 0]\n",
            " [0 0 1 0 1 1 0 1 0 1 0 1 1 0 1 1 0 1 1 0]\n",
            " [0 1 0 1 1 1 1 0 0 0 0 0 1 1 1 1 0 0 1 1]\n",
            " [1 1 0 1 1 1 1 1 1 0 1 1 1 0 0 1 0 0 1 0]\n",
            " [0 1 1 1 0 1 1 0 1 0 1 0 0 1 1 0 0 0 1 1]\n",
            " [0 1 1 0 0 0 1 1 0 0 1 0 1 1 0 0 1 1 0 0]\n",
            " [0 0 1 1 1 0 0 1 1 0 0 0 1 1 0 1 0 0 1 1]\n",
            " [1 0 0 0 0 1 1 0 0 0 0 1 0 1 0 1 0 0 1 1]\n",
            " [0 0 0 1 1 1 0 0 1 1 1 0 0 0 1 0 1 1 0 1]\n",
            " [0 1 1 0 1 1 0 0 1 1 1 0 1 1 0 0 1 1 1 1]\n",
            " [1 1 0 0 1 0 0 1 1 0 0 0 0 1 0 1 1 0 1 1]\n",
            " [0 0 1 1 0 1 0 0 0 1 1 0 1 1 1 1 1 0 1 0]\n",
            " [1 0 0 1 0 0 0 1 0 0 1 1 0 0 0 0 1 0 1 1]\n",
            " [1 1 1 0 0 0 1 0 0 1 0 1 1 0 1 1 1 0 1 1]\n",
            " [1 1 1 0 1 0 2 1 1 0 0 0 1 1 1 1 0 1 1 1]\n",
            " [1 0 1 0 1 1 0 1 0 0 1 0 0 1 0 1 0 1 0 1]\n",
            " [1 1 1 1 1 0 0 0 1 1 1 0 0 1 1 0 0 1 1 1]]\n"
          ]
        },
        {
          "output_type": "stream",
          "name": "stderr",
          "text": [
            "WARNING:matplotlib.legend:No artists with labels found to put in legend.  Note that artists whose label start with an underscore are ignored when legend() is called with no argument.\n",
            "WARNING:matplotlib.legend:No artists with labels found to put in legend.  Note that artists whose label start with an underscore are ignored when legend() is called with no argument.\n"
          ]
        },
        {
          "output_type": "stream",
          "name": "stdout",
          "text": [
            "[[1 1 1 0 1 0 1 0 1 0 1 0 1 1 1 1 1 1 0 0]\n",
            " [0 0 0 0 1 1 1 1 1 0 1 1 1 1 0 0 0 1 0 1]\n",
            " [0 1 0 1 1 0 0 1 1 1 0 1 0 0 0 1 1 1 0 0]\n",
            " [0 0 1 0 1 1 0 0 1 0 1 1 0 0 0 0 1 1 0 1]\n",
            " [1 1 1 1 1 1 0 0 1 1 0 1 1 1 0 0 1 1 1 0]\n",
            " [1 0 0 1 0 0 0 0 1 1 0 0 0 1 1 0 1 1 0 1]\n",
            " [1 0 0 0 0 0 0 0 1 1 0 1 0 1 0 0 0 1 1 0]\n",
            " [1 1 1 0 0 0 0 1 0 1 0 0 0 1 1 0 0 0 1 0]\n",
            " [1 0 1 0 1 1 1 0 0 1 1 1 0 0 0 1 0 0 1 0]\n",
            " [0 1 0 0 0 1 0 1 1 0 1 2 0 0 1 1 1 1 0 0]\n",
            " [0 0 1 1 0 1 1 0 1 1 0 0 0 1 1 1 0 0 1 0]\n",
            " [1 1 1 1 0 0 1 1 0 1 1 0 1 0 0 1 0 0 0 0]\n",
            " [1 0 0 1 0 1 1 1 0 1 1 1 0 0 0 1 1 0 1 0]\n",
            " [1 1 0 1 1 0 0 1 1 1 1 0 0 0 0 0 1 1 0 1]\n",
            " [0 0 1 1 0 1 0 0 0 0 1 1 0 0 0 1 1 0 0 1]\n",
            " [1 1 1 0 0 1 1 0 1 0 1 0 0 1 1 1 0 0 0 1]\n",
            " [0 0 1 0 1 1 1 1 1 0 0 1 0 1 0 0 1 1 1 0]\n",
            " [0 0 1 1 1 0 1 0 0 1 1 1 1 0 0 0 1 0 0 0]\n",
            " [0 0 0 1 1 1 1 0 0 0 0 0 0 0 0 0 1 0 1 1]\n",
            " [1 1 1 1 1 0 1 0 1 1 1 0 0 0 1 1 1 1 1 0]]\n",
            "[[0 1 1 0 1 1 1 1 1 0 1 0 1 1 0 1 1 0 1 1]\n",
            " [0 1 1 0 0 0 1 1 0 1 1 0 1 0 1 1 1 0 0 0]\n",
            " [1 0 0 0 0 1 0 0 0 0 0 0 1 1 0 2 1 1 1 1]\n",
            " [1 0 0 0 0 1 0 0 0 1 1 0 1 1 1 0 0 1 0 0]\n",
            " [0 0 0 1 0 1 0 0 0 1 1 0 1 0 1 0 0 1 0 1]\n",
            " [0 0 1 1 0 1 1 0 0 0 0 0 1 0 0 0 1 1 1 1]\n",
            " [0 0 0 1 1 1 1 1 0 1 0 1 0 0 1 0 1 1 0 1]\n",
            " [0 1 0 0 0 1 0 1 1 0 0 1 1 1 1 0 0 0 0 1]\n",
            " [0 0 1 1 1 1 1 0 0 1 1 0 0 1 0 1 1 1 1 1]\n",
            " [0 1 1 1 0 1 0 0 0 0 0 0 1 0 1 0 0 0 0 1]\n",
            " [1 0 0 1 1 0 0 0 1 0 1 1 1 0 1 0 0 1 0 1]\n",
            " [1 1 1 1 1 0 1 1 1 1 1 1 0 1 1 1 1 1 0 1]\n",
            " [1 0 0 0 1 0 1 1 1 1 1 0 0 1 1 0 0 0 1 0]\n",
            " [1 0 1 0 1 0 1 1 1 1 1 0 0 0 0 0 0 0 0 1]\n",
            " [0 1 0 1 1 1 0 0 0 0 0 1 1 1 1 1 1 1 1 1]\n",
            " [1 1 1 1 1 1 1 0 0 1 1 0 0 0 0 0 1 0 1 1]\n",
            " [0 1 0 1 1 0 0 0 0 1 1 0 0 0 1 0 0 1 1 1]\n",
            " [0 0 0 1 0 0 0 0 0 1 1 1 0 0 0 1 0 1 1 0]\n",
            " [1 1 0 1 1 1 0 0 1 0 0 1 0 0 1 1 1 1 1 1]\n",
            " [1 1 0 1 0 1 1 1 1 0 1 0 0 1 1 0 0 1 0 0]]\n"
          ]
        },
        {
          "output_type": "stream",
          "name": "stderr",
          "text": [
            "WARNING:matplotlib.legend:No artists with labels found to put in legend.  Note that artists whose label start with an underscore are ignored when legend() is called with no argument.\n",
            "WARNING:matplotlib.legend:No artists with labels found to put in legend.  Note that artists whose label start with an underscore are ignored when legend() is called with no argument.\n"
          ]
        },
        {
          "output_type": "stream",
          "name": "stdout",
          "text": [
            "[[1 0 1 1 1 0 0 1 0 1 0 0 1 1 1 1 1 1 1 1]\n",
            " [0 1 1 1 1 0 1 0 0 1 1 1 0 0 1 0 1 0 0 0]\n",
            " [1 1 1 0 0 0 0 1 0 0 0 1 0 0 1 0 1 0 0 1]\n",
            " [1 0 1 1 1 0 0 1 1 0 1 0 0 0 1 1 0 0 0 1]\n",
            " [0 0 0 0 1 0 1 1 1 0 0 1 0 1 1 1 1 1 0 0]\n",
            " [0 1 1 1 0 1 1 0 1 0 0 1 0 1 0 1 1 0 1 0]\n",
            " [0 1 1 1 1 1 0 1 1 0 1 1 0 0 1 1 0 1 1 1]\n",
            " [0 0 1 0 1 0 1 0 1 1 1 1 1 0 1 1 0 0 1 1]\n",
            " [1 1 0 0 1 1 0 0 0 1 1 0 1 1 0 1 0 1 0 1]\n",
            " [0 1 1 1 1 1 1 1 1 1 0 1 1 1 1 1 0 0 1 0]\n",
            " [0 1 0 1 1 0 0 1 0 1 1 0 1 0 1 0 0 0 0 1]\n",
            " [0 1 0 1 0 0 1 0 0 0 0 1 0 1 0 0 1 1 0 1]\n",
            " [0 1 1 1 0 1 0 0 0 0 1 0 0 0 0 0 0 1 0 0]\n",
            " [0 0 0 1 1 1 1 0 1 1 0 0 0 0 0 0 0 0 0 0]\n",
            " [1 1 1 1 0 0 1 0 0 1 0 2 0 0 1 0 1 1 0 1]\n",
            " [1 1 0 0 1 1 1 1 0 1 0 1 0 1 0 0 0 1 0 0]\n",
            " [0 0 1 0 0 0 1 0 0 0 0 0 1 1 0 0 1 1 1 1]\n",
            " [1 0 0 0 1 1 1 1 0 0 1 0 1 1 0 1 1 1 1 0]\n",
            " [1 1 1 1 1 1 1 0 0 0 1 1 1 0 0 0 1 1 0 1]\n",
            " [1 0 0 0 1 0 1 1 0 1 0 0 0 0 0 0 1 1 1 1]]\n",
            "[[1 1 1 1 0 0 1 1 0 0 1 0 1 0 1 0 1 1 1 0]\n",
            " [0 0 1 0 1 1 0 0 1 1 0 0 1 1 0 0 0 1 0 0]\n",
            " [0 1 1 0 0 0 0 0 0 1 1 1 0 1 0 0 0 1 1 1]\n",
            " [0 1 1 0 1 1 1 1 0 1 1 0 1 0 1 1 1 1 1 1]\n",
            " [1 1 1 0 0 1 1 0 0 0 1 1 1 0 0 0 1 0 1 1]\n",
            " [1 1 1 0 1 1 0 0 1 1 1 0 0 1 0 0 1 1 0 0]\n",
            " [1 0 1 0 0 1 1 1 0 0 1 1 1 1 1 0 1 1 1 1]\n",
            " [0 1 1 0 1 1 1 0 1 1 1 1 1 1 1 0 1 0 0 1]\n",
            " [1 1 0 1 1 0 0 0 1 0 0 0 1 1 0 0 1 0 1 1]\n",
            " [1 0 1 1 1 0 0 0 0 1 0 0 0 0 1 1 1 0 0 0]\n",
            " [1 0 0 0 0 1 0 0 0 1 0 1 1 1 1 0 1 2 0 1]\n",
            " [1 0 1 1 0 1 1 1 0 1 1 1 1 1 0 1 0 1 1 0]\n",
            " [0 0 1 0 0 1 0 0 1 1 1 0 1 1 0 1 1 1 1 0]\n",
            " [0 1 1 1 1 0 1 0 0 0 1 1 1 1 1 1 1 0 1 0]\n",
            " [0 0 1 0 0 1 1 1 0 0 0 1 0 1 0 0 1 1 0 1]\n",
            " [1 0 0 1 1 0 1 1 0 1 0 1 1 1 0 1 1 0 0 1]\n",
            " [1 1 1 1 1 1 1 0 1 1 0 0 0 0 0 0 1 1 0 0]\n",
            " [1 0 1 0 0 0 0 0 0 1 1 1 0 0 0 0 1 1 1 1]\n",
            " [0 1 1 0 1 1 0 0 0 1 1 0 0 0 0 1 0 0 0 0]\n",
            " [1 1 0 0 1 0 1 1 1 1 1 1 1 0 0 0 1 1 1 1]]\n"
          ]
        },
        {
          "output_type": "stream",
          "name": "stderr",
          "text": [
            "WARNING:matplotlib.legend:No artists with labels found to put in legend.  Note that artists whose label start with an underscore are ignored when legend() is called with no argument.\n",
            "WARNING:matplotlib.legend:No artists with labels found to put in legend.  Note that artists whose label start with an underscore are ignored when legend() is called with no argument.\n"
          ]
        },
        {
          "output_type": "stream",
          "name": "stdout",
          "text": [
            "[[1 1 0 0 0 1 1 1 0 1 0 0 1 1 1 0 1 0 1 1]\n",
            " [1 0 1 0 1 0 1 1 0 1 1 0 1 0 0 0 0 0 0 1]\n",
            " [0 0 0 0 0 0 0 0 1 1 1 1 1 1 0 1 0 0 0 1]\n",
            " [0 0 1 0 1 1 1 0 0 1 1 1 1 0 0 1 1 0 0 1]\n",
            " [0 1 1 0 1 0 1 0 1 1 1 0 1 1 1 0 1 1 1 1]\n",
            " [1 0 0 0 1 0 0 0 1 1 0 1 1 1 0 1 0 1 0 0]\n",
            " [0 0 1 0 0 0 1 1 0 1 0 0 1 1 0 0 0 0 0 1]\n",
            " [1 1 1 1 1 1 0 0 0 0 1 0 0 1 0 0 0 0 0 0]\n",
            " [0 0 1 0 1 0 1 0 1 0 0 1 0 0 1 1 1 1 1 1]\n",
            " [0 1 1 1 0 1 0 1 0 0 0 0 1 0 0 1 0 0 0 0]\n",
            " [1 1 1 0 1 0 1 0 1 0 0 0 0 1 0 1 0 0 0 0]\n",
            " [0 0 0 1 0 1 0 0 0 1 0 0 0 1 1 1 1 0 1 1]\n",
            " [0 1 1 0 0 0 1 0 0 1 1 1 1 1 1 1 0 1 1 0]\n",
            " [0 0 0 0 0 1 0 0 1 0 1 0 1 1 1 0 1 0 1 1]\n",
            " [0 1 1 1 1 0 0 0 0 1 0 0 0 0 1 0 0 1 0 0]\n",
            " [1 0 0 0 1 0 0 0 1 0 0 0 0 0 0 0 1 1 1 1]\n",
            " [1 0 0 1 0 1 0 1 1 1 0 0 1 1 0 0 1 0 1 0]\n",
            " [1 1 1 1 1 0 1 1 0 0 1 1 1 1 0 2 0 0 1 1]\n",
            " [1 0 1 0 0 1 1 0 0 0 1 0 1 1 1 0 0 1 1 0]\n",
            " [0 0 1 0 0 1 0 1 1 0 0 0 1 0 1 1 0 1 1 1]]\n",
            "[[0 1 1 0 1 0 1 1 1 1 0 0 0 1 1 1 0 0 0 0]\n",
            " [0 0 0 0 1 0 0 1 1 0 0 0 0 0 1 1 0 0 1 1]\n",
            " [1 0 0 1 0 0 0 1 1 0 1 0 0 1 1 1 1 0 1 0]\n",
            " [1 0 1 1 1 0 1 0 0 0 1 1 1 0 0 0 1 1 0 0]\n",
            " [0 1 0 1 1 0 1 0 1 1 1 1 1 0 1 0 1 1 0 1]\n",
            " [1 1 0 0 0 0 1 1 1 1 0 0 1 1 1 1 1 1 1 1]\n",
            " [0 1 0 0 0 1 1 1 0 0 1 1 0 1 0 0 0 0 1 1]\n",
            " [0 0 0 0 1 0 1 0 1 0 1 0 0 1 0 1 0 0 0 1]\n",
            " [0 1 0 1 0 1 1 0 1 1 0 0 1 1 0 0 0 1 0 0]\n",
            " [1 1 0 1 0 0 1 0 1 0 0 0 1 0 0 0 0 0 2 0]\n",
            " [1 0 1 1 0 0 1 1 1 1 1 0 0 0 1 0 1 1 1 0]\n",
            " [1 0 1 1 0 1 0 0 1 1 1 0 1 0 1 0 1 0 0 1]\n",
            " [0 1 1 0 0 1 1 1 0 1 1 0 0 0 0 1 0 0 0 0]\n",
            " [0 0 0 0 0 1 0 0 0 0 1 0 1 1 0 1 0 1 0 1]\n",
            " [0 0 1 0 1 1 0 0 0 1 0 1 1 1 0 0 1 1 1 0]\n",
            " [0 0 1 1 1 0 1 1 0 0 0 0 1 0 1 1 0 0 0 1]\n",
            " [1 1 0 1 1 1 1 1 1 1 0 1 1 1 0 0 0 0 0 1]\n",
            " [1 1 1 0 1 1 0 0 0 1 1 1 1 1 0 0 0 1 0 0]\n",
            " [1 1 1 0 0 1 0 0 1 0 1 1 1 1 1 1 0 0 1 0]\n",
            " [1 0 1 1 1 1 1 0 1 1 0 0 1 1 1 1 0 0 1 0]]\n"
          ]
        },
        {
          "output_type": "stream",
          "name": "stderr",
          "text": [
            "WARNING:matplotlib.legend:No artists with labels found to put in legend.  Note that artists whose label start with an underscore are ignored when legend() is called with no argument.\n"
          ]
        },
        {
          "output_type": "stream",
          "name": "stdout",
          "text": [
            "[[0 0 1 1 0 1 0 0 1 1 1 1 0 0 1 1 1 0 0 0]\n",
            " [0 0 1 0 1 1 0 0 0 1 1 1 1 0 0 0 1 1 0 0]\n",
            " [0 1 1 0 1 0 2 0 0 1 0 0 1 0 1 0 1 1 1 1]\n",
            " [0 0 0 1 0 0 0 0 1 0 0 0 0 0 1 0 0 0 1 1]\n",
            " [1 0 0 1 0 0 1 1 0 1 0 1 1 0 1 1 1 0 0 1]\n",
            " [1 0 0 0 1 0 1 0 1 1 0 0 1 0 1 1 1 1 1 1]\n",
            " [1 1 1 1 1 1 1 1 0 0 0 0 0 1 1 0 1 1 1 1]\n",
            " [1 1 1 1 0 1 1 0 0 0 1 1 1 1 0 0 1 1 1 0]\n",
            " [0 0 1 0 1 0 1 1 1 0 0 0 0 1 0 1 1 1 1 0]\n",
            " [0 1 1 1 0 1 0 1 0 0 1 0 0 0 1 0 1 0 0 1]\n",
            " [0 1 1 0 1 1 1 0 0 0 0 0 0 1 0 0 1 1 0 1]\n",
            " [0 0 1 1 1 1 0 1 1 0 0 0 1 0 0 0 0 0 1 0]\n",
            " [1 0 1 0 0 0 1 0 1 0 0 1 0 1 0 1 0 1 0 1]\n",
            " [1 1 1 0 0 1 1 1 1 0 1 1 1 0 1 0 0 0 1 0]\n",
            " [0 1 1 0 1 1 1 0 0 0 1 1 1 1 1 0 1 0 0 1]\n",
            " [0 1 0 0 1 1 1 1 1 0 0 0 0 0 0 0 0 0 1 0]\n",
            " [1 0 0 1 1 1 1 0 0 0 1 1 1 0 1 0 1 0 1 1]\n",
            " [1 1 0 1 0 0 1 0 1 1 1 0 1 0 0 1 1 1 1 0]\n",
            " [0 1 0 0 1 1 1 1 1 1 1 1 1 0 1 0 0 0 0 1]\n",
            " [0 1 1 0 1 1 0 0 1 1 0 0 1 0 0 1 0 1 1 1]]\n",
            "[[1 0 0 0 0 0 1 1 0 1 1 1 1 1 0 1 1 1 0 1]\n",
            " [0 0 0 0 1 1 1 0 0 1 0 0 1 0 1 0 0 1 0 1]\n",
            " [0 1 0 1 1 0 0 1 0 0 0 1 0 0 1 0 0 0 0 0]\n",
            " [1 0 1 1 0 1 0 0 1 1 1 0 1 0 0 0 1 1 1 0]\n",
            " [0 0 1 0 0 1 0 1 1 1 0 1 0 1 1 0 1 0 1 0]\n",
            " [0 1 0 0 1 0 1 0 0 0 1 0 0 1 0 1 1 0 0 0]\n",
            " [1 1 0 0 0 0 0 1 0 0 1 0 1 1 1 0 0 1 1 1]\n",
            " [0 1 0 1 1 0 1 1 0 1 1 0 1 1 0 1 1 0 0 1]\n",
            " [0 1 0 1 0 1 0 1 0 1 0 0 0 0 0 0 0 0 1 0]\n",
            " [1 1 1 0 0 0 0 1 1 1 0 1 0 0 0 0 0 0 0 1]\n",
            " [0 0 1 0 1 0 0 1 0 1 0 0 0 0 0 0 0 0 0 1]\n",
            " [0 1 0 0 1 1 1 0 1 2 1 0 0 0 0 0 0 0 1 0]\n",
            " [0 1 0 1 0 0 0 1 1 0 0 1 1 0 0 0 0 1 1 0]\n",
            " [0 1 1 1 0 0 1 0 1 1 1 1 0 0 0 0 1 1 0 0]\n",
            " [1 0 1 0 1 1 1 1 0 1 1 1 0 0 1 0 0 1 0 0]\n",
            " [0 1 0 0 1 0 1 1 0 0 1 0 0 0 0 0 0 0 1 0]\n",
            " [0 1 1 0 1 0 1 0 1 1 1 0 1 1 0 0 0 0 0 1]\n",
            " [0 1 0 1 1 1 1 1 0 0 0 0 0 0 1 0 1 1 0 0]\n",
            " [1 0 0 0 0 0 0 1 1 0 1 0 1 1 1 0 1 0 0 1]\n",
            " [0 0 1 1 0 1 1 1 1 0 1 1 0 1 0 1 1 0 0 0]]\n"
          ]
        },
        {
          "output_type": "stream",
          "name": "stderr",
          "text": [
            "WARNING:matplotlib.legend:No artists with labels found to put in legend.  Note that artists whose label start with an underscore are ignored when legend() is called with no argument.\n",
            "WARNING:matplotlib.legend:No artists with labels found to put in legend.  Note that artists whose label start with an underscore are ignored when legend() is called with no argument.\n",
            "WARNING:matplotlib.legend:No artists with labels found to put in legend.  Note that artists whose label start with an underscore are ignored when legend() is called with no argument.\n"
          ]
        },
        {
          "output_type": "stream",
          "name": "stdout",
          "text": [
            "[[1 0 1 1 1 0 1 0 0 1 1 1 1 0 0 1 0 1 0 0]\n",
            " [1 1 1 1 0 0 0 0 0 0 0 1 0 0 0 0 1 1 0 0]\n",
            " [0 1 0 1 0 1 1 0 1 0 0 1 0 0 0 1 0 1 1 0]\n",
            " [1 0 0 0 1 1 1 0 1 0 1 2 1 1 0 0 0 1 0 0]\n",
            " [0 0 1 0 1 0 1 0 0 1 0 1 0 1 0 0 1 1 0 0]\n",
            " [1 0 1 0 0 0 0 0 1 1 0 1 1 1 1 1 1 0 0 1]\n",
            " [0 0 1 1 0 1 0 0 0 1 0 1 1 1 0 0 1 0 1 1]\n",
            " [1 0 1 1 1 1 1 0 0 1 1 0 1 1 1 1 0 0 0 0]\n",
            " [1 0 1 1 1 1 0 0 0 0 0 1 1 1 1 1 1 0 1 1]\n",
            " [0 0 1 1 1 0 0 0 1 0 0 0 1 0 0 0 0 0 0 1]\n",
            " [0 1 1 0 0 0 1 0 0 0 0 0 1 0 0 1 0 0 0 0]\n",
            " [1 1 1 1 1 0 0 0 1 0 1 1 0 1 1 1 0 0 0 0]\n",
            " [0 1 0 0 1 0 1 0 0 0 1 0 1 0 0 0 1 0 0 1]\n",
            " [1 0 1 0 0 1 1 1 0 1 0 1 0 0 1 1 1 0 1 1]\n",
            " [1 1 0 1 1 1 0 1 0 0 1 0 0 0 0 0 1 1 0 0]\n",
            " [1 0 0 1 1 1 1 0 0 1 0 0 1 0 0 0 1 0 0 1]\n",
            " [0 1 0 0 1 0 0 1 0 1 1 1 0 0 0 0 1 0 1 0]\n",
            " [1 0 1 0 0 0 0 0 1 0 1 0 1 1 1 1 0 1 0 0]\n",
            " [1 1 1 1 1 1 0 0 1 1 0 1 0 1 0 0 1 1 0 1]\n",
            " [0 1 0 1 0 1 1 1 0 0 0 1 1 1 0 0 1 1 1 1]]\n",
            "[[1 0 0 1 0 0 0 0 0 1 1 0 1 0 0 1 1 0 1 0]\n",
            " [0 1 0 1 0 1 1 0 1 0 0 1 0 0 0 0 1 1 0 1]\n",
            " [1 0 0 0 1 0 0 0 0 0 0 1 0 1 0 1 0 0 1 0]\n",
            " [0 0 0 1 1 1 0 1 0 1 1 0 1 1 1 0 1 1 1 1]\n",
            " [1 0 0 1 0 0 0 0 1 0 1 0 0 1 1 1 1 1 0 0]\n",
            " [0 0 0 1 2 1 0 0 1 0 0 0 0 1 0 0 0 0 0 0]\n",
            " [1 1 1 0 0 0 1 1 0 1 0 1 1 0 1 0 0 0 0 1]\n",
            " [0 1 0 1 0 0 0 1 0 0 1 1 0 1 1 0 0 1 0 0]\n",
            " [0 0 0 0 1 0 0 0 0 1 0 0 0 1 1 1 1 1 1 0]\n",
            " [1 1 1 1 1 0 1 1 0 0 1 0 1 0 0 1 1 1 0 1]\n",
            " [0 1 0 0 1 0 0 1 1 1 1 1 1 0 0 1 0 0 1 1]\n",
            " [1 0 0 1 1 1 1 0 0 1 0 0 1 0 0 1 1 0 0 0]\n",
            " [0 0 1 1 0 1 0 0 0 0 1 0 0 1 1 1 1 1 1 0]\n",
            " [0 1 1 0 1 1 1 1 0 0 0 0 0 0 1 0 1 0 1 1]\n",
            " [0 0 0 0 0 0 1 1 1 0 0 1 1 1 1 0 0 1 1 1]\n",
            " [1 0 1 1 0 1 0 1 0 0 0 0 1 0 1 1 1 0 0 0]\n",
            " [0 1 0 1 1 0 1 1 0 0 1 1 0 0 1 1 0 0 1 0]\n",
            " [0 0 1 0 0 0 1 1 1 1 0 1 0 1 1 1 0 0 0 1]\n",
            " [0 0 0 0 1 1 0 1 0 0 0 1 0 1 0 1 1 0 0 1]\n",
            " [1 1 1 0 1 0 0 1 1 0 0 1 0 0 0 1 1 0 1 1]]\n"
          ]
        },
        {
          "output_type": "stream",
          "name": "stderr",
          "text": [
            "WARNING:matplotlib.legend:No artists with labels found to put in legend.  Note that artists whose label start with an underscore are ignored when legend() is called with no argument.\n",
            "WARNING:matplotlib.legend:No artists with labels found to put in legend.  Note that artists whose label start with an underscore are ignored when legend() is called with no argument.\n"
          ]
        },
        {
          "output_type": "stream",
          "name": "stdout",
          "text": [
            "[[1 0 1 0 0 1 0 0 1 0 0 1 1 1 1 0 0 0 0 0]\n",
            " [0 0 0 0 0 0 0 1 0 0 1 0 1 1 0 0 1 1 0 0]\n",
            " [1 0 0 1 0 0 1 0 0 1 1 0 1 1 1 0 0 0 0 0]\n",
            " [0 0 0 1 0 0 0 1 0 1 1 1 0 0 0 1 1 1 0 0]\n",
            " [2 1 1 0 0 0 0 0 1 1 1 1 0 0 0 1 0 0 1 0]\n",
            " [0 1 0 1 1 1 1 1 1 1 1 1 1 1 0 0 0 0 1 1]\n",
            " [1 0 1 0 0 1 1 1 0 1 1 0 1 0 1 0 0 0 1 0]\n",
            " [1 1 0 0 0 1 0 0 1 1 0 0 1 0 1 1 0 1 0 0]\n",
            " [1 0 1 0 1 1 1 0 0 0 1 0 1 1 0 1 1 0 1 0]\n",
            " [1 0 1 0 1 0 0 0 0 0 0 1 0 0 1 1 1 1 0 0]\n",
            " [0 1 1 0 1 1 1 0 1 1 1 1 1 0 0 1 0 1 1 1]\n",
            " [0 1 0 1 0 1 0 0 1 1 0 1 1 0 1 1 1 0 0 1]\n",
            " [0 1 1 1 0 1 0 0 0 1 0 1 0 0 0 1 0 0 1 0]\n",
            " [0 1 1 0 0 1 0 1 0 0 0 1 0 1 1 1 1 1 0 1]\n",
            " [1 0 0 0 1 1 0 0 0 0 1 0 0 1 0 1 1 0 0 0]\n",
            " [0 1 0 0 0 0 0 0 1 1 1 0 1 1 1 1 1 1 1 0]\n",
            " [1 1 1 1 1 0 1 1 0 0 1 1 1 1 0 1 1 0 1 1]\n",
            " [0 0 0 0 1 0 1 1 0 0 1 1 0 1 0 0 1 1 0 1]\n",
            " [1 0 0 0 1 1 1 0 1 1 1 1 1 1 0 1 1 0 0 1]\n",
            " [1 1 1 0 1 0 1 0 1 0 1 0 1 1 0 0 1 1 1 1]]\n",
            "[[0 1 1 0 1 0 0 0 0 1 1 0 0 1 1 1 1 1 1 2]\n",
            " [1 1 0 0 1 1 1 0 0 1 1 1 0 1 0 1 0 1 0 0]\n",
            " [0 0 0 1 0 1 1 0 1 0 0 1 0 0 1 0 0 1 0 1]\n",
            " [1 0 1 1 1 0 1 0 0 1 0 0 1 0 1 1 1 0 0 0]\n",
            " [0 0 1 0 0 0 1 0 0 0 1 1 0 0 1 0 1 0 0 1]\n",
            " [0 0 1 1 1 0 0 0 0 0 1 0 0 0 0 0 1 0 0 0]\n",
            " [1 1 0 1 0 1 0 1 0 0 1 0 0 0 1 0 0 0 1 0]\n",
            " [0 1 0 0 0 1 1 0 0 0 0 1 1 1 1 1 0 0 0 0]\n",
            " [1 1 1 0 0 1 0 1 1 1 0 0 0 0 0 1 0 0 0 1]\n",
            " [1 1 1 1 0 0 0 1 1 0 0 0 0 0 0 0 0 0 1 0]\n",
            " [1 1 0 0 1 0 0 1 1 0 1 1 1 1 0 0 1 0 1 1]\n",
            " [0 0 0 0 0 1 0 1 1 1 0 0 0 1 0 1 0 0 0 1]\n",
            " [1 1 1 0 0 0 1 0 1 0 0 1 0 0 0 1 0 1 1 1]\n",
            " [1 0 1 1 1 1 1 0 0 1 0 0 1 0 1 0 1 1 0 0]\n",
            " [1 0 1 0 1 0 0 1 1 0 1 1 0 1 0 0 1 0 1 0]\n",
            " [0 0 0 1 0 1 1 0 1 1 1 0 1 0 1 1 0 1 1 1]\n",
            " [1 0 0 1 1 1 0 1 1 1 0 1 0 1 1 0 0 1 1 0]\n",
            " [0 1 0 1 0 1 1 1 1 1 0 0 0 1 1 1 0 1 1 0]\n",
            " [0 0 0 1 0 1 0 1 1 1 0 1 1 1 0 0 0 0 1 0]\n",
            " [1 0 0 0 0 1 1 1 0 0 0 1 1 0 1 0 0 1 1 1]]\n"
          ]
        },
        {
          "output_type": "stream",
          "name": "stderr",
          "text": [
            "WARNING:matplotlib.legend:No artists with labels found to put in legend.  Note that artists whose label start with an underscore are ignored when legend() is called with no argument.\n",
            "WARNING:matplotlib.legend:No artists with labels found to put in legend.  Note that artists whose label start with an underscore are ignored when legend() is called with no argument.\n"
          ]
        },
        {
          "output_type": "stream",
          "name": "stdout",
          "text": [
            "[[1 0 1 1 0 1 0 0 1 0 1 1 0 1 1 0 0 0 1 0]\n",
            " [0 0 0 0 1 1 0 1 1 1 0 1 0 1 0 0 1 0 0 1]\n",
            " [1 0 1 0 0 0 0 1 1 1 1 1 0 0 1 0 0 1 1 0]\n",
            " [0 1 1 0 0 0 0 0 1 1 0 1 0 0 0 1 0 1 1 0]\n",
            " [1 0 0 1 1 0 0 0 1 0 1 0 1 1 1 1 1 0 0 1]\n",
            " [0 0 2 0 0 0 1 0 0 0 0 0 1 0 1 1 0 1 1 1]\n",
            " [1 1 0 0 1 0 1 1 1 0 1 0 1 0 0 1 0 0 1 0]\n",
            " [0 0 1 0 0 0 0 0 0 1 0 1 0 1 1 1 0 0 1 1]\n",
            " [1 1 0 1 0 0 1 0 0 0 0 1 1 0 0 0 0 0 1 0]\n",
            " [0 0 0 0 0 1 0 1 0 0 0 0 1 1 0 1 1 1 0 0]\n",
            " [1 1 0 0 1 1 1 0 1 0 0 1 1 1 0 1 1 1 1 0]\n",
            " [0 1 1 0 1 0 1 0 1 1 0 1 1 0 0 1 0 1 0 1]\n",
            " [1 1 0 0 0 0 0 1 1 0 1 1 0 0 0 1 1 1 0 0]\n",
            " [1 1 0 0 0 1 0 1 0 0 0 1 0 0 1 0 0 1 1 1]\n",
            " [1 1 1 0 0 0 1 0 1 1 1 0 0 1 0 1 1 0 0 0]\n",
            " [1 1 0 0 0 1 1 1 0 1 0 0 0 0 1 1 0 1 0 0]\n",
            " [1 1 0 0 1 1 1 1 1 0 0 1 0 0 0 0 0 1 1 1]\n",
            " [0 0 1 1 1 0 0 1 1 0 1 0 1 0 1 0 0 1 0 0]\n",
            " [0 0 1 0 1 1 0 1 1 0 0 1 0 1 1 1 1 1 1 1]\n",
            " [0 1 1 0 1 0 0 0 0 1 0 0 0 0 0 1 1 0 0 0]]\n",
            "[[1 0 0 1 1 0 1 0 1 1 1 0 1 1 0 0 1 1 0 0]\n",
            " [1 1 1 1 0 0 1 0 1 1 1 0 1 1 1 0 1 1 1 1]\n",
            " [0 0 1 1 1 1 1 1 1 1 1 0 0 0 1 1 0 1 0 1]\n",
            " [1 0 1 1 0 1 0 0 0 0 0 1 0 0 1 1 1 1 0 0]\n",
            " [1 1 0 1 0 0 1 0 0 0 1 0 1 1 1 0 1 1 1 1]\n",
            " [0 0 0 0 1 1 0 1 1 1 0 0 0 1 0 1 0 1 0 1]\n",
            " [1 1 1 1 0 1 1 1 0 0 0 0 1 0 0 0 0 1 1 1]\n",
            " [1 1 0 0 1 1 1 0 0 1 0 0 1 1 1 1 1 1 0 1]\n",
            " [1 1 0 0 1 0 1 1 0 0 0 0 1 0 1 1 1 1 1 1]\n",
            " [0 0 1 0 1 1 1 1 0 1 0 1 0 1 0 1 0 0 0 0]\n",
            " [1 0 1 1 1 0 1 0 1 0 0 1 0 0 0 1 0 1 1 1]\n",
            " [1 0 0 0 0 1 0 1 1 1 0 0 1 0 1 1 0 1 0 0]\n",
            " [1 1 0 1 1 1 0 1 0 1 1 1 1 1 0 0 0 0 0 1]\n",
            " [0 1 0 1 1 0 0 1 1 0 0 1 0 1 1 1 1 0 1 0]\n",
            " [1 0 1 0 1 1 0 1 0 0 1 1 1 1 1 1 1 1 0 1]\n",
            " [0 1 0 1 0 1 1 0 1 0 0 0 0 0 0 1 1 1 1 0]\n",
            " [0 1 0 0 1 1 0 1 0 1 1 1 1 0 1 1 1 0 2 1]\n",
            " [1 0 0 0 0 1 1 1 0 1 1 1 1 1 0 0 1 0 0 1]\n",
            " [0 1 1 1 1 1 1 0 0 0 0 1 0 0 1 1 0 1 0 0]\n",
            " [0 0 0 1 0 0 0 1 0 0 0 0 0 0 0 0 0 1 0 0]]\n"
          ]
        },
        {
          "output_type": "stream",
          "name": "stderr",
          "text": [
            "WARNING:matplotlib.legend:No artists with labels found to put in legend.  Note that artists whose label start with an underscore are ignored when legend() is called with no argument.\n",
            "WARNING:matplotlib.legend:No artists with labels found to put in legend.  Note that artists whose label start with an underscore are ignored when legend() is called with no argument.\n"
          ]
        },
        {
          "output_type": "stream",
          "name": "stdout",
          "text": [
            "[[0 1 1 0 0 0 0 0 2 0 1 1 0 1 1 1 0 1 1 1]\n",
            " [0 1 0 1 1 1 0 0 1 1 0 0 1 1 0 0 0 0 1 0]\n",
            " [0 0 1 0 0 1 1 1 1 1 0 1 1 1 0 1 0 1 0 0]\n",
            " [1 1 0 1 0 0 0 0 0 1 0 1 1 0 1 1 1 0 1 1]\n",
            " [1 0 1 0 1 0 1 1 1 0 1 1 0 1 1 0 0 1 0 0]\n",
            " [1 0 1 0 0 1 1 1 0 0 0 0 0 0 0 1 0 1 0 1]\n",
            " [1 0 1 1 0 0 0 0 1 0 1 1 0 0 1 1 0 1 1 1]\n",
            " [0 0 1 1 1 0 0 1 1 0 0 1 0 0 0 0 1 1 1 1]\n",
            " [0 1 1 0 1 1 1 1 0 0 0 1 1 1 0 0 0 1 1 1]\n",
            " [1 0 0 0 0 1 1 1 1 0 0 0 0 0 1 1 0 0 1 1]\n",
            " [0 1 1 1 0 1 0 0 0 1 0 1 0 1 1 1 0 1 1 1]\n",
            " [1 0 0 1 0 0 0 0 0 0 0 1 0 1 0 0 1 0 1 0]\n",
            " [1 0 0 0 1 1 0 0 1 0 1 0 1 0 0 1 0 1 1 0]\n",
            " [0 1 0 0 0 1 0 0 0 1 0 0 1 0 0 1 0 1 0 1]\n",
            " [1 0 0 0 1 0 0 1 1 0 1 1 1 1 0 0 0 1 1 1]\n",
            " [1 1 0 0 1 0 0 1 1 0 0 1 0 0 1 0 0 0 0 1]\n",
            " [0 1 1 1 1 1 1 1 0 1 0 1 0 0 1 0 1 1 1 0]\n",
            " [0 0 0 0 1 0 0 0 1 1 0 0 1 1 0 1 1 0 0 1]\n",
            " [0 1 1 0 1 0 0 0 0 0 0 1 0 1 1 0 1 0 1 1]\n",
            " [1 0 0 1 0 1 0 1 1 1 0 0 1 1 1 1 0 1 0 1]]\n",
            "[[1 1 0 1 1 0 1 0 1 0 1 1 0 1 0 0 0 0 0 0]\n",
            " [1 1 0 0 0 0 0 0 0 1 0 1 1 1 0 1 1 1 0 0]\n",
            " [0 1 0 0 1 1 1 0 0 0 0 0 1 0 0 1 0 1 1 1]\n",
            " [1 1 1 0 0 1 1 0 1 1 0 0 1 0 0 0 0 0 1 1]\n",
            " [0 1 1 1 0 1 0 0 1 0 0 1 1 1 0 1 0 0 1 0]\n",
            " [1 1 0 0 1 1 0 0 0 0 1 1 1 1 0 1 0 1 1 0]\n",
            " [1 0 1 1 1 0 1 0 1 0 1 1 0 0 1 1 0 0 1 1]\n",
            " [1 1 1 0 1 0 0 0 1 0 1 0 0 0 1 0 0 1 1 1]\n",
            " [0 1 1 0 1 1 0 0 0 1 1 0 1 0 1 0 1 1 1 1]\n",
            " [1 1 1 0 1 0 0 0 0 0 0 1 0 0 1 0 0 0 0 1]\n",
            " [1 1 1 1 1 1 0 0 0 1 1 1 0 0 1 0 0 0 0 0]\n",
            " [0 0 1 0 1 1 1 0 0 1 1 1 0 0 1 1 1 1 1 1]\n",
            " [0 0 1 1 1 0 1 1 1 0 0 1 0 0 1 0 1 0 0 1]\n",
            " [0 0 0 1 1 1 0 1 0 0 1 1 1 1 0 0 1 1 0 1]\n",
            " [0 1 0 1 1 0 1 1 1 0 1 0 1 0 1 1 1 0 0 0]\n",
            " [0 0 0 0 1 1 0 0 1 0 0 0 1 0 0 1 0 1 0 0]\n",
            " [1 0 0 0 0 1 1 1 0 0 1 1 1 0 1 0 0 1 0 0]\n",
            " [0 0 1 1 0 0 0 1 0 0 1 0 1 1 0 1 0 0 0 1]\n",
            " [1 1 1 0 1 0 1 2 1 0 1 0 0 0 1 1 1 0 1 1]\n",
            " [1 1 0 0 0 1 0 0 1 0 1 1 0 1 1 1 0 1 0 0]]\n"
          ]
        },
        {
          "output_type": "stream",
          "name": "stderr",
          "text": [
            "WARNING:matplotlib.legend:No artists with labels found to put in legend.  Note that artists whose label start with an underscore are ignored when legend() is called with no argument.\n",
            "WARNING:matplotlib.legend:No artists with labels found to put in legend.  Note that artists whose label start with an underscore are ignored when legend() is called with no argument.\n"
          ]
        },
        {
          "output_type": "stream",
          "name": "stdout",
          "text": [
            "[[1 0 0 0 0 1 0 0 0 1 0 1 1 1 0 1 1 0 0 1]\n",
            " [1 1 0 1 0 0 1 1 1 0 1 1 0 0 0 0 0 1 0 1]\n",
            " [1 0 0 0 1 0 1 1 0 0 0 0 0 0 1 0 1 1 0 0]\n",
            " [0 0 1 1 0 0 0 0 1 1 1 0 1 1 0 1 1 0 0 0]\n",
            " [0 0 1 0 1 0 1 0 1 1 0 0 1 0 1 0 0 0 0 1]\n",
            " [1 1 1 0 0 1 1 1 0 0 1 0 0 1 0 1 1 0 0 1]\n",
            " [0 1 0 1 1 1 0 0 1 0 0 0 0 1 0 1 0 0 1 0]\n",
            " [0 0 1 0 1 0 1 0 0 1 0 0 0 0 1 1 0 0 1 1]\n",
            " [0 0 1 1 1 0 1 0 0 0 1 1 0 0 1 0 1 1 1 1]\n",
            " [0 1 0 0 1 0 0 0 1 1 0 1 0 1 0 1 1 0 0 0]\n",
            " [0 0 1 1 0 0 1 0 0 1 0 1 1 1 0 0 1 1 1 0]\n",
            " [1 1 0 0 0 0 0 1 1 1 0 0 1 0 1 1 0 0 1 0]\n",
            " [0 0 1 0 1 1 1 1 1 0 1 1 1 1 1 0 0 1 1 1]\n",
            " [1 1 1 1 2 0 1 0 1 1 0 0 0 1 1 1 1 0 1 1]\n",
            " [0 1 0 1 1 0 1 1 0 1 1 1 0 1 0 1 0 0 1 1]\n",
            " [1 1 1 1 1 1 0 1 0 0 1 0 0 0 0 1 1 1 0 0]\n",
            " [0 1 0 1 0 1 0 0 0 0 1 0 1 1 0 1 1 1 0 0]\n",
            " [1 0 1 0 1 0 1 0 1 1 0 0 0 0 0 0 0 1 1 0]\n",
            " [1 1 0 0 0 0 1 0 1 0 0 0 1 1 1 1 0 1 1 1]\n",
            " [1 0 1 0 0 1 1 1 1 0 1 0 0 0 0 1 1 0 1 0]]\n",
            "[[0 0 1 1 0 1 0 1 0 0 1 1 0 1 0 1 0 0 1 1]\n",
            " [1 1 1 1 1 0 0 0 0 1 1 1 0 1 1 1 0 1 0 0]\n",
            " [0 1 1 1 0 0 0 1 1 1 1 1 1 0 1 1 0 0 1 0]\n",
            " [0 0 1 0 0 0 0 0 1 0 0 1 0 1 1 1 1 1 1 0]\n",
            " [1 1 0 1 0 0 1 1 1 0 1 1 1 0 0 0 1 0 1 1]\n",
            " [0 1 1 0 1 0 1 0 1 1 0 1 0 0 1 0 0 1 0 1]\n",
            " [1 0 0 0 0 1 0 0 1 1 0 1 1 0 0 0 1 1 0 0]\n",
            " [1 1 0 1 1 1 0 0 0 1 1 0 1 1 0 1 0 0 1 0]\n",
            " [0 0 1 1 0 0 1 0 0 1 1 0 1 0 1 0 1 2 1 0]\n",
            " [0 1 0 0 0 0 1 0 0 1 0 0 0 1 0 1 1 0 0 0]\n",
            " [0 0 0 0 0 1 1 1 1 0 1 0 0 0 0 1 1 0 1 0]\n",
            " [1 1 1 1 0 1 0 0 0 1 0 1 1 0 0 1 1 1 1 0]\n",
            " [0 1 0 1 0 1 0 1 0 1 1 1 1 1 1 0 1 0 0 1]\n",
            " [1 1 1 0 1 1 1 1 1 0 0 0 0 1 0 1 0 0 0 1]\n",
            " [1 0 1 0 0 0 1 1 0 0 1 1 1 1 1 0 1 1 0 1]\n",
            " [1 1 1 0 1 0 1 0 1 0 0 1 1 0 1 0 0 1 1 1]\n",
            " [1 0 0 0 0 1 1 0 1 0 1 1 1 0 0 0 0 1 1 0]\n",
            " [1 0 0 1 1 1 0 0 0 1 0 1 0 1 0 1 0 1 0 0]\n",
            " [0 0 1 1 0 1 1 1 1 0 1 0 0 0 0 1 1 1 0 1]\n",
            " [0 0 1 1 0 1 0 0 1 1 1 1 0 1 1 1 0 1 1 0]]\n"
          ]
        },
        {
          "output_type": "stream",
          "name": "stderr",
          "text": [
            "WARNING:matplotlib.legend:No artists with labels found to put in legend.  Note that artists whose label start with an underscore are ignored when legend() is called with no argument.\n",
            "WARNING:matplotlib.legend:No artists with labels found to put in legend.  Note that artists whose label start with an underscore are ignored when legend() is called with no argument.\n"
          ]
        },
        {
          "output_type": "stream",
          "name": "stdout",
          "text": [
            "[[1 1 0 0 0 0 0 1 0 1 1 0 1 1 0 1 0 0 1 1]\n",
            " [1 1 0 0 0 0 0 0 1 0 1 0 1 0 0 0 1 0 0 1]\n",
            " [0 0 1 0 1 1 0 1 1 1 0 0 0 1 1 1 0 1 1 1]\n",
            " [0 1 0 0 0 1 0 1 1 0 1 0 1 1 0 2 1 0 0 0]\n",
            " [1 1 0 0 0 0 0 1 1 1 0 0 0 1 1 0 1 1 1 1]\n",
            " [0 0 1 1 0 0 0 1 1 0 0 1 1 1 1 0 0 1 1 1]\n",
            " [1 1 1 0 0 1 1 0 0 0 1 1 0 1 0 0 1 1 0 0]\n",
            " [1 0 1 0 1 1 1 1 0 1 0 0 0 1 1 0 0 0 1 0]\n",
            " [1 1 0 0 0 0 0 1 1 0 0 0 0 0 0 0 0 0 1 1]\n",
            " [1 1 1 1 1 0 1 1 0 0 1 0 0 1 1 0 0 0 1 1]\n",
            " [0 1 1 0 1 0 1 1 1 0 0 1 1 1 1 0 0 1 0 0]\n",
            " [1 0 0 0 1 0 1 0 0 1 0 0 1 0 1 0 0 1 0 1]\n",
            " [0 0 0 1 0 0 0 0 0 1 1 1 0 1 0 0 0 1 0 0]\n",
            " [0 1 1 1 0 1 1 1 0 0 1 1 1 1 1 0 1 0 0 1]\n",
            " [1 0 1 1 1 1 1 0 0 0 1 0 1 1 1 0 1 0 1 1]\n",
            " [1 0 1 0 0 1 1 0 1 0 0 0 1 0 0 1 1 1 0 1]\n",
            " [1 1 0 1 0 0 1 1 0 0 1 0 0 1 1 1 1 0 1 0]\n",
            " [1 0 1 1 0 0 0 0 0 0 1 1 1 0 1 1 1 0 1 0]\n",
            " [0 1 0 0 1 0 0 1 0 0 1 1 1 1 0 1 1 1 1 0]\n",
            " [0 1 0 1 1 1 0 0 0 0 0 0 0 1 0 1 0 1 1 0]]\n",
            "[[1 0 1 0 0 1 1 0 0 0 0 1 1 1 1 1 1 0 1 0]\n",
            " [1 0 1 1 0 1 0 0 1 0 1 1 0 1 1 0 0 0 1 0]\n",
            " [0 0 1 1 0 1 0 1 0 0 0 1 1 1 0 1 1 0 0 0]\n",
            " [1 1 0 1 0 1 0 0 1 1 1 0 1 1 0 0 0 1 1 0]\n",
            " [0 1 0 1 1 0 0 1 1 1 0 1 1 1 0 0 1 0 1 0]\n",
            " [1 1 1 1 0 1 0 0 0 1 0 0 1 0 1 1 0 1 1 1]\n",
            " [0 1 1 1 0 1 1 0 1 1 1 0 0 0 1 0 1 0 0 0]\n",
            " [0 1 0 0 1 0 0 0 0 0 0 0 0 1 1 1 1 1 1 1]\n",
            " [1 0 0 1 0 1 0 1 0 0 1 0 1 1 1 0 0 0 0 0]\n",
            " [1 0 0 1 0 1 0 1 0 0 0 1 1 0 0 1 1 0 0 0]\n",
            " [1 0 0 1 0 1 0 0 0 1 0 1 0 1 1 1 0 0 0 1]\n",
            " [0 0 0 0 0 1 0 1 1 1 1 1 0 1 1 0 0 1 1 1]\n",
            " [0 1 1 0 1 0 1 0 1 0 0 1 1 1 1 1 1 0 0 1]\n",
            " [0 0 1 0 0 0 0 0 1 1 1 1 0 0 0 1 0 1 0 1]\n",
            " [1 0 0 0 0 0 1 0 0 0 1 0 0 0 1 0 0 0 1 1]\n",
            " [0 1 1 0 0 1 1 0 0 0 1 1 0 1 1 1 1 1 1 0]\n",
            " [0 0 1 0 0 1 0 1 0 1 1 1 2 0 0 0 0 0 1 1]\n",
            " [0 1 0 1 0 0 1 0 1 1 0 0 1 0 0 0 1 1 0 0]\n",
            " [1 1 1 0 1 1 1 0 0 0 0 0 0 1 0 0 0 0 0 1]\n",
            " [0 1 0 1 0 0 1 0 1 0 0 0 0 0 0 1 1 0 1 0]]\n"
          ]
        },
        {
          "output_type": "stream",
          "name": "stderr",
          "text": [
            "WARNING:matplotlib.legend:No artists with labels found to put in legend.  Note that artists whose label start with an underscore are ignored when legend() is called with no argument.\n",
            "WARNING:matplotlib.legend:No artists with labels found to put in legend.  Note that artists whose label start with an underscore are ignored when legend() is called with no argument.\n"
          ]
        },
        {
          "output_type": "stream",
          "name": "stdout",
          "text": [
            "[[1 0 0 1 1 0 1 0 0 0 0 0 0 1 0 1 1 0 0 0]\n",
            " [1 0 0 1 1 1 0 0 0 1 0 1 1 0 0 1 1 1 1 0]\n",
            " [0 1 1 0 0 0 0 0 1 0 1 1 1 0 1 1 1 0 1 0]\n",
            " [1 1 0 0 0 0 1 0 0 0 0 0 1 0 0 1 0 0 0 1]\n",
            " [1 0 0 0 0 0 1 0 1 1 0 0 0 1 0 0 0 1 1 1]\n",
            " [1 1 0 1 1 1 1 0 0 0 1 0 0 1 1 0 1 0 1 1]\n",
            " [0 0 0 0 1 1 0 1 1 1 0 0 0 0 1 0 0 1 0 1]\n",
            " [1 0 0 0 0 0 1 0 1 1 1 1 0 1 0 0 1 0 0 0]\n",
            " [1 0 0 0 1 1 0 1 0 0 0 1 1 1 1 0 1 1 0 0]\n",
            " [0 0 0 0 1 1 1 1 0 1 1 1 0 0 0 1 0 1 0 0]\n",
            " [0 1 1 1 0 0 0 1 0 1 1 0 0 1 0 0 1 1 0 1]\n",
            " [0 0 1 1 1 0 1 1 1 0 0 1 0 1 0 1 0 1 0 1]\n",
            " [0 0 0 0 1 0 1 1 0 0 1 1 0 0 1 1 0 0 0 1]\n",
            " [1 0 1 0 1 0 1 0 1 0 1 1 0 0 1 0 1 1 1 0]\n",
            " [1 1 1 0 1 0 0 1 0 1 1 1 0 1 0 1 1 0 0 1]\n",
            " [0 1 0 1 1 0 1 1 0 0 1 1 1 0 1 0 0 1 0 1]\n",
            " [0 0 1 1 0 1 0 1 0 1 0 1 1 0 0 0 1 2 0 1]\n",
            " [1 1 0 1 0 1 1 0 0 1 0 0 1 1 0 0 0 1 0 0]\n",
            " [1 0 1 0 0 0 1 0 1 0 0 0 1 0 1 0 0 0 1 1]\n",
            " [0 1 0 0 1 0 0 1 1 0 1 1 1 0 1 1 0 0 0 1]]\n",
            "[[0 0 1 1 0 1 1 1 1 0 0 1 1 1 0 0 0 1 1 1]\n",
            " [0 1 0 1 1 1 0 1 1 0 1 0 0 1 0 0 0 1 1 1]\n",
            " [0 1 1 1 1 1 1 1 1 1 0 1 0 1 0 1 1 1 1 0]\n",
            " [1 0 0 0 1 1 0 1 1 0 1 1 1 0 1 0 0 1 1 1]\n",
            " [0 0 1 0 1 1 0 1 1 1 0 0 0 1 0 0 0 0 1 0]\n",
            " [1 1 1 1 0 1 1 0 1 0 0 0 1 1 0 0 1 1 1 1]\n",
            " [1 0 1 0 1 0 0 0 0 0 0 1 0 1 0 1 0 0 1 1]\n",
            " [1 0 1 0 0 1 1 0 1 1 1 1 0 0 1 0 1 0 0 0]\n",
            " [0 0 1 0 0 0 1 1 1 1 1 0 0 0 0 1 1 1 0 1]\n",
            " [1 1 0 1 1 0 0 1 1 1 1 0 0 1 1 0 1 0 1 0]\n",
            " [0 0 1 0 1 1 1 1 0 0 0 0 1 0 0 0 0 1 0 0]\n",
            " [0 1 0 0 0 0 0 0 0 0 1 0 0 1 1 0 1 1 0 0]\n",
            " [1 1 0 1 1 0 1 1 1 0 0 0 1 1 0 1 1 0 1 1]\n",
            " [1 1 1 0 0 1 1 1 1 0 0 0 1 1 1 1 0 0 1 1]\n",
            " [1 1 1 1 1 1 1 0 1 1 1 1 1 1 1 1 0 0 0 1]\n",
            " [0 1 1 1 1 1 0 0 0 1 1 0 1 0 1 0 0 0 0 1]\n",
            " [1 1 0 0 1 0 0 1 1 0 0 0 1 0 1 1 0 1 1 0]\n",
            " [1 0 1 0 1 1 1 0 0 0 1 0 0 1 1 1 0 1 1 0]\n",
            " [0 1 0 2 1 0 1 1 1 1 1 0 1 1 1 0 0 0 0 0]\n",
            " [1 1 1 0 0 1 0 1 1 0 0 1 1 1 0 0 1 0 0 0]]\n"
          ]
        },
        {
          "output_type": "stream",
          "name": "stderr",
          "text": [
            "WARNING:matplotlib.legend:No artists with labels found to put in legend.  Note that artists whose label start with an underscore are ignored when legend() is called with no argument.\n",
            "WARNING:matplotlib.legend:No artists with labels found to put in legend.  Note that artists whose label start with an underscore are ignored when legend() is called with no argument.\n"
          ]
        },
        {
          "output_type": "stream",
          "name": "stdout",
          "text": [
            "[[0 1 0 0 1 1 1 1 1 0 0 1 0 1 0 1 0 0 1 1]\n",
            " [1 0 1 0 0 0 0 0 0 1 1 1 1 1 0 1 0 1 1 0]\n",
            " [1 0 1 0 0 0 1 0 0 0 0 0 0 0 1 1 0 1 0 1]\n",
            " [0 1 0 1 0 0 0 0 0 1 1 0 0 1 1 2 1 0 0 1]\n",
            " [1 1 0 1 1 0 0 0 1 0 0 0 0 0 0 1 0 1 1 1]\n",
            " [0 1 0 1 1 0 1 0 0 1 1 0 1 0 1 1 0 0 0 1]\n",
            " [1 1 0 1 0 1 0 0 0 1 0 0 0 1 0 0 1 1 1 0]\n",
            " [0 0 1 1 0 0 0 1 0 1 0 0 0 1 0 1 0 1 1 1]\n",
            " [1 1 0 1 0 0 0 0 0 0 0 0 1 0 0 1 1 1 0 1]\n",
            " [1 1 1 1 1 1 0 1 0 0 1 1 0 0 1 0 0 1 0 0]\n",
            " [0 0 1 1 0 1 0 0 1 1 0 0 0 1 1 0 0 1 1 1]\n",
            " [0 0 1 1 1 1 1 1 1 0 0 1 1 0 0 0 0 0 0 0]\n",
            " [1 1 1 1 0 1 1 1 1 1 0 1 0 0 0 0 0 1 1 0]\n",
            " [0 0 0 1 0 1 0 1 0 0 0 0 0 0 0 0 0 0 1 0]\n",
            " [1 0 1 1 0 0 1 1 1 1 0 1 0 1 0 0 0 1 0 1]\n",
            " [0 1 1 1 0 1 0 0 0 0 0 0 1 1 0 1 0 0 0 0]\n",
            " [1 1 1 1 0 1 0 0 1 1 1 1 1 0 0 0 0 1 0 0]\n",
            " [0 0 0 1 1 0 0 1 1 1 0 1 1 1 0 1 1 1 0 1]\n",
            " [1 0 1 0 0 0 1 0 0 1 1 1 0 0 1 0 1 0 0 1]\n",
            " [1 0 0 0 0 1 1 0 0 0 1 0 1 1 1 1 1 1 1 1]]\n",
            "[[0 1 1 0 0 0 1 1 1 1 1 0 0 0 0 0 1 0 0 1]\n",
            " [0 0 1 0 1 1 1 0 0 0 1 0 0 1 0 0 1 1 1 1]\n",
            " [1 0 0 1 0 0 0 1 0 0 1 1 0 1 1 1 1 0 1 0]\n",
            " [0 1 1 0 0 1 0 1 0 1 1 0 1 0 0 1 1 1 0 0]\n",
            " [0 0 1 1 1 0 0 1 1 1 0 1 0 0 1 1 0 0 0 0]\n",
            " [1 0 1 0 1 1 1 1 0 0 0 1 0 1 0 0 1 0 0 1]\n",
            " [1 0 1 1 0 0 0 0 0 1 1 1 0 0 0 0 0 1 1 0]\n",
            " [0 0 0 0 0 1 1 0 1 2 0 0 1 0 0 1 0 0 1 1]\n",
            " [0 0 0 1 0 1 0 1 1 0 1 0 0 1 1 1 1 0 1 1]\n",
            " [1 0 0 0 0 1 1 1 0 1 1 1 1 1 1 0 0 1 0 0]\n",
            " [1 1 0 0 0 0 0 1 0 0 1 1 1 0 1 1 1 0 0 1]\n",
            " [0 1 0 1 1 0 0 0 0 0 0 0 0 0 1 1 0 1 0 0]\n",
            " [1 0 1 1 0 0 1 0 0 0 1 0 1 0 0 1 0 0 0 0]\n",
            " [0 0 0 1 0 1 0 0 1 0 0 0 1 1 0 0 0 0 0 1]\n",
            " [0 0 1 1 0 0 0 1 1 0 0 1 0 1 1 1 1 1 0 0]\n",
            " [0 0 1 0 1 1 0 1 0 1 1 1 0 0 1 1 1 0 0 1]\n",
            " [0 1 0 0 1 1 1 1 1 0 0 1 0 1 0 1 0 1 0 1]\n",
            " [1 1 1 1 1 1 0 0 1 0 0 1 1 0 1 1 0 1 0 1]\n",
            " [0 1 0 1 1 1 0 0 0 1 0 1 0 0 1 1 1 0 1 1]\n",
            " [0 0 0 1 0 1 1 1 0 0 0 1 0 1 0 0 0 0 1 0]]\n"
          ]
        },
        {
          "output_type": "stream",
          "name": "stderr",
          "text": [
            "WARNING:matplotlib.legend:No artists with labels found to put in legend.  Note that artists whose label start with an underscore are ignored when legend() is called with no argument.\n"
          ]
        },
        {
          "output_type": "stream",
          "name": "stdout",
          "text": [
            "[[0 0 0 0 1 0 1 0 0 0 0 1 0 1 0 1 1 1 1 0]\n",
            " [0 0 0 1 0 0 1 0 0 0 1 1 0 0 1 0 0 0 1 1]\n",
            " [1 0 1 1 0 1 1 1 0 1 1 1 0 0 1 0 0 0 1 0]\n",
            " [1 1 1 0 0 0 1 1 1 0 0 1 1 1 1 0 0 1 0 1]\n",
            " [0 0 0 0 1 1 1 0 0 1 1 0 1 0 0 1 0 1 0 0]\n",
            " [0 0 1 0 0 1 0 0 0 1 0 0 0 0 1 0 1 1 1 0]\n",
            " [1 1 0 0 1 1 0 0 1 1 0 0 1 0 1 1 1 1 1 1]\n",
            " [0 1 0 0 1 0 2 1 1 0 0 0 1 1 1 1 0 0 0 0]\n",
            " [1 1 0 0 1 1 0 1 1 1 1 0 0 1 0 1 0 0 0 1]\n",
            " [0 0 0 1 1 1 0 0 0 0 1 0 1 0 1 0 1 1 1 0]\n",
            " [1 1 1 1 0 1 0 1 0 1 1 1 1 1 0 1 0 1 0 1]\n",
            " [0 0 1 1 1 0 0 1 1 0 1 1 0 0 0 0 0 1 0 0]\n",
            " [0 1 0 1 1 0 1 0 1 0 1 1 0 0 1 0 1 0 0 1]\n",
            " [0 0 1 0 0 0 1 1 1 1 1 0 0 1 1 0 1 1 0 1]\n",
            " [0 1 1 0 1 0 1 1 1 0 0 0 1 0 1 0 1 1 0 0]\n",
            " [0 1 0 1 1 0 0 1 1 1 1 1 0 1 0 0 0 1 0 1]\n",
            " [0 1 1 1 1 0 1 1 0 0 0 0 1 0 0 1 1 1 0 1]\n",
            " [1 0 1 1 0 0 1 1 1 0 0 0 0 0 0 1 1 1 1 0]\n",
            " [0 1 0 0 0 1 1 0 0 1 0 1 0 1 1 0 0 1 0 1]\n",
            " [1 1 0 1 0 0 0 1 0 1 0 1 1 0 1 0 0 1 0 1]]\n"
          ]
        }
      ]
    },
    {
      "cell_type": "code",
      "source": [
        "# Run the search algorithms\n",
        "path_dijkstra = dijkstra_search(start_pos, (MAP_HEIGHT-1, MAP_WIDTH-1), map)\n",
        "path_a_star = a_star_search(start_pos, (MAP_HEIGHT-1, MAP_WIDTH-1), map)\n",
        "#path_bfs = breadth_first_search(start_pos, (MAP_HEIGHT-1, MAP_WIDTH-1), map)\n",
        "\n",
        "# Display the map using Matplotlib\n",
        "fig, ax = plt.subplots()\n",
        "ax.imshow(map, cmap=plt.cm.binary, interpolation='nearest')\n",
        "\n",
        "# Add the start and end points to the plot\n",
        "ax.scatter(start_pos[1], start_pos[0], marker='D', color='blue', s=100)\n",
        "ax.scatter(MAP_WIDTH-1, MAP_HEIGHT-1, marker='X', color='red', s=100)\n",
        "\n",
        "# Plot the paths found by the search algorithms\n",
        "ax.plot([pos[1] for pos in path_dijkstra], [pos[0] for pos in path_dijkstra], color='orange', label='Dijkstra')\n",
        "ax.plot([pos[1] for pos in path_a_star], [pos[0] for pos in path_a_star], color='green', label='A*')\n",
        "#ax.plot([pos[1] for pos in path_bfs], [pos[0] for pos in path_bfs], color='purple', label='BFS')\n",
        "\n",
        "# Add a legend to the plot\n",
        "ax.legend()\n",
        "\n",
        "\n",
        "# Show the plot\n",
        "plt.show()"
      ],
      "metadata": {
        "colab": {
          "base_uri": "https://localhost:8080/",
          "height": 770
        },
        "id": "D-R7QmMrIa4b",
        "outputId": "e294e93b-6ce6-4b9b-f50b-f32c5346ff61"
      },
      "execution_count": null,
      "outputs": [
        {
          "output_type": "error",
          "ename": "KeyError",
          "evalue": "ignored",
          "traceback": [
            "\u001b[0;31m---------------------------------------------------------------------------\u001b[0m",
            "\u001b[0;31mKeyError\u001b[0m                                  Traceback (most recent call last)",
            "\u001b[0;32m<ipython-input-11-604bf38d3315>\u001b[0m in \u001b[0;36m<cell line: 15>\u001b[0;34m()\u001b[0m\n\u001b[1;32m     13\u001b[0m \u001b[0;34m\u001b[0m\u001b[0m\n\u001b[1;32m     14\u001b[0m \u001b[0;31m# Plot the paths found by the search algorithms\u001b[0m\u001b[0;34m\u001b[0m\u001b[0;34m\u001b[0m\u001b[0m\n\u001b[0;32m---> 15\u001b[0;31m \u001b[0max\u001b[0m\u001b[0;34m.\u001b[0m\u001b[0mplot\u001b[0m\u001b[0;34m(\u001b[0m\u001b[0;34m[\u001b[0m\u001b[0mpos\u001b[0m\u001b[0;34m[\u001b[0m\u001b[0;36m1\u001b[0m\u001b[0;34m]\u001b[0m \u001b[0;32mfor\u001b[0m \u001b[0mpos\u001b[0m \u001b[0;32min\u001b[0m \u001b[0mpath_dijkstra\u001b[0m\u001b[0;34m]\u001b[0m\u001b[0;34m,\u001b[0m \u001b[0;34m[\u001b[0m\u001b[0mpos\u001b[0m\u001b[0;34m[\u001b[0m\u001b[0;36m0\u001b[0m\u001b[0;34m]\u001b[0m \u001b[0;32mfor\u001b[0m \u001b[0mpos\u001b[0m \u001b[0;32min\u001b[0m \u001b[0mpath_dijkstra\u001b[0m\u001b[0;34m]\u001b[0m\u001b[0;34m,\u001b[0m \u001b[0mcolor\u001b[0m\u001b[0;34m=\u001b[0m\u001b[0;34m'orange'\u001b[0m\u001b[0;34m,\u001b[0m \u001b[0mlabel\u001b[0m\u001b[0;34m=\u001b[0m\u001b[0;34m'Dijkstra'\u001b[0m\u001b[0;34m)\u001b[0m\u001b[0;34m\u001b[0m\u001b[0;34m\u001b[0m\u001b[0m\n\u001b[0m\u001b[1;32m     16\u001b[0m \u001b[0max\u001b[0m\u001b[0;34m.\u001b[0m\u001b[0mplot\u001b[0m\u001b[0;34m(\u001b[0m\u001b[0;34m[\u001b[0m\u001b[0mpos\u001b[0m\u001b[0;34m[\u001b[0m\u001b[0;36m1\u001b[0m\u001b[0;34m]\u001b[0m \u001b[0;32mfor\u001b[0m \u001b[0mpos\u001b[0m \u001b[0;32min\u001b[0m \u001b[0mpath_a_star\u001b[0m\u001b[0;34m]\u001b[0m\u001b[0;34m,\u001b[0m \u001b[0;34m[\u001b[0m\u001b[0mpos\u001b[0m\u001b[0;34m[\u001b[0m\u001b[0;36m0\u001b[0m\u001b[0;34m]\u001b[0m \u001b[0;32mfor\u001b[0m \u001b[0mpos\u001b[0m \u001b[0;32min\u001b[0m \u001b[0mpath_a_star\u001b[0m\u001b[0;34m]\u001b[0m\u001b[0;34m,\u001b[0m \u001b[0mcolor\u001b[0m\u001b[0;34m=\u001b[0m\u001b[0;34m'green'\u001b[0m\u001b[0;34m,\u001b[0m \u001b[0mlabel\u001b[0m\u001b[0;34m=\u001b[0m\u001b[0;34m'A*'\u001b[0m\u001b[0;34m)\u001b[0m\u001b[0;34m\u001b[0m\u001b[0;34m\u001b[0m\u001b[0m\n\u001b[1;32m     17\u001b[0m \u001b[0;31m#ax.plot([pos[1] for pos in path_bfs], [pos[0] for pos in path_bfs], color='purple', label='BFS')\u001b[0m\u001b[0;34m\u001b[0m\u001b[0;34m\u001b[0m\u001b[0m\n",
            "\u001b[0;32m<ipython-input-11-604bf38d3315>\u001b[0m in \u001b[0;36m<listcomp>\u001b[0;34m(.0)\u001b[0m\n\u001b[1;32m     13\u001b[0m \u001b[0;34m\u001b[0m\u001b[0m\n\u001b[1;32m     14\u001b[0m \u001b[0;31m# Plot the paths found by the search algorithms\u001b[0m\u001b[0;34m\u001b[0m\u001b[0;34m\u001b[0m\u001b[0m\n\u001b[0;32m---> 15\u001b[0;31m \u001b[0max\u001b[0m\u001b[0;34m.\u001b[0m\u001b[0mplot\u001b[0m\u001b[0;34m(\u001b[0m\u001b[0;34m[\u001b[0m\u001b[0mpos\u001b[0m\u001b[0;34m[\u001b[0m\u001b[0;36m1\u001b[0m\u001b[0;34m]\u001b[0m \u001b[0;32mfor\u001b[0m \u001b[0mpos\u001b[0m \u001b[0;32min\u001b[0m \u001b[0mpath_dijkstra\u001b[0m\u001b[0;34m]\u001b[0m\u001b[0;34m,\u001b[0m \u001b[0;34m[\u001b[0m\u001b[0mpos\u001b[0m\u001b[0;34m[\u001b[0m\u001b[0;36m0\u001b[0m\u001b[0;34m]\u001b[0m \u001b[0;32mfor\u001b[0m \u001b[0mpos\u001b[0m \u001b[0;32min\u001b[0m \u001b[0mpath_dijkstra\u001b[0m\u001b[0;34m]\u001b[0m\u001b[0;34m,\u001b[0m \u001b[0mcolor\u001b[0m\u001b[0;34m=\u001b[0m\u001b[0;34m'orange'\u001b[0m\u001b[0;34m,\u001b[0m \u001b[0mlabel\u001b[0m\u001b[0;34m=\u001b[0m\u001b[0;34m'Dijkstra'\u001b[0m\u001b[0;34m)\u001b[0m\u001b[0;34m\u001b[0m\u001b[0;34m\u001b[0m\u001b[0m\n\u001b[0m\u001b[1;32m     16\u001b[0m \u001b[0max\u001b[0m\u001b[0;34m.\u001b[0m\u001b[0mplot\u001b[0m\u001b[0;34m(\u001b[0m\u001b[0;34m[\u001b[0m\u001b[0mpos\u001b[0m\u001b[0;34m[\u001b[0m\u001b[0;36m1\u001b[0m\u001b[0;34m]\u001b[0m \u001b[0;32mfor\u001b[0m \u001b[0mpos\u001b[0m \u001b[0;32min\u001b[0m \u001b[0mpath_a_star\u001b[0m\u001b[0;34m]\u001b[0m\u001b[0;34m,\u001b[0m \u001b[0;34m[\u001b[0m\u001b[0mpos\u001b[0m\u001b[0;34m[\u001b[0m\u001b[0;36m0\u001b[0m\u001b[0;34m]\u001b[0m \u001b[0;32mfor\u001b[0m \u001b[0mpos\u001b[0m \u001b[0;32min\u001b[0m \u001b[0mpath_a_star\u001b[0m\u001b[0;34m]\u001b[0m\u001b[0;34m,\u001b[0m \u001b[0mcolor\u001b[0m\u001b[0;34m=\u001b[0m\u001b[0;34m'green'\u001b[0m\u001b[0;34m,\u001b[0m \u001b[0mlabel\u001b[0m\u001b[0;34m=\u001b[0m\u001b[0;34m'A*'\u001b[0m\u001b[0;34m)\u001b[0m\u001b[0;34m\u001b[0m\u001b[0;34m\u001b[0m\u001b[0m\n\u001b[1;32m     17\u001b[0m \u001b[0;31m#ax.plot([pos[1] for pos in path_bfs], [pos[0] for pos in path_bfs], color='purple', label='BFS')\u001b[0m\u001b[0;34m\u001b[0m\u001b[0;34m\u001b[0m\u001b[0m\n",
            "\u001b[0;31mKeyError\u001b[0m: 1"
          ]
        },
        {
          "output_type": "display_data",
          "data": {
            "text/plain": [
              "<Figure size 640x480 with 1 Axes>"
            ],
            "image/png": "[encoded data removed]"
          },
          "metadata": {}
        }
      ]
    },
    {
      "cell_type": "code",
      "source": [
        "# Define a function to display the map with the path\n",
        "def display_map_with_path(path):\n",
        "    path_array = np.array(map_array, dtype='<U2')\n",
        "    for pos in path:\n",
        "        path_array[pos] = '*'\n",
        "    print(path_array)"
      ],
      "metadata": {
        "id": "NRCmbeiI6FXV"
      },
      "execution_count": null,
      "outputs": []
    },
    {
      "cell_type": "code",
      "source": [
        "def reconstruct_path(came_from, start, end):\n",
        "    current = end\n",
        "    path = [current]\n",
        "    while current != start:\n",
        "        current = came_from[current]\n",
        "        path.append(current)\n",
        "    path.reverse()\n",
        "    return path\n"
      ],
      "metadata": {
        "id": "L6hlX29U99_5"
      },
      "execution_count": null,
      "outputs": []
    },
    {
      "cell_type": "code",
      "source": [
        "# Run the search algorithms and display the results\n",
        "print('A* search:')\n",
        "came_from, cost_so_far = a_star_search(start, end, map)\n",
        "path = reconstruct_path(came_from, start, end)\n",
        "print('Path:', path)\n",
        "display_map_with_path(path)\n",
        "\n",
        "print('Dijkstra search:')\n",
        "came_from, cost_so_far = dijkstra_search(start, end, map)\n",
        "path = reconstruct_path(came_from, start, end)\n",
        "print('Path:', path)\n",
        "display_map_with_path(path)\n",
        "\n",
        "print('Breadth-first search:')\n",
        "came_from, cost_so_far = bfs_search(start, end, map)\n",
        "path = reconstruct_path(came_from, start, end)\n",
        "print('Path:', path)\n",
        "display_map_with_path(path)\n"
      ],
      "metadata": {
        "colab": {
          "base_uri": "https://localhost:8080/",
          "height": 375
        },
        "id": "W1KEw-UJ6Gyq",
        "outputId": "4ce30c5d-3995-4721-cca0-ebfb7400de82"
      },
      "execution_count": null,
      "outputs": [
        {
          "output_type": "stream",
          "name": "stdout",
          "text": [
            "A* search:\n"
          ]
        },
        {
          "output_type": "error",
          "ename": "KeyError",
          "evalue": "ignored",
          "traceback": [
            "\u001b[0;31m---------------------------------------------------------------------------\u001b[0m",
            "\u001b[0;31mKeyError\u001b[0m                                  Traceback (most recent call last)",
            "\u001b[0;32m<ipython-input-20-a8155bef723f>\u001b[0m in \u001b[0;36m<cell line: 4>\u001b[0;34m()\u001b[0m\n\u001b[1;32m      2\u001b[0m \u001b[0mprint\u001b[0m\u001b[0;34m(\u001b[0m\u001b[0;34m'A* search:'\u001b[0m\u001b[0;34m)\u001b[0m\u001b[0;34m\u001b[0m\u001b[0;34m\u001b[0m\u001b[0m\n\u001b[1;32m      3\u001b[0m \u001b[0mcame_from\u001b[0m\u001b[0;34m,\u001b[0m \u001b[0mcost_so_far\u001b[0m \u001b[0;34m=\u001b[0m \u001b[0ma_star_search\u001b[0m\u001b[0;34m(\u001b[0m\u001b[0mstart\u001b[0m\u001b[0;34m,\u001b[0m \u001b[0mend\u001b[0m\u001b[0;34m,\u001b[0m \u001b[0mmap\u001b[0m\u001b[0;34m)\u001b[0m\u001b[0;34m\u001b[0m\u001b[0;34m\u001b[0m\u001b[0m\n\u001b[0;32m----> 4\u001b[0;31m \u001b[0mpath\u001b[0m \u001b[0;34m=\u001b[0m \u001b[0mreconstruct_path\u001b[0m\u001b[0;34m(\u001b[0m\u001b[0mcame_from\u001b[0m\u001b[0;34m,\u001b[0m \u001b[0mstart\u001b[0m\u001b[0;34m,\u001b[0m \u001b[0mend\u001b[0m\u001b[0;34m)\u001b[0m\u001b[0;34m\u001b[0m\u001b[0;34m\u001b[0m\u001b[0m\n\u001b[0m\u001b[1;32m      5\u001b[0m \u001b[0mprint\u001b[0m\u001b[0;34m(\u001b[0m\u001b[0;34m'Path:'\u001b[0m\u001b[0;34m,\u001b[0m \u001b[0mpath\u001b[0m\u001b[0;34m)\u001b[0m\u001b[0;34m\u001b[0m\u001b[0;34m\u001b[0m\u001b[0m\n\u001b[1;32m      6\u001b[0m \u001b[0mdisplay_map_with_path\u001b[0m\u001b[0;34m(\u001b[0m\u001b[0mpath\u001b[0m\u001b[0;34m)\u001b[0m\u001b[0;34m\u001b[0m\u001b[0;34m\u001b[0m\u001b[0m\n",
            "\u001b[0;32m<ipython-input-18-79c3c3d9cf8e>\u001b[0m in \u001b[0;36mreconstruct_path\u001b[0;34m(came_from, start, end)\u001b[0m\n\u001b[1;32m      3\u001b[0m     \u001b[0mpath\u001b[0m \u001b[0;34m=\u001b[0m \u001b[0;34m[\u001b[0m\u001b[0mcurrent\u001b[0m\u001b[0;34m]\u001b[0m\u001b[0;34m\u001b[0m\u001b[0;34m\u001b[0m\u001b[0m\n\u001b[1;32m      4\u001b[0m     \u001b[0;32mwhile\u001b[0m \u001b[0mcurrent\u001b[0m \u001b[0;34m!=\u001b[0m \u001b[0mstart\u001b[0m\u001b[0;34m:\u001b[0m\u001b[0;34m\u001b[0m\u001b[0;34m\u001b[0m\u001b[0m\n\u001b[0;32m----> 5\u001b[0;31m         \u001b[0mcurrent\u001b[0m \u001b[0;34m=\u001b[0m \u001b[0mcame_from\u001b[0m\u001b[0;34m[\u001b[0m\u001b[0mcurrent\u001b[0m\u001b[0;34m]\u001b[0m\u001b[0;34m\u001b[0m\u001b[0;34m\u001b[0m\u001b[0m\n\u001b[0m\u001b[1;32m      6\u001b[0m         \u001b[0mpath\u001b[0m\u001b[0;34m.\u001b[0m\u001b[0mappend\u001b[0m\u001b[0;34m(\u001b[0m\u001b[0mcurrent\u001b[0m\u001b[0;34m)\u001b[0m\u001b[0;34m\u001b[0m\u001b[0;34m\u001b[0m\u001b[0m\n\u001b[1;32m      7\u001b[0m     \u001b[0mpath\u001b[0m\u001b[0;34m.\u001b[0m\u001b[0mreverse\u001b[0m\u001b[0;34m(\u001b[0m\u001b[0;34m)\u001b[0m\u001b[0;34m\u001b[0m\u001b[0;34m\u001b[0m\u001b[0m\n",
            "\u001b[0;31mKeyError\u001b[0m: (5, 5)"
          ]
        }
      ]
    }
  ]
}